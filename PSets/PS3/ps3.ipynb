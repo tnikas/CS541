{
  "cells": [
    {
      "cell_type": "markdown",
      "id": "RtyaMANFEZKH",
      "metadata": {
        "id": "RtyaMANFEZKH"
      },
      "source": [
        "# CS541: Applied Machine Learning, Spring 2025, Problem Set 3\n",
        "### _Note: Do not delete or add blocks, do not change the function names. If you do this the autograder won't run properly and you might get a 0. Avoid using global variables inside your function. Failing to define your variables correctly could result in a score of 0._\n",
        "\n",
        "Problem set 3 is due in Gradescope on **Mar 27 at 11:59pm**.\n",
        "All the questions are in this jupyter notebook file. There are four questions in this assignment, each of which could have multiple parts and consists of a mix of coding and short answer questions. This assignment is worth a total of **103 points** (**53 pts** coding, and **50 pts** short answer).  Note that each individual pset contributes the same amount to the final grade regardless of the number of points it is worth.\n",
        "\n",
        "After completing these questions you will need to covert this notebook into a .py file named **ps3.py** and a pdf file named **ps3.pdf** in order to submit it. Additionally, upload all your typed codes (details below).\n",
        "\n",
        "**Submission instructions:** please upload your completed solution files to Gradescope by the due date. **Make sure you have run all code cells and rendered all markdown/Latex without any errors.**\n",
        "\n",
        "There will be three separate submission links for the assignment:\n",
        "1. Submit **ps3.py** to `PS3-Code`\n",
        "2. Submit **ONLY your typed code** to `PS3-Typed Code`.\n",
        "  + The .py file should contain **ONLY your typed code** (Do not include any other code apart from what you coded for the assignment).\n",
        "  + The .py should not contain any written answers. Only the code you wrote.\n",
        "  + If your typed code falls under a function definition thats predefined by us, **ONLY include your typed code** and nothing else.\n",
        "  + For each cell block within colab/jupyter that you typed your ocde in, Add 2 new lines (\"\\n\") before pasting your typed code in the .py file.\n",
        "  + Please name the .py file your actual name.\n",
        "\n",
        "3. Submit a single `.pdf` report that contains your work for all written questions to `PS3`. You can type your responses in LaTeX, or any other word processing software.  You can also hand write them on a tablet, or scan in hand-written answers. If you hand-write, please make sure they are neat and legible. If you are scanning, make sure that the scans are legible. Lastly, convert your work into a `PDF`. You can use Jupyter Notebook to convert the formats:\n",
        "  + Convert to PDF file: Go to File->Download as->PDF\n",
        "  + Convert py file: Go to File->Download as->py\\\n",
        "You can take a look at an example [here](https://raw.githubusercontent.com/chaudatascience/cs599_fall2022/master/ps1/convert_py.gif)\n",
        "\n",
        "  Your written responses in the PDF report should be self-contained. It should include all the output you want us to look at. **You will not receive credit for any results you have obtained, but failed to include directly in the PDF report file.  Please tag the reponses in your PDF with the Gradescope questions outline  as described in [Submitting an Assignment](https://youtu.be/u-pK4GzpId0). Failure to follow these instructions will result in a loss of points.**\n",
        "  \n"
      ]
    },
    {
      "cell_type": "markdown",
      "id": "a636aea4",
      "metadata": {
        "id": "a636aea4",
        "tags": []
      },
      "source": [
        "**Assignment Setup**\n",
        "\n",
        "You are strongly encouraged to use [Google Colab](https://colab.research.google.com/) for this assignment.\n",
        "\n",
        "If you would prefer to setup your code locally on your own machine, you will need [Jupyter Notebook](https://jupyter.org/install#jupyter-notebook) or [JupyterLab](https://jupyter.org/install#jupyterlab) installation. One way to set it up is to install “Anaconda” distribution, which has Python (you should install python version >= 3.9 as this notebook is tested with python 3.9), several libraries including the Jupyter Notebook that we will use in class. It is available for Windows, Linux, and Mac OS X [here](https://docs.conda.io/en/latest/miniconda.html).\n",
        "\n",
        "If you are not familiar with Jupyter Notebook, you can follow [this blog](https://realpython.com/jupyter-notebook-introduction/) for an introduction.  After developing your code using Jupyter, you are encouraged to test it on Google Colab to ensure it works in both settings.\n",
        "\n",
        "\n",
        "You cannot use packages other than the ones already imported in this assignment.\n"
      ]
    },
    {
      "cell_type": "markdown",
      "id": "5d1e0656",
      "metadata": {
        "id": "5d1e0656"
      },
      "source": [
        "**Jupyter Tip 1**: To run a cell, press `Shift+Enter` or click on \"play\" button above. To edit any code or text cell [double] click on its content. To change cell type, choose \"Markdown\" or \"Code\" in the drop-down menu above.\n"
      ]
    },
    {
      "cell_type": "markdown",
      "id": "487a798b",
      "metadata": {
        "id": "487a798b"
      },
      "source": [
        "**Jupyter Tip 2**: Use shortcut \"Shift + Tab\" to show the documentation of a function in Jupyter Notebook/ Jupterlab. Press Shift then double Tab (i.e., press Tab twice) to show the full documentation.\\\n",
        "For example, type `sum(` then Shift + Tab to show the documentation for the function, as shown in this the picture below."
      ]
    },
    {
      "cell_type": "code",
      "execution_count": 1,
      "id": "457fa897",
      "metadata": {
        "id": "457fa897"
      },
      "outputs": [
        {
          "name": "stderr",
          "output_type": "stream",
          "text": [
            "<frozen importlib._bootstrap>:228: RuntimeWarning: scipy._lib.messagestream.MessageStream size changed, may indicate binary incompatibility. Expected 56 from C header, got 64 from PyObject\n"
          ]
        }
      ],
      "source": [
        "## import some libraries\n",
        "import sklearn\n",
        "from sklearn import datasets\n",
        "import numpy as np\n",
        "from typing import Tuple, List, Dict\n",
        "import pandas as pd\n",
        "import matplotlib.pyplot as plt\n",
        "import seaborn as sns\n",
        "from sklearn.preprocessing import StandardScaler\n",
        "from sklearn.model_selection import cross_val_score, train_test_split\n",
        "from sklearn.metrics import mean_squared_error\n",
        "from scipy.spatial.distance import cdist\n",
        "from sklearn.tree import DecisionTreeRegressor\n",
        "from sklearn import tree\n",
        "from tqdm import tqdm"
      ]
    },
    {
      "cell_type": "markdown",
      "id": "AEWiGFpCkK65",
      "metadata": {
        "id": "AEWiGFpCkK65"
      },
      "source": [
        "# **Question 1.** Linear Regression (*15 total points*)"
      ]
    },
    {
      "cell_type": "markdown",
      "id": "8c8b190b",
      "metadata": {
        "id": "8c8b190b"
      },
      "source": [
        "## **1.1 Code:** Linear Regression using Sklearn *(5 pts)*"
      ]
    },
    {
      "cell_type": "markdown",
      "id": "AmQUHlOraxsR",
      "metadata": {
        "id": "AmQUHlOraxsR"
      },
      "source": [
        "In this section, we will work with a demo dataset. The data consists of 2 columns: `hours_practice` (number of hours to practice) and `score`."
      ]
    },
    {
      "cell_type": "code",
      "execution_count": 2,
      "id": "EKz_mrMyYfRI",
      "metadata": {
        "colab": {
          "base_uri": "https://localhost:8080/",
          "height": 192
        },
        "id": "EKz_mrMyYfRI",
        "outputId": "02d2f007-99c2-41e0-9d3a-bb124dcc462a"
      },
      "outputs": [
        {
          "name": "stdout",
          "output_type": "stream",
          "text": [
            "data shape: (100, 2)\n"
          ]
        },
        {
          "data": {
            "text/html": [
              "<div>\n",
              "<style scoped>\n",
              "    .dataframe tbody tr th:only-of-type {\n",
              "        vertical-align: middle;\n",
              "    }\n",
              "\n",
              "    .dataframe tbody tr th {\n",
              "        vertical-align: top;\n",
              "    }\n",
              "\n",
              "    .dataframe thead th {\n",
              "        text-align: right;\n",
              "    }\n",
              "</style>\n",
              "<table border=\"1\" class=\"dataframe\">\n",
              "  <thead>\n",
              "    <tr style=\"text-align: right;\">\n",
              "      <th></th>\n",
              "      <th>hours_practice</th>\n",
              "      <th>score</th>\n",
              "    </tr>\n",
              "  </thead>\n",
              "  <tbody>\n",
              "    <tr>\n",
              "      <th>77</th>\n",
              "      <td>36.930077</td>\n",
              "      <td>55.231661</td>\n",
              "    </tr>\n",
              "    <tr>\n",
              "      <th>46</th>\n",
              "      <td>40.166899</td>\n",
              "      <td>54.084055</td>\n",
              "    </tr>\n",
              "    <tr>\n",
              "      <th>22</th>\n",
              "      <td>47.481209</td>\n",
              "      <td>57.251819</td>\n",
              "    </tr>\n",
              "    <tr>\n",
              "      <th>79</th>\n",
              "      <td>38.954769</td>\n",
              "      <td>44.847124</td>\n",
              "    </tr>\n",
              "  </tbody>\n",
              "</table>\n",
              "</div>"
            ],
            "text/plain": [
              "    hours_practice      score\n",
              "77       36.930077  55.231661\n",
              "46       40.166899  54.084055\n",
              "22       47.481209  57.251819\n",
              "79       38.954769  44.847124"
            ]
          },
          "execution_count": 2,
          "metadata": {},
          "output_type": "execute_result"
        }
      ],
      "source": [
        "## Read the dataset\n",
        "df = pd.read_csv(\"https://raw.githubusercontent.com/chaudatascience/cs599_fall2022/master/ps3/linear_data.csv\")\n",
        "print(\"data shape:\", df.shape)\n",
        "df.sample(4)"
      ]
    },
    {
      "cell_type": "code",
      "execution_count": 3,
      "id": "53ee3b8b",
      "metadata": {
        "id": "53ee3b8b"
      },
      "outputs": [],
      "source": [
        "## Extract features and labels as numpy arrays\n",
        "X = df.values[:,0:1]  # features\n",
        "y = df.values[:,1]  # labels"
      ]
    },
    {
      "cell_type": "code",
      "execution_count": 4,
      "id": "ip88NQ6emjrS",
      "metadata": {
        "colab": {
          "base_uri": "https://localhost:8080/",
          "height": 467
        },
        "id": "ip88NQ6emjrS",
        "outputId": "35439db7-4dde-46df-dcbe-9ac56120a4bf"
      },
      "outputs": [
        {
          "data": {
            "text/plain": [
              "<Axes: xlabel='hours_practice', ylabel='score'>"
            ]
          },
          "execution_count": 4,
          "metadata": {},
          "output_type": "execute_result"
        },
        {
          "data": {
            "image/png": "[encoded data removed]",
            "text/plain": [
              "<Figure size 432x288 with 1 Axes>"
            ]
          },
          "metadata": {
            "needs_background": "light"
          },
          "output_type": "display_data"
        }
      ],
      "source": [
        "## Plot the dataset\n",
        "sns.scatterplot(data=df, x=\"hours_practice\", y=\"score\")"
      ]
    },
    {
      "cell_type": "markdown",
      "id": "a688e300",
      "metadata": {
        "id": "a688e300"
      },
      "source": [
        "In this section, we will train a Linear Regression model on the dataset using Sklearn.\n",
        "You can refer to the document of Linear Regression [here](https://scikit-learn.org/stable/modules/generated/sklearn.linear_model.LinearRegression.html)."
      ]
    },
    {
      "cell_type": "code",
      "execution_count": 5,
      "id": "73dcaaac",
      "metadata": {
        "id": "73dcaaac"
      },
      "outputs": [],
      "source": [
        "from sklearn.linear_model import LinearRegression\n",
        "\n",
        "def question_1_1(X: np.ndarray, y: np.ndarray) -> LinearRegression:\n",
        "    \"\"\"\n",
        "    Train a Sklearn's Linear Regression model on features `X` and labels `y`.\n",
        "    X: 2d numpy array, shape of (num_samples, feat_dim)\n",
        "    y: numpy array, shape of (num_samples, )\n",
        "    return a trained Linear Regression model\n",
        "\n",
        "    \"\"\"\n",
        "    # Write your code in this block -----------------------------------------------------------\n",
        "    model = LinearRegression()\n",
        "    model.fit(X, y)\n",
        "    # End of your code -----------------------------------------------------------\n",
        "\n",
        "    return model\n"
      ]
    },
    {
      "cell_type": "code",
      "execution_count": 6,
      "id": "5e077ff2",
      "metadata": {
        "colab": {
          "base_uri": "https://localhost:8080/",
          "height": 500
        },
        "id": "5e077ff2",
        "outputId": "a4b7d6b6-0ba1-47a6-ff64-291aa94e3692"
      },
      "outputs": [
        {
          "name": "stdout",
          "output_type": "stream",
          "text": [
            "Model slope:     [1.32243102]\n",
            "Model intercept: 7.991020982270399\n"
          ]
        },
        {
          "data": {
            "image/png": "[encoded data removed]",
            "text/plain": [
              "<Figure size 720x360 with 1 Axes>"
            ]
          },
          "metadata": {
            "needs_background": "light"
          },
          "output_type": "display_data"
        }
      ],
      "source": [
        "## Test your model\n",
        "def plot_model(linear_model, X, y, start, end):\n",
        "    print(\"Model slope:    \", linear_model.coef_)\n",
        "    print(\"Model intercept:\", linear_model.intercept_)\n",
        "\n",
        "    xfit = np.linspace(start, end, 500)[:, np.newaxis]\n",
        "    if len(linear_model.coef_) == 2:\n",
        "        xfit = np.concatenate([xfit, xfit**2], axis=1)\n",
        "    yfit = linear_model.predict(xfit)\n",
        "\n",
        "    plt.figure(figsize=(10,5))\n",
        "    plt.scatter(X[:,0], y, s=5)\n",
        "    plt.xlabel(\"hours_practice\")\n",
        "    plt.ylabel(\"score\")\n",
        "    plt.plot(xfit[:,0], yfit, 'r+')\n",
        "\n",
        "# Get your model\n",
        "linear_model = question_1_1(X, y)\n",
        "\n",
        "# Plot: Your regression line is the red line as shown below\n",
        "start, end = 20, 80  # start and end of the line\n",
        "plot_model(linear_model, X, y, start, end)"
      ]
    },
    {
      "cell_type": "markdown",
      "id": "022a50c6",
      "metadata": {
        "id": "022a50c6"
      },
      "source": [
        "## **1.2 Code:** Polynomial features *(5 pts)*"
      ]
    },
    {
      "cell_type": "markdown",
      "id": "3112db28",
      "metadata": {
        "id": "3112db28"
      },
      "source": [
        "Let's take a look at another demo dataset"
      ]
    },
    {
      "cell_type": "code",
      "execution_count": 7,
      "id": "9aafcc36",
      "metadata": {
        "colab": {
          "base_uri": "https://localhost:8080/",
          "height": 462
        },
        "id": "9aafcc36",
        "outputId": "f8798fbf-ce31-40b3-d2b5-d431ef506794"
      },
      "outputs": [
        {
          "data": {
            "text/plain": [
              "<matplotlib.collections.PathCollection at 0x7fd2b31c28b0>"
            ]
          },
          "execution_count": 7,
          "metadata": {},
          "output_type": "execute_result"
        },
        {
          "data": {
            "image/png": "[encoded data removed]",
            "text/plain": [
              "<Figure size 720x360 with 1 Axes>"
            ]
          },
          "metadata": {
            "needs_background": "light"
          },
          "output_type": "display_data"
        }
      ],
      "source": [
        "data = pd.read_csv(\"https://raw.githubusercontent.com/chaudatascience/cs599_fall2022/master/ps3/polynomial.csv\").values\n",
        "X2, y2 = data[:,:1], data[:,1]\n",
        "plt.figure(figsize=(10,5))\n",
        "plt.scatter(X2, y2, s=8)"
      ]
    },
    {
      "cell_type": "markdown",
      "id": "fc7a075f",
      "metadata": {
        "id": "fc7a075f"
      },
      "source": [
        "We can see that the dataset is not linear. In other words, using a line can not capture the pattern in the data, resulting in underfitting. To solve this, we need to make our model a bit more complex.\n",
        "\n",
        "There is a trick we can use to capture nonlinear relationships between variables: We first transform existing feature by some basic function, then use the generated data as new feature.\n",
        "\n",
        "For example, with a linear regression for 1-d feature $x$:\n",
        "\n",
        "$$Y=\\theta_0+\\theta_1 x$$\n",
        "\n",
        "We can transform the input feature $x$ to get a new feature, such as $x$ squared and consider it as a new feature.\n",
        "We now have 2 features, and the model becomes polynomial regression:\n",
        "\n",
        "$$Y=\\theta_0+\\theta_1 x+\\theta_2 x^2$$\n",
        "\n",
        "We can keep adding: $$Y=\\theta_0+\\theta_1 x+\\theta_2 x^2+ \\theta_3 x^3 + ....$$ to get even more complex model."
      ]
    },
    {
      "cell_type": "markdown",
      "id": "e0f4a058",
      "metadata": {
        "id": "e0f4a058"
      },
      "source": [
        "You will need to write a function to concatenate $X^2$ as a feature alongside X. So, now, the training data `X_new` will have X and $X^2$ as the features"
      ]
    },
    {
      "cell_type": "code",
      "execution_count": 8,
      "id": "faf0ee0c",
      "metadata": {
        "colab": {
          "base_uri": "https://localhost:8080/"
        },
        "id": "faf0ee0c",
        "outputId": "4cf3b3c7-ed91-42cd-cebc-cddb8b38a1d3"
      },
      "outputs": [
        {
          "name": "stdout",
          "output_type": "stream",
          "text": [
            "X_new.shape (100, 2)\n",
            "[[-3.29215704 10.83829796]\n",
            " [ 0.79952837  0.63924562]\n",
            " [-0.93621395  0.87649656]\n",
            " [-4.7226796  22.30370258]\n",
            " [-3.60267397 12.97925974]]\n"
          ]
        }
      ],
      "source": [
        "def question_1_2(X: np.ndarray) -> np.ndarray:\n",
        "    \"\"\"\n",
        "        Given numpy array X, shape of (num_sample, 1).\n",
        "        Return a numpy array, shape of (num_sample, 2) by adding a new column to the right of X.\n",
        "        The new column is the square of the existing column in X\n",
        "    \"\"\"\n",
        "    # Write your code in this block -----------------------------------------------------------\n",
        "    X_squared = X ** 2\n",
        "    X_new = np.hstack((X, X_squared))\n",
        "    return X_new\n",
        "    # End of your code -----------------------------------------------------------\n",
        "\n",
        "\n",
        "## Test your function\n",
        "X_new = question_1_2(X2)\n",
        "print(\"X_new.shape\", X_new.shape)\n",
        "print(X_new[:5]) # show the first 5 samples"
      ]
    },
    {
      "cell_type": "code",
      "execution_count": 9,
      "id": "21a2cd79",
      "metadata": {
        "colab": {
          "base_uri": "https://localhost:8080/",
          "height": 500
        },
        "id": "21a2cd79",
        "outputId": "c4f66835-415e-4e50-f318-45a1ef1ec9e1"
      },
      "outputs": [
        {
          "name": "stdout",
          "output_type": "stream",
          "text": [
            "Model slope:     [2.60168213 2.76791169]\n",
            "Model intercept: -20.63185125272492\n"
          ]
        },
        {
          "data": {
            "image/png": "[encoded data removed]",
            "text/plain": [
              "<Figure size 720x360 with 1 Axes>"
            ]
          },
          "metadata": {
            "needs_background": "light"
          },
          "output_type": "display_data"
        }
      ],
      "source": [
        "## Plot the new model (in red)\n",
        "new_linear_model = question_1_1(X_new, y2)\n",
        "plot_model(new_linear_model, X_new, y2, start=-5, end=12)"
      ]
    },
    {
      "cell_type": "markdown",
      "id": "5a7c9421",
      "metadata": {
        "id": "5a7c9421"
      },
      "source": [
        "We can see the curve fits the data much better than a straight line."
      ]
    },
    {
      "cell_type": "markdown",
      "id": "c1a05349",
      "metadata": {
        "id": "c1a05349"
      },
      "source": [
        "## **1.3 Short answer:**  Linear model *(5 pts)*\n",
        "**Question:**\n",
        "    What is the shape of the curve (linear, or non-linear?)\n",
        "    Is the model still considered to be a linear model?"
      ]
    },
    {
      "cell_type": "markdown",
      "id": "0ed25db3",
      "metadata": {
        "id": "0ed25db3"
      },
      "source": [
        "The curve is non linear because adding $X^2$ allows the model to capture the bend in the data. However, the model is still a linear model because it remains linear in the parameters $\\theta$, even though the input is non-linear."
      ]
    },
    {
      "cell_type": "markdown",
      "id": "8191cbb6",
      "metadata": {
        "id": "8191cbb6"
      },
      "source": [
        "# Question 2. Linear Regression with Regularization *(15 total points*)"
      ]
    },
    {
      "cell_type": "markdown",
      "id": "3e9bec4b",
      "metadata": {
        "id": "3e9bec4b"
      },
      "source": [
        "With basis functions, our model become more flexible, but it comes with a cost: The model is easier to over-fitting. One way to reduce overfitting is to penalize higher degree polynomials. This ensures that we only use the higher degree polynomials if the error is significantly reduced compared to a simpler model.\n",
        "\n",
        "In this section, we will work on Boston Housing dataset. This dataset was taken from the [StatLib library](http://lib.stat.cmu.edu/datasets/) which is maintained at Carnegie Mellon University. It consists of 13 continous features and a numerical target named *MEDV*. For more details about the dataset, you can refer [this link](https://raw.githubusercontent.com/chaudatascience/cs599_fall2022/master/ps3/boston_housing_name.txt).\n",
        "\n",
        "Our goal is to train a linear regression model with regularization to learn the relationship between suburb characteristics and house prices.\n"
      ]
    },
    {
      "cell_type": "code",
      "execution_count": 10,
      "id": "1337c79a",
      "metadata": {
        "colab": {
          "base_uri": "https://localhost:8080/",
          "height": 223
        },
        "id": "1337c79a",
        "outputId": "094fe671-0811-43c0-93bb-3ab0670fa1e0"
      },
      "outputs": [
        {
          "name": "stdout",
          "output_type": "stream",
          "text": [
            "df.shape (506, 14)\n"
          ]
        },
        {
          "data": {
            "text/html": [
              "<div>\n",
              "<style scoped>\n",
              "    .dataframe tbody tr th:only-of-type {\n",
              "        vertical-align: middle;\n",
              "    }\n",
              "\n",
              "    .dataframe tbody tr th {\n",
              "        vertical-align: top;\n",
              "    }\n",
              "\n",
              "    .dataframe thead th {\n",
              "        text-align: right;\n",
              "    }\n",
              "</style>\n",
              "<table border=\"1\" class=\"dataframe\">\n",
              "  <thead>\n",
              "    <tr style=\"text-align: right;\">\n",
              "      <th></th>\n",
              "      <th>CRIM</th>\n",
              "      <th>ZN</th>\n",
              "      <th>INDUS</th>\n",
              "      <th>CHAS</th>\n",
              "      <th>NOX</th>\n",
              "      <th>RM</th>\n",
              "      <th>AGE</th>\n",
              "      <th>DIS</th>\n",
              "      <th>RAD</th>\n",
              "      <th>TAX</th>\n",
              "      <th>PTRATIO</th>\n",
              "      <th>B</th>\n",
              "      <th>LSTAT</th>\n",
              "      <th>MEDV</th>\n",
              "    </tr>\n",
              "  </thead>\n",
              "  <tbody>\n",
              "    <tr>\n",
              "      <th>93</th>\n",
              "      <td>0.02875</td>\n",
              "      <td>28.0</td>\n",
              "      <td>15.04</td>\n",
              "      <td>0</td>\n",
              "      <td>0.464</td>\n",
              "      <td>6.211</td>\n",
              "      <td>28.9</td>\n",
              "      <td>3.6659</td>\n",
              "      <td>4</td>\n",
              "      <td>270.0</td>\n",
              "      <td>18.2</td>\n",
              "      <td>396.33</td>\n",
              "      <td>6.21</td>\n",
              "      <td>25.0</td>\n",
              "    </tr>\n",
              "    <tr>\n",
              "      <th>323</th>\n",
              "      <td>0.28392</td>\n",
              "      <td>0.0</td>\n",
              "      <td>7.38</td>\n",
              "      <td>0</td>\n",
              "      <td>0.493</td>\n",
              "      <td>5.708</td>\n",
              "      <td>74.3</td>\n",
              "      <td>4.7211</td>\n",
              "      <td>5</td>\n",
              "      <td>287.0</td>\n",
              "      <td>19.6</td>\n",
              "      <td>391.13</td>\n",
              "      <td>11.74</td>\n",
              "      <td>18.5</td>\n",
              "    </tr>\n",
              "    <tr>\n",
              "      <th>138</th>\n",
              "      <td>0.24980</td>\n",
              "      <td>0.0</td>\n",
              "      <td>21.89</td>\n",
              "      <td>0</td>\n",
              "      <td>0.624</td>\n",
              "      <td>5.857</td>\n",
              "      <td>98.2</td>\n",
              "      <td>1.6686</td>\n",
              "      <td>4</td>\n",
              "      <td>437.0</td>\n",
              "      <td>21.2</td>\n",
              "      <td>392.04</td>\n",
              "      <td>21.32</td>\n",
              "      <td>13.3</td>\n",
              "    </tr>\n",
              "    <tr>\n",
              "      <th>353</th>\n",
              "      <td>0.01709</td>\n",
              "      <td>90.0</td>\n",
              "      <td>2.02</td>\n",
              "      <td>0</td>\n",
              "      <td>0.410</td>\n",
              "      <td>6.728</td>\n",
              "      <td>36.1</td>\n",
              "      <td>12.1265</td>\n",
              "      <td>5</td>\n",
              "      <td>187.0</td>\n",
              "      <td>17.0</td>\n",
              "      <td>384.46</td>\n",
              "      <td>4.50</td>\n",
              "      <td>30.1</td>\n",
              "    </tr>\n",
              "    <tr>\n",
              "      <th>81</th>\n",
              "      <td>0.04462</td>\n",
              "      <td>25.0</td>\n",
              "      <td>4.86</td>\n",
              "      <td>0</td>\n",
              "      <td>0.426</td>\n",
              "      <td>6.619</td>\n",
              "      <td>70.4</td>\n",
              "      <td>5.4007</td>\n",
              "      <td>4</td>\n",
              "      <td>281.0</td>\n",
              "      <td>19.0</td>\n",
              "      <td>395.63</td>\n",
              "      <td>7.22</td>\n",
              "      <td>23.9</td>\n",
              "    </tr>\n",
              "  </tbody>\n",
              "</table>\n",
              "</div>"
            ],
            "text/plain": [
              "        CRIM    ZN  INDUS  CHAS    NOX     RM   AGE      DIS  RAD    TAX  \\\n",
              "93   0.02875  28.0  15.04     0  0.464  6.211  28.9   3.6659    4  270.0   \n",
              "323  0.28392   0.0   7.38     0  0.493  5.708  74.3   4.7211    5  287.0   \n",
              "138  0.24980   0.0  21.89     0  0.624  5.857  98.2   1.6686    4  437.0   \n",
              "353  0.01709  90.0   2.02     0  0.410  6.728  36.1  12.1265    5  187.0   \n",
              "81   0.04462  25.0   4.86     0  0.426  6.619  70.4   5.4007    4  281.0   \n",
              "\n",
              "     PTRATIO       B  LSTAT  MEDV  \n",
              "93      18.2  396.33   6.21  25.0  \n",
              "323     19.6  391.13  11.74  18.5  \n",
              "138     21.2  392.04  21.32  13.3  \n",
              "353     17.0  384.46   4.50  30.1  \n",
              "81      19.0  395.63   7.22  23.9  "
            ]
          },
          "execution_count": 10,
          "metadata": {},
          "output_type": "execute_result"
        }
      ],
      "source": [
        "df = pd.read_csv(\"https://raw.githubusercontent.com/chaudatascience/cs599_fall2022/master/ps3/boston_housing.csv\")\n",
        "print(\"df.shape\", df.shape)\n",
        "df.sample(5)"
      ]
    },
    {
      "cell_type": "code",
      "execution_count": 11,
      "id": "0cb078f6",
      "metadata": {
        "colab": {
          "base_uri": "https://localhost:8080/"
        },
        "id": "0cb078f6",
        "outputId": "649409da-e3a7-4daa-8996-c7ba5956a548"
      },
      "outputs": [
        {
          "name": "stdout",
          "output_type": "stream",
          "text": [
            "(354, 13) (152, 13) (354,) (152,)\n"
          ]
        }
      ],
      "source": [
        "## Extract features and labels as numpy arrays\n",
        "X, y = df.iloc[:, :-1], df.iloc[:, -1]\n",
        "\n",
        "## Split to train, test\n",
        "X_train, X_test, y_train, y_test = train_test_split(X, y, random_state=42, test_size=0.3)\n",
        "\n",
        "## Check on the shapes\n",
        "print(X_train.shape, X_test.shape, y_train.shape, y_test.shape)"
      ]
    },
    {
      "cell_type": "markdown",
      "id": "bc3baf29",
      "metadata": {
        "id": "bc3baf29"
      },
      "source": [
        "Sklearn provides a useful module named [Pipeline](https://scikit-learn.org/stable/modules/generated/sklearn.pipeline.Pipeline.html) which comes in handy when we need to perform sequence of different transformations.\n",
        "\n",
        "An Example of using Pipeline is shown as below. We want to normalize the data, then create some new polynomial\n",
        "features, and finally a Linear model. Sklearn provides us\n",
        "[PolynomialFeatures](https://scikit-learn.org/stable/modules/generated/sklearn.preprocessing.PolynomialFeatures.html) for generating polynomial and interaction features."
      ]
    },
    {
      "cell_type": "code",
      "execution_count": 12,
      "id": "699aa9a8",
      "metadata": {
        "colab": {
          "base_uri": "https://localhost:8080/"
        },
        "id": "699aa9a8",
        "outputId": "e211ee6d-abb6-4b4b-f0da-1868175a0da4"
      },
      "outputs": [
        {
          "name": "stdout",
          "output_type": "stream",
          "text": [
            "Training score: 0.9425939451762557\n",
            "Test score: 0.6073241275695936\n"
          ]
        }
      ],
      "source": [
        "##\n",
        "from sklearn.preprocessing import PolynomialFeatures\n",
        "from sklearn.pipeline import Pipeline\n",
        "\n",
        "## Steps is a list of Tuple[step_name, transformation_object]\n",
        "steps = [\n",
        "    ('scalar', StandardScaler()),   ## normilaze data\n",
        "    ('poly', PolynomialFeatures(degree=2)),  ## add new features up to 2 degrees\n",
        "    ('model', LinearRegression()) ## Linear regression model\n",
        "]\n",
        "\n",
        "linear_pipe = Pipeline(steps)\n",
        "linear_pipe.fit(X_train, y_train)\n",
        "\n",
        "## Let's see how we perform on the training and test sets\n",
        "print('Training score: {}'.format(linear_pipe.score(X_train, y_train)))\n",
        "print('Test score: {}'.format(linear_pipe.score(X_test, y_test)))"
      ]
    },
    {
      "cell_type": "markdown",
      "id": "00a83d78",
      "metadata": {
        "id": "00a83d78"
      },
      "source": [
        "On training set, the model performs very well, but the score drops significantly on test set.\n",
        "This suggests that our model is overfitting.\n",
        "\n",
        "Now regulirization comes for the rescue.\n",
        "\n",
        "Recall that there are three main techniques for regularization in linear regression, where we add a regularization term to the loss:\n",
        "\n",
        "+   Lasso Regression (L1 regularization):   $\\alpha \\sum_{j=1}^n\\left|\\theta_j\\right|$\n",
        "+   Ridge Regression (L2 regularization):   $\\alpha \\sum_{j=1}^n\\left|\\theta^2_j\\right|$\n",
        "+   Elastic Net (Combine L1 and L2 regularizations):     $\\alpha_1 \\sum_{j=1}^n\\left|\\theta_j\\right| + \\alpha_2 \\sum_{j=1}^n\\left|\\theta^2_j\\right|$\n",
        "\n",
        "Where $n$ is the number of features, $\\alpha$ is regularization parameter, which controls the degree of regularization.\n",
        "\n",
        "In Sklearn, we can use `sklearn.linear_model.Lasso` for Linear Regression with L1 regularization. It also provides `sklearn.linear_model.Ridge` and `sklearn.linear_model.ElasticNet` for the other 2."
      ]
    },
    {
      "cell_type": "markdown",
      "id": "bbbc1683",
      "metadata": {
        "id": "bbbc1683"
      },
      "source": [
        "Similar to what we have done above, you should be able to perform a Linear Regresison with regularization.\n",
        "\n",
        "Complete the function below for Lasso and Ridge regression by using the code example above. In the function, you should define **`steps` the same as we use in the example:** First, a \"scalar\", then \"poly\" followed by a \"model\". The only thing different here is the model (`Lasso` and `Ridge`, instead of `LinearRegression`)"
      ]
    },
    {
      "cell_type": "markdown",
      "id": "98f65168",
      "metadata": {
        "id": "98f65168"
      },
      "source": [
        "## **2.1 Code:** Lasso and Ridge *(8 pts)*"
      ]
    },
    {
      "cell_type": "code",
      "execution_count": 13,
      "id": "1fe2cb9b",
      "metadata": {
        "id": "1fe2cb9b"
      },
      "outputs": [],
      "source": [
        "from sklearn.linear_model import Ridge, Lasso\n",
        "\n",
        "def question_2_1(regularization: str, alpha_1: float, alpha_2: float,\n",
        "                X_train, y_train, X_test, y_test) -> Tuple[float, float]:\n",
        "    \"\"\"\n",
        "        regularization: one of [\"L1\", \"L2\"]. If \"L1\", use Lasso, otherwise use Ridge.\n",
        "        alpha_1: regularization for Lasso (if Lasso is used)\n",
        "        alpha_2: regularization for Ridge (if Ridge is used)\n",
        "        X_train, y_train, X_test, y_test: numpy arrays, shapes (354, 13), (354,), (152, 13), (152,) respectively\n",
        "        return a Tuple: (train_score, test_score) in that order,\n",
        "        Note that train_score and test_score are float numbers in range [0,1]\n",
        "    \"\"\"\n",
        "    # Write your code in this block -----------------------------------------------------------\n",
        "    # You should define `steps` the same as we use in the example above:\n",
        "    #       first a \"scalar\", then \"poly\" followed by a \"model\".\n",
        "\n",
        "\n",
        "    ## Don't forget to return train and test scores!\n",
        "    if regularization == \"L1\":\n",
        "        model = Lasso(alpha=alpha_1)\n",
        "    else:\n",
        "        model = Ridge(alpha=alpha_2)\n",
        "    steps = [\n",
        "        ('scalar', StandardScaler()),\n",
        "        ('poly', PolynomialFeatures(degree=2)),\n",
        "        ('model', model)\n",
        "    ]\n",
        "\n",
        "    linear_pipe = Pipeline(steps)\n",
        "    linear_pipe.fit(X_train, y_train)\n",
        "    train_score = linear_pipe.score(X_train, y_train)\n",
        "    test_score = linear_pipe.score(X_test, y_test)\n",
        "    return train_score, test_score\n",
        "    # End of your code -----------------------------------------------------------"
      ]
    },
    {
      "cell_type": "code",
      "execution_count": 14,
      "id": "7d624d0a",
      "metadata": {
        "colab": {
          "base_uri": "https://localhost:8080/"
        },
        "id": "7d624d0a",
        "outputId": "3a6d247a-9ae5-44bb-f38b-0cb827efbea7"
      },
      "outputs": [
        {
          "name": "stdout",
          "output_type": "stream",
          "text": [
            "regularization: L1, train_score: 0.9070657101514069, test_score: 0.8055776105496002\n",
            "regularization: L2, train_score: 0.9304830234444311, test_score: 0.80790871195353\n"
          ]
        }
      ],
      "source": [
        "## Test your model\n",
        "alpha_1 = 0.1\n",
        "alpha_2 = 12\n",
        "for regularization in [\"L1\", \"L2\"]:\n",
        "    train_score, test_score = question_2_1(regularization, alpha_1, alpha_2,\n",
        "                                                         X_train, y_train, X_test, y_test)\n",
        "    print(f\"regularization: {regularization}, train_score: {train_score}, test_score: {test_score}\")\n",
        "\n"
      ]
    },
    {
      "cell_type": "markdown",
      "id": "936025e1",
      "metadata": {
        "id": "936025e1"
      },
      "source": [
        "## **2.2 Short answer:** Regularization Effects *(7 pts)*"
      ]
    },
    {
      "cell_type": "code",
      "execution_count": 15,
      "id": "b0a629e4",
      "metadata": {
        "colab": {
          "base_uri": "https://localhost:8080/",
          "height": 928
        },
        "id": "b0a629e4",
        "outputId": "5503adda-a273-448d-9c62-426b344eb125"
      },
      "outputs": [
        {
          "name": "stdout",
          "output_type": "stream",
          "text": [
            "coefficients of Lasso\n"
          ]
        },
        {
          "data": {
            "image/png": "[encoded data removed]",
            "text/plain": [
              "<Figure size 432x288 with 1 Axes>"
            ]
          },
          "metadata": {
            "needs_background": "light"
          },
          "output_type": "display_data"
        },
        {
          "name": "stdout",
          "output_type": "stream",
          "text": [
            "coefficients of Ridge\n"
          ]
        },
        {
          "data": {
            "image/png": "[encoded data removed]",
            "text/plain": [
              "<Figure size 432x288 with 1 Axes>"
            ]
          },
          "metadata": {
            "needs_background": "light"
          },
          "output_type": "display_data"
        }
      ],
      "source": [
        "alpha = 3\n",
        "lasso = Lasso(alpha).fit(X_train, y_train)\n",
        "ridge = Ridge(alpha).fit(X_train, y_train)\n",
        "\n",
        "# Here the input feature dimension is 13 (we are using X_train and not the degree 2 polynomial features.)\n",
        "# Recall that regularization will affect the coeffiecient placed on the features while making the prediction.\n",
        "# Let's see how the coefficients look like with Lasso and Ridge.\n",
        "\n",
        "coefficients = pd.DataFrame({\"feature\": list(range(len(lasso.coef_))), \"value (Lasso)\": lasso.coef_, \"value (Ridge)\": ridge.coef_})\n",
        "\n",
        "## coefficients of Lasso\n",
        "ax = sns.barplot(data=coefficients, x=\"feature\", y=\"value (Lasso)\")\n",
        "ax.set( ylim=(-4, 4)) ## set  min, max for the y-axis\n",
        "print(\"coefficients of Lasso\")\n",
        "plt.show()\n",
        "\n",
        "## coefficients of Ridge\n",
        "ax = sns.barplot(data=coefficients, x=\"feature\", y=\"value (Ridge)\")\n",
        "ax.set( ylim=(-4, 4)) ## set  min, max for the y-axis\n",
        "print(\"coefficients of Ridge\")\n",
        "plt.show()"
      ]
    },
    {
      "cell_type": "markdown",
      "id": "c30213b8",
      "metadata": {
        "id": "c30213b8"
      },
      "source": [
        "**Question:**\n",
        "\n",
        "**1. Compare the performance of the model with and without regularization.**\n",
        "\n",
        "**2. Compare the coefficients when using Lasso and Ridge.**\n",
        "\n",
        "**3. How does alpha in Lasso and Ridge affect the coefficients and performance? (i.e., what happens if we use very tiny alpha, or very large alpha? You can play around with some values of alpha by changing the value `alpha=3` or in `alpha_1` and `alpha_2` above to get an intuition for this.)**\n"
      ]
    },
    {
      "cell_type": "markdown",
      "id": "bfa569b8",
      "metadata": {
        "id": "bfa569b8"
      },
      "source": [
        "1. Without regularization, the model tends to overfit, performing well on training data but poorly on unseen data. Regularization helps by reducing large coefficients, making the model less sensitive to noise. This usually results in a lower training score but a higher test score, improving generalization.\n",
        "\n",
        "2. Lasso shrinks some coefficients to exactly zero, effectively selecting only a few features, as seen in the plot where most coefficients are zero except for a few. In contrast, Ridge reduces the magnitude of all coefficients but does not set any to zero, which is evident in the plot where all features still have some nonzero value. This means Lasso performs feature selection, while Ridge retains all features but shrinks them to prevent overfitting.\n",
        "\n",
        "3. The regularization parameter α controls how strongly Lasso and Ridge penalize large coefficients:\n",
        "\n",
        "    * Tiny α: The penalty is really small, so both Lasso and Ridge behave like ordinary linear regression, resulting in large coefficients and a high risk of overfitting. The training score remains high, but the test score often drops due to poor generalization.\n",
        "    \n",
        "    * Large α: Strong regularization forces coefficients to shrink. In Lasso, most coefficients become exactly zero, discarding important features. In Ridge, coefficients shrink but remain nonzero, preventing overfitting while still utilizing all features."
      ]
    },
    {
      "cell_type": "markdown",
      "id": "U_LleMrt38iJ",
      "metadata": {
        "id": "U_LleMrt38iJ"
      },
      "source": [
        "## **2.3 Short answer:** Regularization Effects 2 *(3 pts)*\n",
        "\n",
        "Suppose we know that only a few features are informative, while most are irrelevant (i.e., the data is sparse). Which regularization technique works best in this case?\n",
        "Explain your reasoning with examples. Hint: If we have 100 features but only 5 are important, how will Lasso and Ridge handle them differently?"
      ]
    },
    {
      "cell_type": "markdown",
      "id": "OgaebAhq4U24",
      "metadata": {
        "id": "OgaebAhq4U24"
      },
      "source": [
        "Lasso works best when only a few features are important because it applies L1 regularization, forcing irrelevant feature coefficients to zero. For example, if only 5 out of 100 features are useful, Lasso will eliminates the other 95, while Ridge will shrink all coefficients but keep them nonzero. This makes Lasso better for sparse data, i.e., many \"useless\" features."
      ]
    },
    {
      "cell_type": "markdown",
      "id": "HOq1za4YYaGk",
      "metadata": {
        "id": "HOq1za4YYaGk"
      },
      "source": [
        "## **2.4 Short answer:** Feature Selection in Linear Regression *(5 pts)*\n",
        "1. Inspect each feature in the Boston Housing dataset and explain its relationship with the target variable *without using dimensionality reduction algorithms such as PCA*. Do you observe any distinct patterns? How can we simply & effectively analyze the relationships and characteristics of the dataset?\n",
        "\n",
        "2. Suppose we have computational limitations and can only use a subset of the dataset. Which two features should we choose for a linear regression model? Explain your reasoning.\n"
      ]
    },
    {
      "cell_type": "markdown",
      "id": "36eea3d3",
      "metadata": {},
      "source": [
        "1. We can analyze each feature’s relationship with the target variable MEDV using correlation analysis. Features like RM (average number of rooms) show a positive correlation with MEDV, meaning houses with more rooms tend to be more expensive. In contrast, LSTAT (lower-income percentage) and CRIM (crime rate) show negative correlations, indicating that higher crime rates and poverty levels are linked to lower house prices. A simple way to analyze these relationships is by plotting a correlation heatmap as we show below.\n",
        "![Feature Relationships](pcor.png)\n",
        "\n",
        "2. Based on the plotted heatmap, RM and LSTAT are the best two features for a linear regression model. RM has the strongest positive correlation with the target variable (0.70), while LSTAT has the strongest negative correlation (-0.74), making them the most predictive features."
      ]
    },
    {
      "cell_type": "markdown",
      "id": "cc909ce5",
      "metadata": {
        "id": "cc909ce5"
      },
      "source": [
        "# **Question 3.** Regression Trees  (*30 total points*)"
      ]
    },
    {
      "cell_type": "markdown",
      "id": "846484d1",
      "metadata": {
        "id": "846484d1"
      },
      "source": [
        "In the first two sections, we will work on UK Used Car dataset. The dataset was adapted from [Kaggle's Data](https://www.kaggle.com/datasets/adityadesai13/used-car-dataset-ford-and-mercedes/code?datasetId=750216&sortBy=voteCount). It contains information of the car such as price (in £), transmission, mileage, fuel type, road tax, miles per gallon (mpg), and engine size. For more details about the dataset, you can refer to [this link](https://www.kaggle.com/datasets/adityadesai13/used-car-dataset-ford-and-mercedes).\n",
        "\n",
        "Our goal is to train a regression tree to predict the price of a used car, given other information.\n",
        "\n",
        "First, let's read the dataset"
      ]
    },
    {
      "cell_type": "code",
      "execution_count": 16,
      "id": "76d09354",
      "metadata": {
        "colab": {
          "base_uri": "https://localhost:8080/",
          "height": 223
        },
        "id": "76d09354",
        "outputId": "9bfc1838-667c-4358-c8d3-157c7ddf1db8"
      },
      "outputs": [
        {
          "name": "stdout",
          "output_type": "stream",
          "text": [
            "(4960, 10)\n"
          ]
        },
        {
          "data": {
            "text/html": [
              "<div>\n",
              "<style scoped>\n",
              "    .dataframe tbody tr th:only-of-type {\n",
              "        vertical-align: middle;\n",
              "    }\n",
              "\n",
              "    .dataframe tbody tr th {\n",
              "        vertical-align: top;\n",
              "    }\n",
              "\n",
              "    .dataframe thead th {\n",
              "        text-align: right;\n",
              "    }\n",
              "</style>\n",
              "<table border=\"1\" class=\"dataframe\">\n",
              "  <thead>\n",
              "    <tr style=\"text-align: right;\">\n",
              "      <th></th>\n",
              "      <th>brand</th>\n",
              "      <th>model</th>\n",
              "      <th>year</th>\n",
              "      <th>transmission</th>\n",
              "      <th>mileage</th>\n",
              "      <th>fuelType</th>\n",
              "      <th>tax</th>\n",
              "      <th>mpg</th>\n",
              "      <th>engineSize</th>\n",
              "      <th>price</th>\n",
              "    </tr>\n",
              "  </thead>\n",
              "  <tbody>\n",
              "    <tr>\n",
              "      <th>0</th>\n",
              "      <td>hyundi</td>\n",
              "      <td>Santa Fe</td>\n",
              "      <td>2019</td>\n",
              "      <td>Semi-Auto</td>\n",
              "      <td>4223</td>\n",
              "      <td>Diesel</td>\n",
              "      <td>145.0</td>\n",
              "      <td>39.8</td>\n",
              "      <td>2.2</td>\n",
              "      <td>31995</td>\n",
              "    </tr>\n",
              "    <tr>\n",
              "      <th>1</th>\n",
              "      <td>vauxhall</td>\n",
              "      <td>GTC</td>\n",
              "      <td>2015</td>\n",
              "      <td>Manual</td>\n",
              "      <td>47870</td>\n",
              "      <td>Diesel</td>\n",
              "      <td>125.0</td>\n",
              "      <td>60.1</td>\n",
              "      <td>2.0</td>\n",
              "      <td>7700</td>\n",
              "    </tr>\n",
              "    <tr>\n",
              "      <th>2</th>\n",
              "      <td>audi</td>\n",
              "      <td>RS4</td>\n",
              "      <td>2019</td>\n",
              "      <td>Automatic</td>\n",
              "      <td>5151</td>\n",
              "      <td>Petrol</td>\n",
              "      <td>145.0</td>\n",
              "      <td>29.1</td>\n",
              "      <td>2.9</td>\n",
              "      <td>58990</td>\n",
              "    </tr>\n",
              "    <tr>\n",
              "      <th>3</th>\n",
              "      <td>vw</td>\n",
              "      <td>Scirocco</td>\n",
              "      <td>2016</td>\n",
              "      <td>Automatic</td>\n",
              "      <td>20423</td>\n",
              "      <td>Diesel</td>\n",
              "      <td>30.0</td>\n",
              "      <td>57.6</td>\n",
              "      <td>2.0</td>\n",
              "      <td>12999</td>\n",
              "    </tr>\n",
              "    <tr>\n",
              "      <th>4</th>\n",
              "      <td>skoda</td>\n",
              "      <td>Scala</td>\n",
              "      <td>2020</td>\n",
              "      <td>Semi-Auto</td>\n",
              "      <td>3569</td>\n",
              "      <td>Petrol</td>\n",
              "      <td>145.0</td>\n",
              "      <td>47.1</td>\n",
              "      <td>1.0</td>\n",
              "      <td>16990</td>\n",
              "    </tr>\n",
              "  </tbody>\n",
              "</table>\n",
              "</div>"
            ],
            "text/plain": [
              "      brand      model  year transmission  mileage fuelType    tax   mpg  \\\n",
              "0    hyundi   Santa Fe  2019    Semi-Auto     4223   Diesel  145.0  39.8   \n",
              "1  vauxhall        GTC  2015       Manual    47870   Diesel  125.0  60.1   \n",
              "2      audi        RS4  2019    Automatic     5151   Petrol  145.0  29.1   \n",
              "3        vw   Scirocco  2016    Automatic    20423   Diesel   30.0  57.6   \n",
              "4     skoda      Scala  2020    Semi-Auto     3569   Petrol  145.0  47.1   \n",
              "\n",
              "   engineSize  price  \n",
              "0         2.2  31995  \n",
              "1         2.0   7700  \n",
              "2         2.9  58990  \n",
              "3         2.0  12999  \n",
              "4         1.0  16990  "
            ]
          },
          "execution_count": 16,
          "metadata": {},
          "output_type": "execute_result"
        }
      ],
      "source": [
        "df = pd.read_csv(\"https://raw.githubusercontent.com/chaudatascience/cs599_fall2022/master/ps4/used_car_price.csv\")\n",
        "print(df.shape)\n",
        "df.head()"
      ]
    },
    {
      "cell_type": "markdown",
      "id": "6886001e",
      "metadata": {
        "id": "6886001e"
      },
      "source": [
        "A regression tree is like a classification tree, but a regression tree stores values rather than labels in the leaves. The tree is fitted using a procedure quite like fitting a classification tree. The splitting process parallels the one we used for classification, but now we can use the error in the regression to choose the split instead of the information gain."
      ]
    },
    {
      "cell_type": "markdown",
      "id": "ac544319",
      "metadata": {
        "id": "ac544319"
      },
      "source": [
        "## **3.1 Code:** Label encoder *(10 pts)*"
      ]
    },
    {
      "cell_type": "markdown",
      "id": "d9daa837",
      "metadata": {
        "id": "d9daa837"
      },
      "source": [
        "We can observe that some columns (e.g., \"brand\", \"model\") contain string values, not numbers.\n",
        "In order to use Sklearn's regression tree, we need to convert these strings into numbers first."
      ]
    },
    {
      "cell_type": "markdown",
      "id": "137a64bf",
      "metadata": {
        "id": "137a64bf"
      },
      "source": [
        "There are some options for this, such as [OneHotEncoder](https://scikit-learn.org/stable/modules/generated/sklearn.preprocessing.OneHotEncoder.html#sklearn.preprocessing.OneHotEncoder), [OrdinalEncoder](https://scikit-learn.org/sOrdinalEncodertable/modules/generated/sklearn.preprocessing.OrdinalEncoder.html#sklearn.preprocessing.OrdinalEncoder).\n",
        "\n",
        "In this section, we will use [LabelEncoder](https://scikit-learn.org/stable/modules/generated/sklearn.preprocessing.LabelEncoder.html). The idea is that, for each string value, we map it to a integer number. For example, suppose we have total 3 car brands in column \"brand\": [\"audi\", \"bmw\", toyota\"], it can be mapped to integers number as follows:  \n",
        "         \"audi\" -> 0, \"bmw\" -> 1, \"toyota\" -> 2\n",
        "\n",
        "You will need to complete the function below, using  [LabelEncoder](https://scikit-learn.org/stable/modules/generated/sklearn.preprocessing.LabelEncoder.html)."
      ]
    },
    {
      "cell_type": "code",
      "execution_count": 17,
      "id": "f1a713c6",
      "metadata": {
        "colab": {
          "base_uri": "https://localhost:8080/",
          "height": 363
        },
        "id": "f1a713c6",
        "outputId": "538fbfe4-fd34-4270-f80b-663eab6a9309"
      },
      "outputs": [
        {
          "data": {
            "text/html": [
              "<div>\n",
              "<style scoped>\n",
              "    .dataframe tbody tr th:only-of-type {\n",
              "        vertical-align: middle;\n",
              "    }\n",
              "\n",
              "    .dataframe tbody tr th {\n",
              "        vertical-align: top;\n",
              "    }\n",
              "\n",
              "    .dataframe thead th {\n",
              "        text-align: right;\n",
              "    }\n",
              "</style>\n",
              "<table border=\"1\" class=\"dataframe\">\n",
              "  <thead>\n",
              "    <tr style=\"text-align: right;\">\n",
              "      <th></th>\n",
              "      <th>brand</th>\n",
              "      <th>model</th>\n",
              "      <th>year</th>\n",
              "      <th>transmission</th>\n",
              "      <th>mileage</th>\n",
              "      <th>fuelType</th>\n",
              "      <th>tax</th>\n",
              "      <th>mpg</th>\n",
              "      <th>engineSize</th>\n",
              "      <th>price</th>\n",
              "    </tr>\n",
              "  </thead>\n",
              "  <tbody>\n",
              "    <tr>\n",
              "      <th>0</th>\n",
              "      <td>3</td>\n",
              "      <td>69</td>\n",
              "      <td>2019</td>\n",
              "      <td>3</td>\n",
              "      <td>4223</td>\n",
              "      <td>0</td>\n",
              "      <td>145.0</td>\n",
              "      <td>39.8</td>\n",
              "      <td>2.2</td>\n",
              "      <td>31995</td>\n",
              "    </tr>\n",
              "    <tr>\n",
              "      <th>1</th>\n",
              "      <td>7</td>\n",
              "      <td>30</td>\n",
              "      <td>2015</td>\n",
              "      <td>1</td>\n",
              "      <td>47870</td>\n",
              "      <td>0</td>\n",
              "      <td>125.0</td>\n",
              "      <td>60.1</td>\n",
              "      <td>2.0</td>\n",
              "      <td>7700</td>\n",
              "    </tr>\n",
              "    <tr>\n",
              "      <th>2</th>\n",
              "      <td>0</td>\n",
              "      <td>58</td>\n",
              "      <td>2019</td>\n",
              "      <td>0</td>\n",
              "      <td>5151</td>\n",
              "      <td>4</td>\n",
              "      <td>145.0</td>\n",
              "      <td>29.1</td>\n",
              "      <td>2.9</td>\n",
              "      <td>58990</td>\n",
              "    </tr>\n",
              "    <tr>\n",
              "      <th>3</th>\n",
              "      <td>8</td>\n",
              "      <td>71</td>\n",
              "      <td>2016</td>\n",
              "      <td>0</td>\n",
              "      <td>20423</td>\n",
              "      <td>0</td>\n",
              "      <td>30.0</td>\n",
              "      <td>57.6</td>\n",
              "      <td>2.0</td>\n",
              "      <td>12999</td>\n",
              "    </tr>\n",
              "    <tr>\n",
              "      <th>4</th>\n",
              "      <td>5</td>\n",
              "      <td>70</td>\n",
              "      <td>2020</td>\n",
              "      <td>3</td>\n",
              "      <td>3569</td>\n",
              "      <td>4</td>\n",
              "      <td>145.0</td>\n",
              "      <td>47.1</td>\n",
              "      <td>1.0</td>\n",
              "      <td>16990</td>\n",
              "    </tr>\n",
              "    <tr>\n",
              "      <th>5</th>\n",
              "      <td>4</td>\n",
              "      <td>77</td>\n",
              "      <td>2019</td>\n",
              "      <td>0</td>\n",
              "      <td>4170</td>\n",
              "      <td>0</td>\n",
              "      <td>145.0</td>\n",
              "      <td>44.1</td>\n",
              "      <td>2.1</td>\n",
              "      <td>40890</td>\n",
              "    </tr>\n",
              "    <tr>\n",
              "      <th>6</th>\n",
              "      <td>6</td>\n",
              "      <td>53</td>\n",
              "      <td>2020</td>\n",
              "      <td>0</td>\n",
              "      <td>3</td>\n",
              "      <td>2</td>\n",
              "      <td>135.0</td>\n",
              "      <td>64.2</td>\n",
              "      <td>1.8</td>\n",
              "      <td>25990</td>\n",
              "    </tr>\n",
              "    <tr>\n",
              "      <th>7</th>\n",
              "      <td>1</td>\n",
              "      <td>48</td>\n",
              "      <td>2019</td>\n",
              "      <td>3</td>\n",
              "      <td>101</td>\n",
              "      <td>4</td>\n",
              "      <td>145.0</td>\n",
              "      <td>34.0</td>\n",
              "      <td>3.0</td>\n",
              "      <td>41980</td>\n",
              "    </tr>\n",
              "    <tr>\n",
              "      <th>8</th>\n",
              "      <td>6</td>\n",
              "      <td>19</td>\n",
              "      <td>2019</td>\n",
              "      <td>0</td>\n",
              "      <td>6340</td>\n",
              "      <td>2</td>\n",
              "      <td>135.0</td>\n",
              "      <td>52.3</td>\n",
              "      <td>2.5</td>\n",
              "      <td>25490</td>\n",
              "    </tr>\n",
              "    <tr>\n",
              "      <th>9</th>\n",
              "      <td>2</td>\n",
              "      <td>42</td>\n",
              "      <td>2012</td>\n",
              "      <td>1</td>\n",
              "      <td>85843</td>\n",
              "      <td>4</td>\n",
              "      <td>30.0</td>\n",
              "      <td>57.7</td>\n",
              "      <td>1.2</td>\n",
              "      <td>3491</td>\n",
              "    </tr>\n",
              "  </tbody>\n",
              "</table>\n",
              "</div>"
            ],
            "text/plain": [
              "   brand  model  year  transmission  mileage  fuelType    tax   mpg  \\\n",
              "0      3     69  2019             3     4223         0  145.0  39.8   \n",
              "1      7     30  2015             1    47870         0  125.0  60.1   \n",
              "2      0     58  2019             0     5151         4  145.0  29.1   \n",
              "3      8     71  2016             0    20423         0   30.0  57.6   \n",
              "4      5     70  2020             3     3569         4  145.0  47.1   \n",
              "5      4     77  2019             0     4170         0  145.0  44.1   \n",
              "6      6     53  2020             0        3         2  135.0  64.2   \n",
              "7      1     48  2019             3      101         4  145.0  34.0   \n",
              "8      6     19  2019             0     6340         2  135.0  52.3   \n",
              "9      2     42  2012             1    85843         4   30.0  57.7   \n",
              "\n",
              "   engineSize  price  \n",
              "0         2.2  31995  \n",
              "1         2.0   7700  \n",
              "2         2.9  58990  \n",
              "3         2.0  12999  \n",
              "4         1.0  16990  \n",
              "5         2.1  40890  \n",
              "6         1.8  25990  \n",
              "7         3.0  41980  \n",
              "8         2.5  25490  \n",
              "9         1.2   3491  "
            ]
          },
          "execution_count": 17,
          "metadata": {},
          "output_type": "execute_result"
        }
      ],
      "source": [
        "from sklearn import preprocessing\n",
        "\n",
        "def question_3_1(columns: List[str], df: pd.DataFrame) -> pd.DataFrame:\n",
        "    \"\"\"\n",
        "    label encode for categorical columns.\n",
        "    columns: list of categorical columns needed to encode\n",
        "    df: Pandas dataframe\n",
        "    return a Pandas dataframe (same shape as input) where each col in `columns` gets encoded.\n",
        "\n",
        "    \"\"\"\n",
        "    # Write your code in this block -----------------------------------------------------------\n",
        "    for col in columns:\n",
        "        le = preprocessing.LabelEncoder()\n",
        "        df[col] = le.fit_transform(df[col])\n",
        "    return df\n",
        "\n",
        "    # End of your code -----------------------------------------------------------\n",
        "\n",
        "### Test your function\n",
        "categorical_columns =  ['brand', 'model', 'transmission', 'fuelType']\n",
        "\n",
        "df = question_3_1(categorical_columns, df)\n",
        "df.head(10)"
      ]
    },
    {
      "cell_type": "markdown",
      "id": "6fa2447f",
      "metadata": {
        "id": "6fa2447f"
      },
      "source": [
        "## **3.2 Code:** Regression Tree *(10 pts)*"
      ]
    },
    {
      "cell_type": "code",
      "execution_count": 18,
      "id": "cb351fa8",
      "metadata": {
        "colab": {
          "base_uri": "https://localhost:8080/"
        },
        "id": "cb351fa8",
        "outputId": "a5528998-08ea-4bce-8558-af2569cc5f62"
      },
      "outputs": [
        {
          "name": "stdout",
          "output_type": "stream",
          "text": [
            "(3472, 9) (1488, 9) (3472,) (1488,)\n"
          ]
        }
      ],
      "source": [
        "### Prepare data\n",
        "X = df.drop(columns=\"price\")\n",
        "y = df[\"price\"]\n",
        "\n",
        "## Split to train, test\n",
        "X_train, X_test, y_train, y_test = train_test_split(X, y, random_state=2022, test_size=0.3)\n",
        "\n",
        "## Check on the shapes\n",
        "print(X_train.shape, X_test.shape, y_train.shape, y_test.shape)"
      ]
    },
    {
      "cell_type": "markdown",
      "id": "d5c99695",
      "metadata": {
        "id": "d5c99695"
      },
      "source": [
        "We will train a Regression Tree on the dataset using Sklearn.\n",
        "You can refer to the document of DecisionTreeRegressor [here](https://scikit-learn.org/stable/modules/generated/sklearn.tree.DecisionTreeRegressor.html).\n",
        "You should take a look at the document, to see what parameters it provides and understand their meaning.\n"
      ]
    },
    {
      "cell_type": "code",
      "execution_count": 19,
      "id": "5216696f",
      "metadata": {
        "id": "5216696f"
      },
      "outputs": [],
      "source": [
        "from sklearn.tree import DecisionTreeRegressor\n",
        "\n",
        "def question_3_2(X: np.ndarray, y: np.ndarray, random_state: int,\n",
        "                 max_depth: int, min_samples_split: int) -> DecisionTreeRegressor:\n",
        "    \"\"\"\n",
        "    Train a Sklearn's Regression Tree on features `X` and labels `y`.\n",
        "    The regression tree has max_depth=`max_depth`, and min_samples_split=`min_samples_split`,\n",
        "    and set random_state to `random_state` when initializing.\n",
        "\n",
        "    X: 2d numpy array, shape of (num_samples, feat_dim)\n",
        "    y: numpy array, shape of (num_samples, )\n",
        "    random_state: controls the randomness of the model.\n",
        "    max_depth: The maximum depth of the tree\n",
        "    min_samples_split: The minimum number of samples required to split an internal node\n",
        "\n",
        "    return a trained `DecisionTreeRegressor`\n",
        "    \"\"\"\n",
        "    # Write your code in this block -----------------------------------------------------------\n",
        "    model = DecisionTreeRegressor(random_state=random_state, max_depth=max_depth, min_samples_split=min_samples_split)\n",
        "    model.fit(X, y)\n",
        "    return model\n",
        "    # End of your code ------------------------------------------------------------------------\n"
      ]
    },
    {
      "cell_type": "markdown",
      "id": "1530a37e",
      "metadata": {
        "id": "1530a37e"
      },
      "source": [
        "## **3.3 Code:** Root mean square error *(5 pts)*\n"
      ]
    },
    {
      "cell_type": "markdown",
      "id": "7e6df142",
      "metadata": {
        "id": "7e6df142"
      },
      "source": [
        "To measure how the model performs, we can evaluate the results on root mean square error (RMSE):\n",
        "\n",
        "$$\n",
        "\\text{RMSE}=\\sqrt{\\frac{\\sum_{i=1}^N\\left(\\text {Predicted}_i-\\text {Actual}_i\\right)^2}{N}}\n",
        "$$\n",
        "where N is the number of samples.\n",
        "\n",
        "\n",
        "RMSE give us an idea of how far predictions fall from measured true values using Euclidean distance:  lower the RMSE better is model performance.\n",
        "\n",
        "Write a function to compute RMSE"
      ]
    },
    {
      "cell_type": "code",
      "execution_count": 20,
      "id": "0b04c51c",
      "metadata": {
        "colab": {
          "base_uri": "https://localhost:8080/"
        },
        "id": "0b04c51c",
        "outputId": "13b5647f-4b5d-48e1-b2fa-be286cf94e72"
      },
      "outputs": [
        {
          "data": {
            "text/plain": [
              "1.2909944487358056"
            ]
          },
          "execution_count": 20,
          "metadata": {},
          "output_type": "execute_result"
        }
      ],
      "source": [
        "def question_3_3(y_true: np.ndarray, y_pred: np.ndarray) -> float:\n",
        "    \"\"\"\n",
        "    Compute RMSE given predictions and ground-truth labels\n",
        "    y_true: ground-truth labels, shape (num_samples, )\n",
        "    y_pred: predictions,  shape (num_samples, )\n",
        "    return root mean square error\n",
        "    \"\"\"\n",
        "    # Write your code in this block -----------------------------------------------------------\n",
        "    squared_errors = (y_pred - y_true) ** 2\n",
        "    mse = np.mean(squared_errors)\n",
        "    rmse = np.sqrt(mse)\n",
        "    return rmse\n",
        "    # End of your code ------------------------------------------------------------------------\n",
        "\n",
        "\n",
        "\n",
        "## test your function\n",
        "y_true = np.array([7,8,10])\n",
        "y_pred = np.array([7,7,8])\n",
        "question_3_3(y_true, y_pred)"
      ]
    },
    {
      "cell_type": "code",
      "execution_count": 21,
      "id": "bceae585",
      "metadata": {
        "colab": {
          "base_uri": "https://localhost:8080/"
        },
        "id": "bceae585",
        "outputId": "3a899114-bb65-457a-d8e3-1d3eb9236d93"
      },
      "outputs": [
        {
          "name": "stdout",
          "output_type": "stream",
          "text": [
            "max_depth=7, min_samples_split=2\n",
            "Root Mean Square Error on training set: 4522.931688492328\n",
            "Root Mean Square Error on test set: 5870.628662511966\n"
          ]
        }
      ],
      "source": [
        "### Test your model in question 1.2\n",
        "\n",
        "max_depth = 7\n",
        "min_samples_split = 2\n",
        "random_state = 2022\n",
        "\n",
        "print(f\"max_depth={max_depth}, min_samples_split={min_samples_split}\")\n",
        "model = question_3_2(X_train, y_train, random_state, max_depth, min_samples_split)\n",
        "train_pred = model.predict(X_train)\n",
        "test_pred = model.predict(X_test)\n",
        "print(\"Root Mean Square Error on training set:\", question_3_3(y_train, train_pred))\n",
        "print(\"Root Mean Square Error on test set:\", question_3_3(y_test, test_pred))"
      ]
    },
    {
      "cell_type": "markdown",
      "id": "c9c0b43a",
      "metadata": {
        "id": "c9c0b43a"
      },
      "source": [
        "Our regression tree has a rmse of around £6k on test set."
      ]
    },
    {
      "cell_type": "markdown",
      "id": "783e4a24",
      "metadata": {
        "id": "783e4a24"
      },
      "source": [
        "## **3.4 Short answer:** Explanation for prediction *(5 pts)*"
      ]
    },
    {
      "cell_type": "code",
      "execution_count": 22,
      "id": "1b1a72d0",
      "metadata": {
        "collapsed": true,
        "id": "1b1a72d0"
      },
      "outputs": [
        {
          "data": {
            "image/svg+xml": [
              "<?xml version=\"1.0\" encoding=\"UTF-8\" standalone=\"no\"?>\n",
              "<!DOCTYPE svg PUBLIC \"-//W3C//DTD SVG 1.1//EN\"\n",
              " \"http://www.w3.org/Graphics/SVG/1.1/DTD/svg11.dtd\">\n",
              "<!-- Generated by graphviz version 2.50.0 (0)\n",
              " -->\n",
              "<!-- Title: Tree Pages: 1 -->\n",
              "<svg width=\"1782pt\" height=\"373pt\"\n",
              " viewBox=\"0.00 0.00 1782.00 373.00\" xmlns=\"http://www.w3.org/2000/svg\" xmlns:xlink=\"http://www.w3.org/1999/xlink\">\n",
              "<g id=\"graph0\" class=\"graph\" transform=\"scale(1 1) rotate(0) translate(4 369)\">\n",
              "<title>Tree</title>\n",
              "<polygon fill=\"white\" stroke=\"transparent\" points=\"-4,4 -4,-369 1778,-369 1778,4 -4,4\"/>\n",
              "<!-- 0 -->\n",
              "<g id=\"node1\" class=\"node\">\n",
              "<title>0</title>\n",
              "<polygon fill=\"#fcefe7\" stroke=\"black\" points=\"982,-365 771,-365 771,-297 982,-297 982,-365\"/>\n",
              "<text text-anchor=\"middle\" x=\"876.5\" y=\"-349.8\" font-family=\"Helvetica,sans-Serif\" font-size=\"14.00\">engineSize &lt;= 2.75</text>\n",
              "<text text-anchor=\"middle\" x=\"876.5\" y=\"-334.8\" font-family=\"Helvetica,sans-Serif\" font-size=\"14.00\">squared_error = 277278180.587</text>\n",
              "<text text-anchor=\"middle\" x=\"876.5\" y=\"-319.8\" font-family=\"Helvetica,sans-Serif\" font-size=\"14.00\">samples = 3472</text>\n",
              "<text text-anchor=\"middle\" x=\"876.5\" y=\"-304.8\" font-family=\"Helvetica,sans-Serif\" font-size=\"14.00\">value = 23780.499</text>\n",
              "</g>\n",
              "<!-- 1 -->\n",
              "<g id=\"node2\" class=\"node\">\n",
              "<title>1</title>\n",
              "<polygon fill=\"#fdf6f1\" stroke=\"black\" points=\"755,-261 552,-261 552,-193 755,-193 755,-261\"/>\n",
              "<text text-anchor=\"middle\" x=\"653.5\" y=\"-245.8\" font-family=\"Helvetica,sans-Serif\" font-size=\"14.00\">year &lt;= 2018.5</text>\n",
              "<text text-anchor=\"middle\" x=\"653.5\" y=\"-230.8\" font-family=\"Helvetica,sans-Serif\" font-size=\"14.00\">squared_error = 97919062.052</text>\n",
              "<text text-anchor=\"middle\" x=\"653.5\" y=\"-215.8\" font-family=\"Helvetica,sans-Serif\" font-size=\"14.00\">samples = 2567</text>\n",
              "<text text-anchor=\"middle\" x=\"653.5\" y=\"-200.8\" font-family=\"Helvetica,sans-Serif\" font-size=\"14.00\">value = 17877.903</text>\n",
              "</g>\n",
              "<!-- 0&#45;&gt;1 -->\n",
              "<g id=\"edge1\" class=\"edge\">\n",
              "<title>0&#45;&gt;1</title>\n",
              "<path fill=\"none\" stroke=\"black\" d=\"M804.1,-296.88C782.08,-286.81 757.73,-275.67 735.14,-265.34\"/>\n",
              "<polygon fill=\"black\" stroke=\"black\" points=\"736.47,-262.1 725.92,-261.12 733.56,-268.47 736.47,-262.1\"/>\n",
              "<text text-anchor=\"middle\" x=\"734.64\" y=\"-280.85\" font-family=\"Helvetica,sans-Serif\" font-size=\"14.00\">True</text>\n",
              "</g>\n",
              "<!-- 8 -->\n",
              "<g id=\"node9\" class=\"node\">\n",
              "<title>8</title>\n",
              "<polygon fill=\"#f8ddc9\" stroke=\"black\" points=\"1207,-261 996,-261 996,-193 1207,-193 1207,-261\"/>\n",
              "<text text-anchor=\"middle\" x=\"1101.5\" y=\"-245.8\" font-family=\"Helvetica,sans-Serif\" font-size=\"14.00\">year &lt;= 2017.5</text>\n",
              "<text text-anchor=\"middle\" x=\"1101.5\" y=\"-230.8\" font-family=\"Helvetica,sans-Serif\" font-size=\"14.00\">squared_error = 406888316.621</text>\n",
              "<text text-anchor=\"middle\" x=\"1101.5\" y=\"-215.8\" font-family=\"Helvetica,sans-Serif\" font-size=\"14.00\">samples = 905</text>\n",
              "<text text-anchor=\"middle\" x=\"1101.5\" y=\"-200.8\" font-family=\"Helvetica,sans-Serif\" font-size=\"14.00\">value = 40523.0</text>\n",
              "</g>\n",
              "<!-- 0&#45;&gt;8 -->\n",
              "<g id=\"edge8\" class=\"edge\">\n",
              "<title>0&#45;&gt;8</title>\n",
              "<path fill=\"none\" stroke=\"black\" d=\"M949.55,-296.88C971.77,-286.81 996.34,-275.67 1019.12,-265.34\"/>\n",
              "<polygon fill=\"black\" stroke=\"black\" points=\"1020.77,-268.44 1028.43,-261.12 1017.88,-262.07 1020.77,-268.44\"/>\n",
              "<text text-anchor=\"middle\" x=\"1019.63\" y=\"-280.82\" font-family=\"Helvetica,sans-Serif\" font-size=\"14.00\">False</text>\n",
              "</g>\n",
              "<!-- 2 -->\n",
              "<g id=\"node3\" class=\"node\">\n",
              "<title>2</title>\n",
              "<polygon fill=\"#fefbf8\" stroke=\"black\" points=\"424,-157 221,-157 221,-89 424,-89 424,-157\"/>\n",
              "<text text-anchor=\"middle\" x=\"322.5\" y=\"-141.8\" font-family=\"Helvetica,sans-Serif\" font-size=\"14.00\">engineSize &lt;= 1.75</text>\n",
              "<text text-anchor=\"middle\" x=\"322.5\" y=\"-126.8\" font-family=\"Helvetica,sans-Serif\" font-size=\"14.00\">squared_error = 43567239.276</text>\n",
              "<text text-anchor=\"middle\" x=\"322.5\" y=\"-111.8\" font-family=\"Helvetica,sans-Serif\" font-size=\"14.00\">samples = 1757</text>\n",
              "<text text-anchor=\"middle\" x=\"322.5\" y=\"-96.8\" font-family=\"Helvetica,sans-Serif\" font-size=\"14.00\">value = 13712.748</text>\n",
              "</g>\n",
              "<!-- 1&#45;&gt;2 -->\n",
              "<g id=\"edge2\" class=\"edge\">\n",
              "<title>1&#45;&gt;2</title>\n",
              "<path fill=\"none\" stroke=\"black\" d=\"M551.94,-194.7C514.54,-183.18 471.98,-170.06 433.77,-158.29\"/>\n",
              "<polygon fill=\"black\" stroke=\"black\" points=\"434.74,-154.93 424.15,-155.33 432.68,-161.61 434.74,-154.93\"/>\n",
              "</g>\n",
              "<!-- 5 -->\n",
              "<g id=\"node6\" class=\"node\">\n",
              "<title>5</title>\n",
              "<polygon fill=\"#fbece1\" stroke=\"black\" points=\"755,-157 552,-157 552,-89 755,-89 755,-157\"/>\n",
              "<text text-anchor=\"middle\" x=\"653.5\" y=\"-141.8\" font-family=\"Helvetica,sans-Serif\" font-size=\"14.00\">engineSize &lt;= 1.9</text>\n",
              "<text text-anchor=\"middle\" x=\"653.5\" y=\"-126.8\" font-family=\"Helvetica,sans-Serif\" font-size=\"14.00\">squared_error = 96556911.009</text>\n",
              "<text text-anchor=\"middle\" x=\"653.5\" y=\"-111.8\" font-family=\"Helvetica,sans-Serif\" font-size=\"14.00\">samples = 810</text>\n",
              "<text text-anchor=\"middle\" x=\"653.5\" y=\"-96.8\" font-family=\"Helvetica,sans-Serif\" font-size=\"14.00\">value = 26912.689</text>\n",
              "</g>\n",
              "<!-- 1&#45;&gt;5 -->\n",
              "<g id=\"edge5\" class=\"edge\">\n",
              "<title>1&#45;&gt;5</title>\n",
              "<path fill=\"none\" stroke=\"black\" d=\"M653.5,-192.88C653.5,-184.78 653.5,-175.98 653.5,-167.47\"/>\n",
              "<polygon fill=\"black\" stroke=\"black\" points=\"657,-167.3 653.5,-157.3 650,-167.3 657,-167.3\"/>\n",
              "</g>\n",
              "<!-- 3 -->\n",
              "<g id=\"node4\" class=\"node\">\n",
              "<title>3</title>\n",
              "<polygon fill=\"#ffffff\" stroke=\"black\" points=\"203,-53 0,-53 0,0 203,0 203,-53\"/>\n",
              "<text text-anchor=\"middle\" x=\"101.5\" y=\"-37.8\" font-family=\"Helvetica,sans-Serif\" font-size=\"14.00\">squared_error = 28335254.247</text>\n",
              "<text text-anchor=\"middle\" x=\"101.5\" y=\"-22.8\" font-family=\"Helvetica,sans-Serif\" font-size=\"14.00\">samples = 746</text>\n",
              "<text text-anchor=\"middle\" x=\"101.5\" y=\"-7.8\" font-family=\"Helvetica,sans-Serif\" font-size=\"14.00\">value = 9868.072</text>\n",
              "</g>\n",
              "<!-- 2&#45;&gt;3 -->\n",
              "<g id=\"edge3\" class=\"edge\">\n",
              "<title>2&#45;&gt;3</title>\n",
              "<path fill=\"none\" stroke=\"black\" d=\"M245.2,-88.95C220.92,-78.56 194.28,-67.17 170.6,-57.05\"/>\n",
              "<polygon fill=\"black\" stroke=\"black\" points=\"171.91,-53.8 161.34,-53.09 169.16,-60.24 171.91,-53.8\"/>\n",
              "</g>\n",
              "<!-- 4 -->\n",
              "<g id=\"node5\" class=\"node\">\n",
              "<title>4</title>\n",
              "<polygon fill=\"#fdf8f3\" stroke=\"black\" points=\"424,-53 221,-53 221,0 424,0 424,-53\"/>\n",
              "<text text-anchor=\"middle\" x=\"322.5\" y=\"-37.8\" font-family=\"Helvetica,sans-Serif\" font-size=\"14.00\">squared_error = 35851492.118</text>\n",
              "<text text-anchor=\"middle\" x=\"322.5\" y=\"-22.8\" font-family=\"Helvetica,sans-Serif\" font-size=\"14.00\">samples = 1011</text>\n",
              "<text text-anchor=\"middle\" x=\"322.5\" y=\"-7.8\" font-family=\"Helvetica,sans-Serif\" font-size=\"14.00\">value = 16549.671</text>\n",
              "</g>\n",
              "<!-- 2&#45;&gt;4 -->\n",
              "<g id=\"edge4\" class=\"edge\">\n",
              "<title>2&#45;&gt;4</title>\n",
              "<path fill=\"none\" stroke=\"black\" d=\"M322.5,-88.95C322.5,-80.72 322.5,-71.85 322.5,-63.48\"/>\n",
              "<polygon fill=\"black\" stroke=\"black\" points=\"326,-63.24 322.5,-53.24 319,-63.24 326,-63.24\"/>\n",
              "</g>\n",
              "<!-- 6 -->\n",
              "<g id=\"node7\" class=\"node\">\n",
              "<title>6</title>\n",
              "<polygon fill=\"#fdf4ee\" stroke=\"black\" points=\"645,-53 442,-53 442,0 645,0 645,-53\"/>\n",
              "<text text-anchor=\"middle\" x=\"543.5\" y=\"-37.8\" font-family=\"Helvetica,sans-Serif\" font-size=\"14.00\">squared_error = 48383411.011</text>\n",
              "<text text-anchor=\"middle\" x=\"543.5\" y=\"-22.8\" font-family=\"Helvetica,sans-Serif\" font-size=\"14.00\">samples = 330</text>\n",
              "<text text-anchor=\"middle\" x=\"543.5\" y=\"-7.8\" font-family=\"Helvetica,sans-Serif\" font-size=\"14.00\">value = 19731.448</text>\n",
              "</g>\n",
              "<!-- 5&#45;&gt;6 -->\n",
              "<g id=\"edge6\" class=\"edge\">\n",
              "<title>5&#45;&gt;6</title>\n",
              "<path fill=\"none\" stroke=\"black\" d=\"M615.03,-88.95C604.06,-79.53 592.12,-69.27 581.2,-59.89\"/>\n",
              "<polygon fill=\"black\" stroke=\"black\" points=\"583.32,-57.1 573.46,-53.24 578.76,-62.41 583.32,-57.1\"/>\n",
              "</g>\n",
              "<!-- 7 -->\n",
              "<g id=\"node8\" class=\"node\">\n",
              "<title>7</title>\n",
              "<polygon fill=\"#fae6d8\" stroke=\"black\" points=\"866,-53 663,-53 663,0 866,0 866,-53\"/>\n",
              "<text text-anchor=\"middle\" x=\"764.5\" y=\"-37.8\" font-family=\"Helvetica,sans-Serif\" font-size=\"14.00\">squared_error = 69846686.473</text>\n",
              "<text text-anchor=\"middle\" x=\"764.5\" y=\"-22.8\" font-family=\"Helvetica,sans-Serif\" font-size=\"14.00\">samples = 480</text>\n",
              "<text text-anchor=\"middle\" x=\"764.5\" y=\"-7.8\" font-family=\"Helvetica,sans-Serif\" font-size=\"14.00\">value = 31849.792</text>\n",
              "</g>\n",
              "<!-- 5&#45;&gt;7 -->\n",
              "<g id=\"edge7\" class=\"edge\">\n",
              "<title>5&#45;&gt;7</title>\n",
              "<path fill=\"none\" stroke=\"black\" d=\"M692.32,-88.95C703.39,-79.53 715.43,-69.27 726.45,-59.89\"/>\n",
              "<polygon fill=\"black\" stroke=\"black\" points=\"728.92,-62.38 734.27,-53.24 724.39,-57.05 728.92,-62.38\"/>\n",
              "</g>\n",
              "<!-- 9 -->\n",
              "<g id=\"node10\" class=\"node\">\n",
              "<title>9</title>\n",
              "<polygon fill=\"#fbede2\" stroke=\"black\" points=\"1203,-157 1000,-157 1000,-89 1203,-89 1203,-157\"/>\n",
              "<text text-anchor=\"middle\" x=\"1101.5\" y=\"-141.8\" font-family=\"Helvetica,sans-Serif\" font-size=\"14.00\">mileage &lt;= 39354.0</text>\n",
              "<text text-anchor=\"middle\" x=\"1101.5\" y=\"-126.8\" font-family=\"Helvetica,sans-Serif\" font-size=\"14.00\">squared_error = 144056000.18</text>\n",
              "<text text-anchor=\"middle\" x=\"1101.5\" y=\"-111.8\" font-family=\"Helvetica,sans-Serif\" font-size=\"14.00\">samples = 393</text>\n",
              "<text text-anchor=\"middle\" x=\"1101.5\" y=\"-96.8\" font-family=\"Helvetica,sans-Serif\" font-size=\"14.00\">value = 26382.191</text>\n",
              "</g>\n",
              "<!-- 8&#45;&gt;9 -->\n",
              "<g id=\"edge9\" class=\"edge\">\n",
              "<title>8&#45;&gt;9</title>\n",
              "<path fill=\"none\" stroke=\"black\" d=\"M1101.5,-192.88C1101.5,-184.78 1101.5,-175.98 1101.5,-167.47\"/>\n",
              "<polygon fill=\"black\" stroke=\"black\" points=\"1105,-167.3 1101.5,-157.3 1098,-167.3 1105,-167.3\"/>\n",
              "</g>\n",
              "<!-- 12 -->\n",
              "<g id=\"node13\" class=\"node\">\n",
              "<title>12</title>\n",
              "<polygon fill=\"#f5d1b6\" stroke=\"black\" points=\"1545,-157 1334,-157 1334,-89 1545,-89 1545,-157\"/>\n",
              "<text text-anchor=\"middle\" x=\"1439.5\" y=\"-141.8\" font-family=\"Helvetica,sans-Serif\" font-size=\"14.00\">mpg &lt;= 21.85</text>\n",
              "<text text-anchor=\"middle\" x=\"1439.5\" y=\"-126.8\" font-family=\"Helvetica,sans-Serif\" font-size=\"14.00\">squared_error = 337332693.059</text>\n",
              "<text text-anchor=\"middle\" x=\"1439.5\" y=\"-111.8\" font-family=\"Helvetica,sans-Serif\" font-size=\"14.00\">samples = 512</text>\n",
              "<text text-anchor=\"middle\" x=\"1439.5\" y=\"-96.8\" font-family=\"Helvetica,sans-Serif\" font-size=\"14.00\">value = 51377.176</text>\n",
              "</g>\n",
              "<!-- 8&#45;&gt;12 -->\n",
              "<g id=\"edge12\" class=\"edge\">\n",
              "<title>8&#45;&gt;12</title>\n",
              "<path fill=\"none\" stroke=\"black\" d=\"M1207.05,-194.15C1244.13,-182.96 1285.97,-170.33 1323.83,-158.91\"/>\n",
              "<polygon fill=\"black\" stroke=\"black\" points=\"1325.31,-162.12 1333.87,-155.88 1323.29,-155.41 1325.31,-162.12\"/>\n",
              "</g>\n",
              "<!-- 10 -->\n",
              "<g id=\"node11\" class=\"node\">\n",
              "<title>10</title>\n",
              "<polygon fill=\"#fae6d8\" stroke=\"black\" points=\"1095,-53 884,-53 884,0 1095,0 1095,-53\"/>\n",
              "<text text-anchor=\"middle\" x=\"989.5\" y=\"-37.8\" font-family=\"Helvetica,sans-Serif\" font-size=\"14.00\">squared_error = 122627239.155</text>\n",
              "<text text-anchor=\"middle\" x=\"989.5\" y=\"-22.8\" font-family=\"Helvetica,sans-Serif\" font-size=\"14.00\">samples = 227</text>\n",
              "<text text-anchor=\"middle\" x=\"989.5\" y=\"-7.8\" font-family=\"Helvetica,sans-Serif\" font-size=\"14.00\">value = 31919.33</text>\n",
              "</g>\n",
              "<!-- 9&#45;&gt;10 -->\n",
              "<g id=\"edge10\" class=\"edge\">\n",
              "<title>9&#45;&gt;10</title>\n",
              "<path fill=\"none\" stroke=\"black\" d=\"M1062.33,-88.95C1051.16,-79.53 1039.01,-69.27 1027.89,-59.89\"/>\n",
              "<polygon fill=\"black\" stroke=\"black\" points=\"1029.9,-57.01 1020,-53.24 1025.39,-62.36 1029.9,-57.01\"/>\n",
              "</g>\n",
              "<!-- 11 -->\n",
              "<g id=\"node12\" class=\"node\">\n",
              "<title>11</title>\n",
              "<polygon fill=\"#fdf5ef\" stroke=\"black\" points=\"1316,-53 1113,-53 1113,0 1316,0 1316,-53\"/>\n",
              "<text text-anchor=\"middle\" x=\"1214.5\" y=\"-37.8\" font-family=\"Helvetica,sans-Serif\" font-size=\"14.00\">squared_error = 74099436.928</text>\n",
              "<text text-anchor=\"middle\" x=\"1214.5\" y=\"-22.8\" font-family=\"Helvetica,sans-Serif\" font-size=\"14.00\">samples = 166</text>\n",
              "<text text-anchor=\"middle\" x=\"1214.5\" y=\"-7.8\" font-family=\"Helvetica,sans-Serif\" font-size=\"14.00\">value = 18810.319</text>\n",
              "</g>\n",
              "<!-- 9&#45;&gt;11 -->\n",
              "<g id=\"edge11\" class=\"edge\">\n",
              "<title>9&#45;&gt;11</title>\n",
              "<path fill=\"none\" stroke=\"black\" d=\"M1141.02,-88.95C1152.29,-79.53 1164.55,-69.27 1175.77,-59.89\"/>\n",
              "<polygon fill=\"black\" stroke=\"black\" points=\"1178.3,-62.34 1183.72,-53.24 1173.81,-56.97 1178.3,-62.34\"/>\n",
              "</g>\n",
              "<!-- 13 -->\n",
              "<g id=\"node14\" class=\"node\">\n",
              "<title>13</title>\n",
              "<polygon fill=\"#e58139\" stroke=\"black\" points=\"1545,-53 1334,-53 1334,0 1545,0 1545,-53\"/>\n",
              "<text text-anchor=\"middle\" x=\"1439.5\" y=\"-37.8\" font-family=\"Helvetica,sans-Serif\" font-size=\"14.00\">squared_error = 831819449.686</text>\n",
              "<text text-anchor=\"middle\" x=\"1439.5\" y=\"-22.8\" font-family=\"Helvetica,sans-Serif\" font-size=\"14.00\">samples = 11</text>\n",
              "<text text-anchor=\"middle\" x=\"1439.5\" y=\"-7.8\" font-family=\"Helvetica,sans-Serif\" font-size=\"14.00\">value = 122796.364</text>\n",
              "</g>\n",
              "<!-- 12&#45;&gt;13 -->\n",
              "<g id=\"edge13\" class=\"edge\">\n",
              "<title>12&#45;&gt;13</title>\n",
              "<path fill=\"none\" stroke=\"black\" d=\"M1439.5,-88.95C1439.5,-80.72 1439.5,-71.85 1439.5,-63.48\"/>\n",
              "<polygon fill=\"black\" stroke=\"black\" points=\"1443,-63.24 1439.5,-53.24 1436,-63.24 1443,-63.24\"/>\n",
              "</g>\n",
              "<!-- 14 -->\n",
              "<g id=\"node15\" class=\"node\">\n",
              "<title>14</title>\n",
              "<polygon fill=\"#f6d2b9\" stroke=\"black\" points=\"1774,-53 1563,-53 1563,0 1774,0 1774,-53\"/>\n",
              "<text text-anchor=\"middle\" x=\"1668.5\" y=\"-37.8\" font-family=\"Helvetica,sans-Serif\" font-size=\"14.00\">squared_error = 212025379.008</text>\n",
              "<text text-anchor=\"middle\" x=\"1668.5\" y=\"-22.8\" font-family=\"Helvetica,sans-Serif\" font-size=\"14.00\">samples = 501</text>\n",
              "<text text-anchor=\"middle\" x=\"1668.5\" y=\"-7.8\" font-family=\"Helvetica,sans-Serif\" font-size=\"14.00\">value = 49809.09</text>\n",
              "</g>\n",
              "<!-- 12&#45;&gt;14 -->\n",
              "<g id=\"edge14\" class=\"edge\">\n",
              "<title>12&#45;&gt;14</title>\n",
              "<path fill=\"none\" stroke=\"black\" d=\"M1519.59,-88.95C1544.87,-78.52 1572.61,-67.07 1597.23,-56.91\"/>\n",
              "<polygon fill=\"black\" stroke=\"black\" points=\"1598.59,-60.14 1606.5,-53.09 1595.92,-53.67 1598.59,-60.14\"/>\n",
              "</g>\n",
              "</g>\n",
              "</svg>\n"
            ],
            "text/plain": [
              "<graphviz.sources.Source at 0x7fd2b2fe88b0>"
            ]
          },
          "execution_count": 22,
          "metadata": {},
          "output_type": "execute_result"
        }
      ],
      "source": [
        "## Visualize a shallow tree (max_depth=3)\n",
        "## If you're using your local computer, you can use `pip install graphviz`\n",
        "# and `brew install graphviz` (on MAC) to install the package\n",
        "from sklearn.tree import export_graphviz\n",
        "import graphviz\n",
        "\n",
        "max_depth = 3\n",
        "model = question_3_2(X_train, y_train, random_state, max_depth, min_samples_split)\n",
        "dot_data = export_graphviz(model, out_file=None, feature_names=X.columns, filled=True)\n",
        "\n",
        "graph = graphviz.Source(dot_data, format=\"png\")\n",
        "graph"
      ]
    },
    {
      "cell_type": "markdown",
      "id": "96aa619c",
      "metadata": {
        "id": "96aa619c"
      },
      "source": [
        "if you're interested in visualizing tree models, [`dtreeviz`](https://github.com/parrt/dtreeviz) is another cool package can help you with variety of ways to visualize the tree."
      ]
    },
    {
      "cell_type": "markdown",
      "id": "f5828683",
      "metadata": {
        "id": "f5828683"
      },
      "source": [
        "Let's say we want to make a prediction for this sample:"
      ]
    },
    {
      "cell_type": "code",
      "execution_count": 23,
      "id": "a1fd715b",
      "metadata": {
        "colab": {
          "base_uri": "https://localhost:8080/",
          "height": 81
        },
        "id": "a1fd715b",
        "outputId": "5897a220-e673-4069-99f0-f8b3ff72a738"
      },
      "outputs": [
        {
          "data": {
            "text/html": [
              "<div>\n",
              "<style scoped>\n",
              "    .dataframe tbody tr th:only-of-type {\n",
              "        vertical-align: middle;\n",
              "    }\n",
              "\n",
              "    .dataframe tbody tr th {\n",
              "        vertical-align: top;\n",
              "    }\n",
              "\n",
              "    .dataframe thead th {\n",
              "        text-align: right;\n",
              "    }\n",
              "</style>\n",
              "<table border=\"1\" class=\"dataframe\">\n",
              "  <thead>\n",
              "    <tr style=\"text-align: right;\">\n",
              "      <th></th>\n",
              "      <th>brand</th>\n",
              "      <th>model</th>\n",
              "      <th>year</th>\n",
              "      <th>transmission</th>\n",
              "      <th>mileage</th>\n",
              "      <th>fuelType</th>\n",
              "      <th>tax</th>\n",
              "      <th>mpg</th>\n",
              "      <th>engineSize</th>\n",
              "    </tr>\n",
              "  </thead>\n",
              "  <tbody>\n",
              "    <tr>\n",
              "      <th>4929</th>\n",
              "      <td>2</td>\n",
              "      <td>22</td>\n",
              "      <td>2019</td>\n",
              "      <td>3</td>\n",
              "      <td>7055</td>\n",
              "      <td>0</td>\n",
              "      <td>145.0</td>\n",
              "      <td>37.2</td>\n",
              "      <td>2.0</td>\n",
              "    </tr>\n",
              "  </tbody>\n",
              "</table>\n",
              "</div>"
            ],
            "text/plain": [
              "      brand  model  year  transmission  mileage  fuelType    tax   mpg  \\\n",
              "4929      2     22  2019             3     7055         0  145.0  37.2   \n",
              "\n",
              "      engineSize  \n",
              "4929         2.0  "
            ]
          },
          "execution_count": 23,
          "metadata": {},
          "output_type": "execute_result"
        }
      ],
      "source": [
        "## show 1 sample\n",
        "X_test[13:14]"
      ]
    },
    {
      "cell_type": "code",
      "execution_count": 24,
      "id": "609bae0b",
      "metadata": {
        "colab": {
          "base_uri": "https://localhost:8080/"
        },
        "id": "609bae0b",
        "outputId": "15d5d869-b808-4df0-c7e9-5f428f4b3b01"
      },
      "outputs": [
        {
          "name": "stdout",
          "output_type": "stream",
          "text": [
            "Actual price of the car: £30,970\n",
            "Model predicts for the car: £31,849.79\n"
          ]
        }
      ],
      "source": [
        "print(f\"Actual price of the car: £{y_test.iloc[13]:,}\")\n",
        "\n",
        "## Let's see what the model predicts for the car\n",
        "print(f\"Model predicts for the car: £{model.predict(X_test[13:14])[0]:,.2f}\")"
      ]
    },
    {
      "cell_type": "markdown",
      "id": "d8973966",
      "metadata": {
        "id": "d8973966"
      },
      "source": [
        "**Question:** Explain how the decision tree made that prediction by pointing out the path from the root to its leaf."
      ]
    },
    {
      "cell_type": "markdown",
      "id": "62665458",
      "metadata": {
        "id": "62665458"
      },
      "source": [
        "The Decision Tree first checks engine size (2.0 ≤ 2.75), which is true, so it moves left. Then, since the year is 2019 > 2018.5, it moves right. Next, it checks engine size again (2.0 > 1.9), moving right, reaching a leaf node with a predicted price of £31,849.79."
      ]
    },
    {
      "cell_type": "markdown",
      "id": "140a3d87",
      "metadata": {
        "id": "140a3d87"
      },
      "source": [
        "# **Question 4.** Boosting  (*20 total points*)"
      ]
    },
    {
      "cell_type": "markdown",
      "id": "e700cc57",
      "metadata": {
        "id": "e700cc57"
      },
      "source": [
        "Gradient boosting builds a sum of predictors using a greedy stagewise method. First, we fit a predictor to the data to obtain an initial model. Now repeat: Compute the appropriate weight at each data point; then fit a predictor using these weights; search for the best weight with which to add this predictor to the current model; and add the weighted predictor to the current model. Stop by looking at validation error. The weight is a partial derivative of the loss with respect to the predictor, evaluated at the current value of the predictor."
      ]
    },
    {
      "cell_type": "markdown",
      "id": "437c46c7",
      "metadata": {
        "id": "437c46c7"
      },
      "source": [
        "The mystic behind Boosting is in principal the same as for Random Forest models: *A bunch of weak learners which performs just slightly better than random guessing can be combined to make better predictions than one strong learner.*"
      ]
    },
    {
      "cell_type": "code",
      "execution_count": 25,
      "id": "e1a356c3",
      "metadata": {
        "colab": {
          "base_uri": "https://localhost:8080/",
          "height": 591
        },
        "id": "e1a356c3",
        "outputId": "42eaed20-e2c8-4bce-e607-3fbf24ee992d"
      },
      "outputs": [
        {
          "data": {
            "image/png": "[encoded data removed]",
            "text/plain": [
              "<IPython.core.display.Image object>"
            ]
          },
          "execution_count": 25,
          "metadata": {},
          "output_type": "execute_result"
        }
      ],
      "source": [
        "## The idea of gradient boosting tree\n",
        "from IPython import display\n",
        "display.Image(\"https://raw.githubusercontent.com/chaudatascience/cs599_fall2022/master/ps4/boosting2.png\")"
      ]
    },
    {
      "cell_type": "markdown",
      "id": "48a79906",
      "metadata": {
        "id": "48a79906"
      },
      "source": [
        "Different from the Random Forest approach where we created an ensemble of tree models in parallel, we now create the ensemble in sequence, where the set up of the actual tree is influenced by the outputs of all the previous tree models by altering the weights of the dataset, the tree model is built on."
      ]
    },
    {
      "cell_type": "markdown",
      "id": "3c023539",
      "metadata": {
        "id": "3c023539"
      },
      "source": [
        "There are some well-used gradient boosting tree algorithms, such as [LightGBM](https://lightgbm.readthedocs.io/en/v3.3.2/), [XGboost](https://xgboost.readthedocs.io/en/stable/), and [Catboost](https://catboost.ai/). In this section, we will get into XGboost to see how we can apply it to the used car dataset.\n",
        "\n",
        "\n",
        "[XGBoost](https://xgboost.readthedocs.io/en/stable/tutorials/model.html), which stands for Extreme Gradient Boosting, is a scalable, distributed gradient-boosted decision tree (GBDT) machine learning library. It’s a parallelized and carefully optimized version of the gradient boosting algorithm for regression, classification, and ranking problems. XGBoost is one of the go-to algorithms for tabular data due to its efficiency. Some big companies use Xgboost for their prediction models, such as Uber has been [using XGboost for arrival time predictions (ETA)](https://www.uber.com/blog/deepeta-how-uber-predicts-arrival-times/).\n",
        "\n",
        "Let's train a XGBoost on the used car dataset."
      ]
    },
    {
      "cell_type": "markdown",
      "id": "00562e9a",
      "metadata": {
        "id": "00562e9a"
      },
      "source": [
        "## **4.1 Code:** XGboost *(10 pts)*"
      ]
    },
    {
      "cell_type": "markdown",
      "id": "3c444257",
      "metadata": {
        "id": "3c444257"
      },
      "source": [
        "For this question, you can refer to the document of `XGBRegressor` [here](https://xgboost.readthedocs.io/en/stable/python/python_api.html#xgboost.XGBRegressor)"
      ]
    },
    {
      "cell_type": "code",
      "execution_count": 26,
      "id": "9ac14259",
      "metadata": {
        "id": "9ac14259"
      },
      "outputs": [
        {
          "name": "stdout",
          "output_type": "stream",
          "text": [
            "[0]\tvalidation_0-rmse:23572.59662\tvalidation_1-rmse:22573.20800\n",
            "[1]\tvalidation_0-rmse:19211.92984\tvalidation_1-rmse:18518.92220\n",
            "[2]\tvalidation_0-rmse:15770.24886\tvalidation_1-rmse:15352.98190\n",
            "[3]\tvalidation_0-rmse:12995.79765\tvalidation_1-rmse:12823.66526\n",
            "[4]\tvalidation_0-rmse:10794.76078\tvalidation_1-rmse:10866.74189\n",
            "[5]\tvalidation_0-rmse:9088.29813\tvalidation_1-rmse:9368.48763\n",
            "[6]\tvalidation_0-rmse:7686.62647\tvalidation_1-rmse:8194.20939\n",
            "[7]\tvalidation_0-rmse:6609.01522\tvalidation_1-rmse:7330.44907\n",
            "[8]\tvalidation_0-rmse:5753.89645\tvalidation_1-rmse:6613.45556\n",
            "[9]\tvalidation_0-rmse:5033.06705\tvalidation_1-rmse:6056.14437\n",
            "[10]\tvalidation_0-rmse:4509.47279\tvalidation_1-rmse:5688.28536\n",
            "[11]\tvalidation_0-rmse:4098.16452\tvalidation_1-rmse:5389.23332\n",
            "[12]\tvalidation_0-rmse:3801.85229\tvalidation_1-rmse:5149.83501\n",
            "[13]\tvalidation_0-rmse:3516.29859\tvalidation_1-rmse:4931.53893\n",
            "[14]\tvalidation_0-rmse:3298.57600\tvalidation_1-rmse:4780.02471\n",
            "[15]\tvalidation_0-rmse:3153.90179\tvalidation_1-rmse:4693.51557\n",
            "[16]\tvalidation_0-rmse:3035.65790\tvalidation_1-rmse:4641.77756\n",
            "[17]\tvalidation_0-rmse:2942.05028\tvalidation_1-rmse:4581.88666\n",
            "[18]\tvalidation_0-rmse:2841.00194\tvalidation_1-rmse:4508.61535\n",
            "[19]\tvalidation_0-rmse:2745.46932\tvalidation_1-rmse:4441.14333\n",
            "[20]\tvalidation_0-rmse:2698.39351\tvalidation_1-rmse:4413.56822\n",
            "[21]\tvalidation_0-rmse:2660.01930\tvalidation_1-rmse:4388.25906\n",
            "[22]\tvalidation_0-rmse:2591.74440\tvalidation_1-rmse:4355.94416\n",
            "[23]\tvalidation_0-rmse:2521.02649\tvalidation_1-rmse:4298.73922\n",
            "[24]\tvalidation_0-rmse:2476.12396\tvalidation_1-rmse:4272.59118\n",
            "[25]\tvalidation_0-rmse:2421.57022\tvalidation_1-rmse:4242.59135\n",
            "[26]\tvalidation_0-rmse:2396.91170\tvalidation_1-rmse:4234.43347\n",
            "[27]\tvalidation_0-rmse:2375.90474\tvalidation_1-rmse:4220.95782\n",
            "[28]\tvalidation_0-rmse:2333.06264\tvalidation_1-rmse:4192.61558\n",
            "[29]\tvalidation_0-rmse:2309.49045\tvalidation_1-rmse:4174.90875\n",
            "[30]\tvalidation_0-rmse:2294.03882\tvalidation_1-rmse:4161.16845\n",
            "[31]\tvalidation_0-rmse:2274.70663\tvalidation_1-rmse:4162.45320\n",
            "[32]\tvalidation_0-rmse:2260.18152\tvalidation_1-rmse:4156.83688\n",
            "[33]\tvalidation_0-rmse:2235.80274\tvalidation_1-rmse:4153.32486\n"
          ]
        },
        {
          "name": "stdout",
          "output_type": "stream",
          "text": [
            "[34]\tvalidation_0-rmse:2225.74422\tvalidation_1-rmse:4146.64001\n",
            "[35]\tvalidation_0-rmse:2204.15945\tvalidation_1-rmse:4146.39852\n",
            "[36]\tvalidation_0-rmse:2167.01314\tvalidation_1-rmse:4129.44205\n",
            "[37]\tvalidation_0-rmse:2157.26304\tvalidation_1-rmse:4126.88988\n",
            "[38]\tvalidation_0-rmse:2128.67382\tvalidation_1-rmse:4118.10463\n",
            "[39]\tvalidation_0-rmse:2122.70246\tvalidation_1-rmse:4117.57707\n",
            "[40]\tvalidation_0-rmse:2115.96757\tvalidation_1-rmse:4112.06303\n",
            "[41]\tvalidation_0-rmse:2096.20132\tvalidation_1-rmse:4099.23319\n",
            "[42]\tvalidation_0-rmse:2075.62066\tvalidation_1-rmse:4089.58091\n",
            "[43]\tvalidation_0-rmse:2053.61558\tvalidation_1-rmse:4083.94980\n",
            "[44]\tvalidation_0-rmse:2048.20676\tvalidation_1-rmse:4081.04761\n",
            "[45]\tvalidation_0-rmse:2026.90745\tvalidation_1-rmse:4075.36932\n",
            "[46]\tvalidation_0-rmse:2012.33236\tvalidation_1-rmse:4073.65794\n",
            "[47]\tvalidation_0-rmse:2008.58511\tvalidation_1-rmse:4068.00164\n",
            "[48]\tvalidation_0-rmse:1981.68878\tvalidation_1-rmse:4056.10097\n",
            "[49]\tvalidation_0-rmse:1975.49840\tvalidation_1-rmse:4054.97149\n",
            "[50]\tvalidation_0-rmse:1960.13761\tvalidation_1-rmse:4049.05023\n",
            "[51]\tvalidation_0-rmse:1943.82092\tvalidation_1-rmse:4045.59663\n",
            "[52]\tvalidation_0-rmse:1915.77710\tvalidation_1-rmse:4039.16699\n",
            "[53]\tvalidation_0-rmse:1900.80873\tvalidation_1-rmse:4031.48512\n",
            "[54]\tvalidation_0-rmse:1876.92653\tvalidation_1-rmse:4030.39833\n",
            "[55]\tvalidation_0-rmse:1862.81990\tvalidation_1-rmse:4017.38431\n",
            "[56]\tvalidation_0-rmse:1845.60943\tvalidation_1-rmse:4014.15248\n",
            "[57]\tvalidation_0-rmse:1817.26845\tvalidation_1-rmse:4001.18859\n",
            "[58]\tvalidation_0-rmse:1804.82904\tvalidation_1-rmse:3995.03786\n",
            "[59]\tvalidation_0-rmse:1797.42239\tvalidation_1-rmse:3985.11534\n",
            "[60]\tvalidation_0-rmse:1785.95011\tvalidation_1-rmse:3984.47881\n",
            "[61]\tvalidation_0-rmse:1770.71414\tvalidation_1-rmse:3974.53446\n",
            "[62]\tvalidation_0-rmse:1764.20500\tvalidation_1-rmse:3976.44004\n",
            "[63]\tvalidation_0-rmse:1752.46198\tvalidation_1-rmse:3968.31010\n",
            "[64]\tvalidation_0-rmse:1737.49166\tvalidation_1-rmse:3958.34989\n",
            "[65]\tvalidation_0-rmse:1722.37445\tvalidation_1-rmse:3958.93061\n",
            "[66]\tvalidation_0-rmse:1710.35843\tvalidation_1-rmse:3955.44257\n",
            "[67]\tvalidation_0-rmse:1705.86382\tvalidation_1-rmse:3952.82704\n",
            "[68]\tvalidation_0-rmse:1692.59258\tvalidation_1-rmse:3948.75002\n",
            "[69]\tvalidation_0-rmse:1676.64106\tvalidation_1-rmse:3948.23383\n",
            "[70]\tvalidation_0-rmse:1673.31907\tvalidation_1-rmse:3948.47670\n",
            "[71]\tvalidation_0-rmse:1659.77337\tvalidation_1-rmse:3951.73581\n",
            "[72]\tvalidation_0-rmse:1650.53631\tvalidation_1-rmse:3951.65207\n",
            "[73]\tvalidation_0-rmse:1645.40129\tvalidation_1-rmse:3949.93258\n",
            "[74]\tvalidation_0-rmse:1631.01660\tvalidation_1-rmse:3944.76018\n",
            "[75]\tvalidation_0-rmse:1620.87614\tvalidation_1-rmse:3943.91591\n",
            "[76]\tvalidation_0-rmse:1608.09919\tvalidation_1-rmse:3943.36746\n",
            "[77]\tvalidation_0-rmse:1597.23262\tvalidation_1-rmse:3939.41696\n",
            "[78]\tvalidation_0-rmse:1590.23119\tvalidation_1-rmse:3940.56486\n",
            "[79]\tvalidation_0-rmse:1582.16796\tvalidation_1-rmse:3939.32518\n",
            "[80]\tvalidation_0-rmse:1575.56879\tvalidation_1-rmse:3938.10675\n",
            "[81]\tvalidation_0-rmse:1572.48547\tvalidation_1-rmse:3937.39034\n",
            "[82]\tvalidation_0-rmse:1555.60007\tvalidation_1-rmse:3931.61874\n",
            "[83]\tvalidation_0-rmse:1547.45008\tvalidation_1-rmse:3929.73102\n",
            "[84]\tvalidation_0-rmse:1541.54562\tvalidation_1-rmse:3925.18516\n",
            "[85]\tvalidation_0-rmse:1530.31685\tvalidation_1-rmse:3920.93189\n",
            "[86]\tvalidation_0-rmse:1527.45996\tvalidation_1-rmse:3918.62716\n",
            "[87]\tvalidation_0-rmse:1525.82544\tvalidation_1-rmse:3917.95078\n",
            "[88]\tvalidation_0-rmse:1516.09663\tvalidation_1-rmse:3916.91279\n",
            "[89]\tvalidation_0-rmse:1512.99935\tvalidation_1-rmse:3911.10433\n",
            "[90]\tvalidation_0-rmse:1509.53202\tvalidation_1-rmse:3910.60504\n",
            "[91]\tvalidation_0-rmse:1494.74109\tvalidation_1-rmse:3904.95859\n",
            "[92]\tvalidation_0-rmse:1492.63566\tvalidation_1-rmse:3905.00990\n",
            "[93]\tvalidation_0-rmse:1486.70603\tvalidation_1-rmse:3908.68410\n",
            "[94]\tvalidation_0-rmse:1482.75991\tvalidation_1-rmse:3907.33315\n",
            "[95]\tvalidation_0-rmse:1471.98603\tvalidation_1-rmse:3904.57411\n",
            "[96]\tvalidation_0-rmse:1460.51317\tvalidation_1-rmse:3901.94408\n",
            "[97]\tvalidation_0-rmse:1449.42621\tvalidation_1-rmse:3900.54810\n",
            "[98]\tvalidation_0-rmse:1438.07721\tvalidation_1-rmse:3899.33446\n",
            "[99]\tvalidation_0-rmse:1432.23207\tvalidation_1-rmse:3898.42477\n",
            "[100]\tvalidation_0-rmse:1426.24366\tvalidation_1-rmse:3897.12894\n",
            "[101]\tvalidation_0-rmse:1414.56341\tvalidation_1-rmse:3898.60798\n",
            "[102]\tvalidation_0-rmse:1405.93975\tvalidation_1-rmse:3898.47543\n",
            "[103]\tvalidation_0-rmse:1400.91338\tvalidation_1-rmse:3898.00920\n",
            "[104]\tvalidation_0-rmse:1398.68364\tvalidation_1-rmse:3897.64611\n",
            "[105]\tvalidation_0-rmse:1388.94556\tvalidation_1-rmse:3897.53683\n",
            "[106]\tvalidation_0-rmse:1375.37701\tvalidation_1-rmse:3898.55409\n",
            "[107]\tvalidation_0-rmse:1368.60984\tvalidation_1-rmse:3896.46442\n",
            "[108]\tvalidation_0-rmse:1364.83420\tvalidation_1-rmse:3888.17867\n",
            "[109]\tvalidation_0-rmse:1361.77948\tvalidation_1-rmse:3888.13392\n",
            "[110]\tvalidation_0-rmse:1361.10271\tvalidation_1-rmse:3888.10001\n",
            "[111]\tvalidation_0-rmse:1355.47639\tvalidation_1-rmse:3887.47975\n",
            "[112]\tvalidation_0-rmse:1353.57631\tvalidation_1-rmse:3888.41258\n",
            "[113]\tvalidation_0-rmse:1349.53008\tvalidation_1-rmse:3888.05532\n",
            "[114]\tvalidation_0-rmse:1341.08879\tvalidation_1-rmse:3889.70129\n",
            "[115]\tvalidation_0-rmse:1338.38452\tvalidation_1-rmse:3884.54823\n",
            "[116]\tvalidation_0-rmse:1326.23909\tvalidation_1-rmse:3884.82559\n",
            "[117]\tvalidation_0-rmse:1317.77945\tvalidation_1-rmse:3886.20752\n",
            "[118]\tvalidation_0-rmse:1314.09900\tvalidation_1-rmse:3885.38170\n",
            "[119]\tvalidation_0-rmse:1304.98161\tvalidation_1-rmse:3882.35358\n",
            "[120]\tvalidation_0-rmse:1303.34497\tvalidation_1-rmse:3881.17995\n",
            "[121]\tvalidation_0-rmse:1294.56579\tvalidation_1-rmse:3884.41071\n",
            "[122]\tvalidation_0-rmse:1288.04583\tvalidation_1-rmse:3883.80432\n",
            "[123]\tvalidation_0-rmse:1282.18668\tvalidation_1-rmse:3880.08646\n",
            "[124]\tvalidation_0-rmse:1277.51731\tvalidation_1-rmse:3881.17452\n",
            "[125]\tvalidation_0-rmse:1272.44616\tvalidation_1-rmse:3882.29109\n",
            "[126]\tvalidation_0-rmse:1260.86045\tvalidation_1-rmse:3881.99169\n",
            "[127]\tvalidation_0-rmse:1249.92659\tvalidation_1-rmse:3883.41386\n",
            "[128]\tvalidation_0-rmse:1236.23303\tvalidation_1-rmse:3880.58737\n",
            "[129]\tvalidation_0-rmse:1229.29997\tvalidation_1-rmse:3881.03196\n",
            "[130]\tvalidation_0-rmse:1221.61624\tvalidation_1-rmse:3879.32900\n",
            "[131]\tvalidation_0-rmse:1211.85205\tvalidation_1-rmse:3881.19253\n",
            "[132]\tvalidation_0-rmse:1205.20916\tvalidation_1-rmse:3882.36322\n",
            "[133]\tvalidation_0-rmse:1202.52726\tvalidation_1-rmse:3883.19602\n",
            "[134]\tvalidation_0-rmse:1191.37543\tvalidation_1-rmse:3884.92722\n",
            "[135]\tvalidation_0-rmse:1185.82750\tvalidation_1-rmse:3885.24565\n",
            "[136]\tvalidation_0-rmse:1181.03911\tvalidation_1-rmse:3885.29346\n",
            "[137]\tvalidation_0-rmse:1172.90585\tvalidation_1-rmse:3885.43687\n",
            "[138]\tvalidation_0-rmse:1167.00981\tvalidation_1-rmse:3884.18056\n",
            "[139]\tvalidation_0-rmse:1162.10666\tvalidation_1-rmse:3886.46201\n",
            "[140]\tvalidation_0-rmse:1153.14449\tvalidation_1-rmse:3888.12877\n",
            "[141]\tvalidation_0-rmse:1148.39463\tvalidation_1-rmse:3887.98966\n",
            "[142]\tvalidation_0-rmse:1145.16609\tvalidation_1-rmse:3888.99617\n",
            "[143]\tvalidation_0-rmse:1144.33370\tvalidation_1-rmse:3887.95001\n",
            "[144]\tvalidation_0-rmse:1138.91349\tvalidation_1-rmse:3886.56361\n",
            "[145]\tvalidation_0-rmse:1128.17835\tvalidation_1-rmse:3885.70200\n",
            "[146]\tvalidation_0-rmse:1127.16868\tvalidation_1-rmse:3885.66973\n",
            "[147]\tvalidation_0-rmse:1123.23196\tvalidation_1-rmse:3884.89868\n",
            "[148]\tvalidation_0-rmse:1119.35521\tvalidation_1-rmse:3884.93377\n",
            "[149]\tvalidation_0-rmse:1116.89668\tvalidation_1-rmse:3884.37935\n",
            "Root Mean Square Error on training set: 1116.896683494143\n",
            "Root Mean Square Error on test set: 3884.3793461700316\n"
          ]
        }
      ],
      "source": [
        "import xgboost as xgb\n",
        "\n",
        "\n",
        "def question_4_1(X_train: np.ndarray, y_train: np.ndarray, X_test: np.ndarray, y_test: np.ndarray) -> xgb.XGBRegressor:\n",
        "    \"\"\"\n",
        "        Train a XGBRegressor model on X_train, y_train\n",
        "        Return a trained xgb.XGBRegressor\n",
        "    \"\"\"\n",
        "    # Write your code in this block -----------------------------------------------------------\n",
        "\n",
        "    ## Step 1: initialize a `XGBRegressor` object, with objective='reg:squarederror' (loss function),\n",
        "    # `n_estimators` = 150 (i.e., the number of trees),  `learning_rate`=0.2 and `random_state`=2022\n",
        "    model = xgb.XGBRegressor(objective='reg:squarederror', n_estimators=150, learning_rate=0.2, random_state=2022)\n",
        "\n",
        "\n",
        "    ## Step 2: fit the model on X_train, y_train\n",
        "    # In `fit()`, pass (X_train, y_train), (X_test, y_test) as  2 datasets for `eval_set`. You should refer to\n",
        "    # the document to see how to use `eval_set` with `fit()`\n",
        "    model.fit(X_train, y_train, eval_set=[(X_train, y_train), (X_test, y_test)])\n",
        "\n",
        "    ## Step 3: return the trained model\n",
        "    return model\n",
        "    # End of your code ------------------------------------------------------------------------\n",
        "\n",
        "\n",
        "### test your model\n",
        "xgb_model = question_4_1(X_train, y_train, X_test, y_test)\n",
        "train_pred = xgb_model.predict(X_train)\n",
        "test_pred = xgb_model.predict(X_test)\n",
        "print(\"Root Mean Square Error on training set:\", question_3_3(y_train, train_pred))\n",
        "print(\"Root Mean Square Error on test set:\", question_3_3(y_test, test_pred))"
      ]
    },
    {
      "cell_type": "markdown",
      "id": "01403bd3",
      "metadata": {
        "id": "01403bd3"
      },
      "source": [
        "We can observe that Xgboost perform much beter than the regression tree (lower RMSE) on this dataset."
      ]
    },
    {
      "cell_type": "markdown",
      "id": "2a83bed1",
      "metadata": {
        "id": "2a83bed1"
      },
      "source": [
        "## **4.2 Graph:** Plot train and test errors *(5 pts)*\n",
        "`XGBRegressor` objects have `.evals_result()` which stores all the training and validation losses.\n"
      ]
    },
    {
      "cell_type": "code",
      "execution_count": 27,
      "id": "fff65dc9",
      "metadata": {
        "colab": {
          "base_uri": "https://localhost:8080/"
        },
        "id": "fff65dc9",
        "outputId": "ea3c88f8-154c-4005-d4b8-3cd57469aea7"
      },
      "outputs": [
        {
          "name": "stdout",
          "output_type": "stream",
          "text": [
            "dict_keys(['validation_0', 'validation_1'])\n"
          ]
        }
      ],
      "source": [
        "results = xgb_model.evals_result()\n",
        "print(results.keys())"
      ]
    },
    {
      "cell_type": "code",
      "execution_count": 28,
      "id": "881f7cd9",
      "metadata": {
        "colab": {
          "base_uri": "https://localhost:8080/",
          "height": 619
        },
        "id": "881f7cd9",
        "outputId": "ec2457e9-1ecd-47c7-b5d5-0f0260db66b9"
      },
      "outputs": [
        {
          "data": {
            "image/png": "[encoded data removed]",
            "text/plain": [
              "<Figure size 432x288 with 1 Axes>"
            ]
          },
          "metadata": {
            "needs_background": "light"
          },
          "output_type": "display_data"
        }
      ],
      "source": [
        "### Generate the code to plot traning loss and validation loss from `results`\n",
        "\n",
        "def question_4_2(results: Dict) -> None:\n",
        "    # Write your code in this block -----------------------------------------------------------\n",
        "    train_loss = results['validation_0']['rmse']\n",
        "    test_loss = results['validation_1']['rmse']\n",
        "    \n",
        "    plt.plot(train_loss, label='Training Loss')\n",
        "    plt.plot(test_loss, label='Validation Loss')\n",
        "    plt.xlabel('Number of trees')\n",
        "    plt.ylabel('Loss')\n",
        "    plt.legend()\n",
        "    plt.show()\n",
        "    # End of your code ------------------------------------------------------------------------\n",
        "\n",
        "\n",
        "## Test your code: You should have a similar plot as below\n",
        "# No need to be exactly the same (can be different in style, color), but MUST have legend\n",
        "# Please include the generated plot to the pdf submission file\n",
        "question_4_2(results)"
      ]
    },
    {
      "cell_type": "markdown",
      "id": "d216d4b1",
      "metadata": {
        "id": "d216d4b1"
      },
      "source": [
        "**Feature Importance**\n",
        "\n",
        "Generally, feature importance provides a score that indicates how useful or valuable each feature was in the construction of the boosting trees within the model. It gives us a general idea of which features are more importance."
      ]
    },
    {
      "cell_type": "code",
      "execution_count": 29,
      "id": "9c4fa753",
      "metadata": {
        "colab": {
          "base_uri": "https://localhost:8080/",
          "height": 489
        },
        "id": "9c4fa753",
        "outputId": "f52dd837-b1c1-4bbd-c870-110f87a1e4d9"
      },
      "outputs": [
        {
          "data": {
            "text/plain": [
              "<Axes: title={'center': 'Feature importance'}, xlabel='F score', ylabel='Features'>"
            ]
          },
          "execution_count": 29,
          "metadata": {},
          "output_type": "execute_result"
        },
        {
          "data": {
            "image/png": "[encoded data removed]",
            "text/plain": [
              "<Figure size 432x288 with 1 Axes>"
            ]
          },
          "metadata": {
            "needs_background": "light"
          },
          "output_type": "display_data"
        }
      ],
      "source": [
        "## There are some options for `importance_type`,\n",
        "# each may return a different result for feature importance\n",
        "# you can refer to the document of XGBoost for more detail.\n",
        "xgb.plot_importance(xgb_model, importance_type='weight')"
      ]
    },
    {
      "cell_type": "markdown",
      "id": "0f89d9af",
      "metadata": {
        "id": "0f89d9af"
      },
      "source": [
        "This suggests that \"mileage\", \"model\" and \"mpg\" are the most important features for the xgboost model to predict \"price\" of a used car in the dataset."
      ]
    },
    {
      "cell_type": "markdown",
      "id": "5330190b",
      "metadata": {
        "id": "5330190b"
      },
      "source": [
        "# **Question 5.** Linear regression models (*20 total points*)"
      ]
    },
    {
      "cell_type": "markdown",
      "id": "7125e6f9",
      "metadata": {
        "id": "7125e6f9"
      },
      "source": [
        "At http://www.statsci.org/data/general/kittiwak.txt, you can find an existing dataset\n",
        "collected by D.K. Cairns in 1988 that analysed the relation between population and foraging area for seabird colonies."
      ]
    },
    {
      "cell_type": "markdown",
      "id": "634acc96",
      "metadata": {
        "id": "634acc96"
      },
      "source": [
        "We will use this dataset to fit simple regression models and analyze their performance."
      ]
    },
    {
      "cell_type": "markdown",
      "id": "2cfaeeb1",
      "metadata": {
        "id": "2cfaeeb1"
      },
      "source": [
        "## **5.1 Code:** Fitting regression model (*5 pts*)"
      ]
    },
    {
      "cell_type": "markdown",
      "id": "ea449668",
      "metadata": {
        "id": "ea449668"
      },
      "source": [
        "**Question**:  Using the 22 data points that you have to copy directly into the following code block from the website, fit a regression line for the relationship between the population size and the log area for the seabird (i.e., kittiwake) colonies. The x-axis should represent the log area, while the y-axis should show the population size.\n"
      ]
    },
    {
      "cell_type": "markdown",
      "id": "2f91800a",
      "metadata": {
        "id": "2f91800a"
      },
      "source": [
        "We will use this dataset to fit simple regression models and analyse their performance."
      ]
    },
    {
      "cell_type": "code",
      "execution_count": 30,
      "id": "0dc2f1b3",
      "metadata": {
        "id": "0dc2f1b3"
      },
      "outputs": [
        {
          "data": {
            "image/png": "[encoded data removed]",
            "text/plain": [
              "<Figure size 432x288 with 1 Axes>"
            ]
          },
          "metadata": {
            "needs_background": "light"
          },
          "output_type": "display_data"
        }
      ],
      "source": [
        "from sklearn.linear_model import LinearRegression\n",
        "\n",
        "\n",
        "##Write your answer/code in this block\n",
        "# Include this part along with the generated plot in both your .py submission and .pdf submission!\n",
        "\n",
        "data = {\n",
        "    \"W. Unst\": (207.7, 311),\n",
        "    \"Hermaness\": (1570, 3872),\n",
        "    \"N.E. Unst\": (1588, 495),\n",
        "    \"W. Yell\": (125.7, 134),\n",
        "    \"Buravoe\": (353.4, 485),\n",
        "    \"Fetlar\": (931, 372),\n",
        "    \"Out Skerries\": (1616, 284),\n",
        "    \"Noss\": (1317, 10767),\n",
        "    \"Moussa\": (614, 1975),\n",
        "    \"Dalsetter\": (60.12, 970),\n",
        "    \"Sumburgh\": (1273, 3243),\n",
        "    \"Fitful Head\": (595.7, 500),\n",
        "    \"St Ninians\": (105.6, 250),\n",
        "    \"S. Havra\": (241.9, 925),\n",
        "    \"Reawick\": (111.1, 970),\n",
        "    \"Vaila\": (302.4, 278),\n",
        "    \"Papa Stour\": (808.9, 1036),\n",
        "    \"Foula\": (2927, 5570),\n",
        "    \"Eshaness\": (1069, 2430),\n",
        "    \"Uyea\": (898.2, 731),\n",
        "    \"Gruney\": (564.8, 1364),\n",
        "    \"Fair Isle\": (3957, 17000),\n",
        "}\n",
        "\n",
        "areas = np.array([data[colony][0] for colony in data])\n",
        "populations = np.array([data[colony][1] for colony in data])\n",
        "\n",
        "log_areas = np.log(areas)\n",
        "\n",
        "model = LinearRegression()\n",
        "model.fit(log_areas.reshape(-1, 1), populations)\n",
        "\n",
        "X_pred = np.linspace(min(log_areas), max(log_areas), 100).reshape(-1, 1)\n",
        "y_pred = model.predict(X_pred)\n",
        "\n",
        "plt.scatter(log_areas, populations)\n",
        "plt.plot(X_pred, y_pred, color='red')\n",
        "\n",
        "plt.xlabel('Log area')\n",
        "plt.ylabel('Population size')\n",
        "plt.title(\"Regression Model With Outliers\")\n",
        "plt.show()"
      ]
    },
    {
      "cell_type": "markdown",
      "id": "cd79f58e",
      "metadata": {
        "id": "cd79f58e"
      },
      "source": [
        "## **5.2 Short answer:** Performance Analysis *(5 pts)*"
      ]
    },
    {
      "cell_type": "markdown",
      "id": "d54ed0c9",
      "metadata": {
        "id": "d54ed0c9"
      },
      "source": [
        "**Question**: Based on your result from question 5.1 how well does your regression model explains the data? If you had a large island, to what extent would you trust the prediction\n",
        "produced by this regression? If you had a small island, would you trust the answer more? Why?"
      ]
    },
    {
      "cell_type": "markdown",
      "id": "21b6b7ad",
      "metadata": {
        "id": "21b6b7ad"
      },
      "source": [
        "The regression model captures the general trend that larger areas tend to support larger populations. However, it does not fit the data very well, as we notice from the spread of points around the regression line, especially for larger areas where population sizes vary greatly.\n",
        "\n",
        "For a large island, I would not trust the prediction much, since the model sometimes overestimates or underestimates population size. The high variation in large islands makes predictions uncertain.\n",
        "\n",
        "For a small island, I would trust the prediction more, since the model fits smaller areas better. With more small islands in the dataset, the model has more examples to learn from, making the estimates more reliable."
      ]
    },
    {
      "cell_type": "markdown",
      "id": "395864b6",
      "metadata": {
        "id": "395864b6"
      },
      "source": [
        "## **5.3 Code:** Plotting regression model without outliers *(5 pts)*"
      ]
    },
    {
      "cell_type": "markdown",
      "id": "09e51ce5",
      "metadata": {
        "id": "09e51ce5"
      },
      "source": [
        "**Question**: Using the same 22 data points, fit a regression model while excluding the two most obvious outliers. You should includes **all 22 data points** in the final plot.\n"
      ]
    },
    {
      "cell_type": "markdown",
      "id": "b74f45b0",
      "metadata": {
        "id": "b74f45b0"
      },
      "source": [
        "You can use LinearRegression from Sklearn to fit a regression model."
      ]
    },
    {
      "cell_type": "code",
      "execution_count": 31,
      "id": "530ec9d5",
      "metadata": {
        "id": "530ec9d5"
      },
      "outputs": [
        {
          "data": {
            "image/png": "[encoded data removed]",
            "text/plain": [
              "<Figure size 432x288 with 1 Axes>"
            ]
          },
          "metadata": {
            "needs_background": "light"
          },
          "output_type": "display_data"
        }
      ],
      "source": [
        "from sklearn.linear_model import LinearRegression\n",
        "\n",
        "\n",
        "##Write your answer/code in this block\n",
        "# Include this part along with the generated plot in both your .py submission and .pdf submission!\n",
        "\n",
        "#create a deep copy of the data\n",
        "filtered_data = data.copy()\n",
        "\n",
        "#remove outliers from the data\n",
        "del filtered_data[\"Noss\"]\n",
        "del filtered_data[\"Fair Isle\"]\n",
        "\n",
        "areas_filtered = np.array([filtered_data[colony][0] for colony in filtered_data])\n",
        "populations_filtered = np.array([filtered_data[colony][1] for colony in filtered_data])\n",
        "\n",
        "log_areas_filtered = np.log(areas_filtered)\n",
        "\n",
        "model = LinearRegression()\n",
        "model.fit(log_areas_filtered.reshape(-1, 1), populations_filtered)\n",
        "\n",
        "X_pred = np.linspace(min(log_areas_filtered), max(log_areas_filtered), 100).reshape(-1, 1)\n",
        "y_pred = model.predict(X_pred)\n",
        "\n",
        "plt.scatter(log_areas, populations)\n",
        "plt.plot(X_pred, y_pred, color='red')\n",
        "\n",
        "plt.xlabel('Log area')\n",
        "plt.ylabel('Population size')\n",
        "plt.title(\"Regression Model Excluding Outliers\")\n",
        "plt.show()"
      ]
    },
    {
      "cell_type": "markdown",
      "id": "25bf1e06",
      "metadata": {
        "id": "25bf1e06"
      },
      "source": [
        "## **5.4 Short answer:** Comparing linear regression models *(5 pts)*"
      ]
    },
    {
      "cell_type": "markdown",
      "id": "6f530628",
      "metadata": {
        "id": "6f530628"
      },
      "source": [
        "**Question**:  Compare the plots from questions 5.1 and 5.2. Based on your linear regression result from question 5.2, which excludes two likely outliers, would you trust the predictions of this regression model more? Why or why not?"
      ]
    },
    {
      "cell_type": "markdown",
      "id": "f4c8537f",
      "metadata": {},
      "source": [
        "When removing the two outliers, the regression line becomes less steep, meaning the model is not as affected by extreme values. The original model overestimated population size for large areas because those outliers pulled the line up.\n",
        "\n",
        "The new model captures overall trend better. However, the data points are still spread out around the regression line, so the model is not very accurate at making predictions.\n",
        "\n",
        "In conclusion, if I were to choose between the two models, I would trust the new model more because it less influenced by extreme values. But since the data remains relatively scattered, a simple line is probably not the best way to predict population size."
      ]
    },
    {
      "cell_type": "markdown",
      "id": "eff1e2ac",
      "metadata": {
        "id": "eff1e2ac"
      },
      "source": [
        "**Congrats! You have reached to the end of Pset3**"
      ]
    }
  ],
  "metadata": {
    "colab": {
      "provenance": []
    },
    "hide_input": false,
    "kernelspec": {
      "display_name": "Python 3 (ipykernel)",
      "language": "python",
      "name": "python3"
    },
    "language_info": {
      "codemirror_mode": {
        "name": "ipython",
        "version": 3
      },
      "file_extension": ".py",
      "mimetype": "text/x-python",
      "name": "python",
      "nbconvert_exporter": "python",
      "pygments_lexer": "ipython3",
      "version": "3.9.12"
    },
    "toc": {
      "base_numbering": 1,
      "nav_menu": {},
      "number_sections": true,
      "sideBar": true,
      "skip_h1_title": false,
      "title_cell": "Table of Contents",
      "title_sidebar": "Contents",
      "toc_cell": false,
      "toc_position": {
        "height": "calc(100% - 180px)",
        "left": "10px",
        "top": "150px",
        "width": "326.2px"
      },
      "toc_section_display": true,
      "toc_window_display": true
    }
  },
  "nbformat": 4,
  "nbformat_minor": 5
}
