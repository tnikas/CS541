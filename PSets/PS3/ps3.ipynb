{
  "cells": [
    {
      "cell_type": "markdown",
      "id": "RtyaMANFEZKH",
      "metadata": {
        "id": "RtyaMANFEZKH"
      },
      "source": [
        "# CS541: Applied Machine Learning, Spring 2025, Problem Set 3\n",
        "### _Note: Do not delete or add blocks, do not change the function names. If you do this the autograder won't run properly and you might get a 0. Avoid using global variables inside your function. Failing to define your variables correctly could result in a score of 0._\n",
        "\n",
        "Problem set 3 is due in Gradescope on **Mar 27 at 11:59pm**.\n",
        "All the questions are in this jupyter notebook file. There are four questions in this assignment, each of which could have multiple parts and consists of a mix of coding and short answer questions. This assignment is worth a total of **103 points** (**53 pts** coding, and **50 pts** short answer).  Note that each individual pset contributes the same amount to the final grade regardless of the number of points it is worth.\n",
        "\n",
        "After completing these questions you will need to covert this notebook into a .py file named **ps3.py** and a pdf file named **ps3.pdf** in order to submit it. Additionally, upload all your typed codes (details below).\n",
        "\n",
        "**Submission instructions:** please upload your completed solution files to Gradescope by the due date. **Make sure you have run all code cells and rendered all markdown/Latex without any errors.**\n",
        "\n",
        "There will be three separate submission links for the assignment:\n",
        "1. Submit **ps3.py** to `PS3-Code`\n",
        "2. Submit **ONLY your typed code** to `PS3-Typed Code`.\n",
        "  + The .py file should contain **ONLY your typed code** (Do not include any other code apart from what you coded for the assignment).\n",
        "  + The .py should not contain any written answers. Only the code you wrote.\n",
        "  + If your typed code falls under a function definition thats predefined by us, **ONLY include your typed code** and nothing else.\n",
        "  + For each cell block within colab/jupyter that you typed your ocde in, Add 2 new lines (\"\\n\") before pasting your typed code in the .py file.\n",
        "  + Please name the .py file your actual name.\n",
        "\n",
        "3. Submit a single `.pdf` report that contains your work for all written questions to `PS3`. You can type your responses in LaTeX, or any other word processing software.  You can also hand write them on a tablet, or scan in hand-written answers. If you hand-write, please make sure they are neat and legible. If you are scanning, make sure that the scans are legible. Lastly, convert your work into a `PDF`. You can use Jupyter Notebook to convert the formats:\n",
        "  + Convert to PDF file: Go to File->Download as->PDF\n",
        "  + Convert py file: Go to File->Download as->py\\\n",
        "You can take a look at an example [here](https://raw.githubusercontent.com/chaudatascience/cs599_fall2022/master/ps1/convert_py.gif)\n",
        "\n",
        "  Your written responses in the PDF report should be self-contained. It should include all the output you want us to look at. **You will not receive credit for any results you have obtained, but failed to include directly in the PDF report file.  Please tag the reponses in your PDF with the Gradescope questions outline  as described in [Submitting an Assignment](https://youtu.be/u-pK4GzpId0). Failure to follow these instructions will result in a loss of points.**\n",
        "  \n"
      ]
    },
    {
      "cell_type": "markdown",
      "id": "a636aea4",
      "metadata": {
        "id": "a636aea4",
        "tags": []
      },
      "source": [
        "**Assignment Setup**\n",
        "\n",
        "You are strongly encouraged to use [Google Colab](https://colab.research.google.com/) for this assignment.\n",
        "\n",
        "If you would prefer to setup your code locally on your own machine, you will need [Jupyter Notebook](https://jupyter.org/install#jupyter-notebook) or [JupyterLab](https://jupyter.org/install#jupyterlab) installation. One way to set it up is to install “Anaconda” distribution, which has Python (you should install python version >= 3.9 as this notebook is tested with python 3.9), several libraries including the Jupyter Notebook that we will use in class. It is available for Windows, Linux, and Mac OS X [here](https://docs.conda.io/en/latest/miniconda.html).\n",
        "\n",
        "If you are not familiar with Jupyter Notebook, you can follow [this blog](https://realpython.com/jupyter-notebook-introduction/) for an introduction.  After developing your code using Jupyter, you are encouraged to test it on Google Colab to ensure it works in both settings.\n",
        "\n",
        "\n",
        "You cannot use packages other than the ones already imported in this assignment.\n"
      ]
    },
    {
      "cell_type": "markdown",
      "id": "5d1e0656",
      "metadata": {
        "id": "5d1e0656"
      },
      "source": [
        "**Jupyter Tip 1**: To run a cell, press `Shift+Enter` or click on \"play\" button above. To edit any code or text cell [double] click on its content. To change cell type, choose \"Markdown\" or \"Code\" in the drop-down menu above.\n"
      ]
    },
    {
      "cell_type": "markdown",
      "id": "487a798b",
      "metadata": {
        "id": "487a798b"
      },
      "source": [
        "**Jupyter Tip 2**: Use shortcut \"Shift + Tab\" to show the documentation of a function in Jupyter Notebook/ Jupterlab. Press Shift then double Tab (i.e., press Tab twice) to show the full documentation.\\\n",
        "For example, type `sum(` then Shift + Tab to show the documentation for the function, as shown in this the picture below."
      ]
    },
    {
      "cell_type": "code",
      "execution_count": null,
      "id": "457fa897",
      "metadata": {
        "id": "457fa897"
      },
      "outputs": [],
      "source": [
        "## import some libraries\n",
        "import sklearn\n",
        "from sklearn import datasets\n",
        "import numpy as np\n",
        "from typing import Tuple, List, Dict\n",
        "import pandas as pd\n",
        "import matplotlib.pyplot as plt\n",
        "import seaborn as sns\n",
        "from sklearn.preprocessing import StandardScaler\n",
        "from sklearn.model_selection import cross_val_score, train_test_split\n",
        "from sklearn.metrics import mean_squared_error\n",
        "from scipy.spatial.distance import cdist\n",
        "from sklearn.tree import DecisionTreeRegressor\n",
        "from sklearn import tree\n",
        "from tqdm import tqdm"
      ]
    },
    {
      "cell_type": "markdown",
      "id": "AEWiGFpCkK65",
      "metadata": {
        "id": "AEWiGFpCkK65"
      },
      "source": [
        "# **Question 1.** Linear Regression (*15 total points*)"
      ]
    },
    {
      "cell_type": "markdown",
      "id": "8c8b190b",
      "metadata": {
        "id": "8c8b190b"
      },
      "source": [
        "## **1.1 Code:** Linear Regression using Sklearn *(5 pts)*"
      ]
    },
    {
      "cell_type": "markdown",
      "id": "AmQUHlOraxsR",
      "metadata": {
        "id": "AmQUHlOraxsR"
      },
      "source": [
        "In this section, we will work with a demo dataset. The data consists of 2 columns: `hours_practice` (number of hours to practice) and `score`."
      ]
    },
    {
      "cell_type": "code",
      "execution_count": null,
      "id": "EKz_mrMyYfRI",
      "metadata": {
        "colab": {
          "base_uri": "https://localhost:8080/",
          "height": 192
        },
        "id": "EKz_mrMyYfRI",
        "outputId": "02d2f007-99c2-41e0-9d3a-bb124dcc462a"
      },
      "outputs": [
        {
          "output_type": "stream",
          "name": "stdout",
          "text": [
            "data shape: (100, 2)\n"
          ]
        },
        {
          "output_type": "execute_result",
          "data": {
            "text/plain": [
              "    hours_practice      score\n",
              "41       43.318283  58.569825\n",
              "93       46.230966  90.123572\n",
              "37       33.093832  50.719589\n",
              "55       55.078096  71.139728"
            ],
            "text/html": [
              "\n",
              "  <div id=\"df-b59b74f6-2df9-4194-9406-fe3980b43858\" class=\"colab-df-container\">\n",
              "    <div>\n",
              "<style scoped>\n",
              "    .dataframe tbody tr th:only-of-type {\n",
              "        vertical-align: middle;\n",
              "    }\n",
              "\n",
              "    .dataframe tbody tr th {\n",
              "        vertical-align: top;\n",
              "    }\n",
              "\n",
              "    .dataframe thead th {\n",
              "        text-align: right;\n",
              "    }\n",
              "</style>\n",
              "<table border=\"1\" class=\"dataframe\">\n",
              "  <thead>\n",
              "    <tr style=\"text-align: right;\">\n",
              "      <th></th>\n",
              "      <th>hours_practice</th>\n",
              "      <th>score</th>\n",
              "    </tr>\n",
              "  </thead>\n",
              "  <tbody>\n",
              "    <tr>\n",
              "      <th>41</th>\n",
              "      <td>43.318283</td>\n",
              "      <td>58.569825</td>\n",
              "    </tr>\n",
              "    <tr>\n",
              "      <th>93</th>\n",
              "      <td>46.230966</td>\n",
              "      <td>90.123572</td>\n",
              "    </tr>\n",
              "    <tr>\n",
              "      <th>37</th>\n",
              "      <td>33.093832</td>\n",
              "      <td>50.719589</td>\n",
              "    </tr>\n",
              "    <tr>\n",
              "      <th>55</th>\n",
              "      <td>55.078096</td>\n",
              "      <td>71.139728</td>\n",
              "    </tr>\n",
              "  </tbody>\n",
              "</table>\n",
              "</div>\n",
              "    <div class=\"colab-df-buttons\">\n",
              "\n",
              "  <div class=\"colab-df-container\">\n",
              "    <button class=\"colab-df-convert\" onclick=\"convertToInteractive('df-b59b74f6-2df9-4194-9406-fe3980b43858')\"\n",
              "            title=\"Convert this dataframe to an interactive table.\"\n",
              "            style=\"display:none;\">\n",
              "\n",
              "  <svg xmlns=\"http://www.w3.org/2000/svg\" height=\"24px\" viewBox=\"0 -960 960 960\">\n",
              "    <path d=\"M120-120v-720h720v720H120Zm60-500h600v-160H180v160Zm220 220h160v-160H400v160Zm0 220h160v-160H400v160ZM180-400h160v-160H180v160Zm440 0h160v-160H620v160ZM180-180h160v-160H180v160Zm440 0h160v-160H620v160Z\"/>\n",
              "  </svg>\n",
              "    </button>\n",
              "\n",
              "  <style>\n",
              "    .colab-df-container {\n",
              "      display:flex;\n",
              "      gap: 12px;\n",
              "    }\n",
              "\n",
              "    .colab-df-convert {\n",
              "      background-color: #E8F0FE;\n",
              "      border: none;\n",
              "      border-radius: 50%;\n",
              "      cursor: pointer;\n",
              "      display: none;\n",
              "      fill: #1967D2;\n",
              "      height: 32px;\n",
              "      padding: 0 0 0 0;\n",
              "      width: 32px;\n",
              "    }\n",
              "\n",
              "    .colab-df-convert:hover {\n",
              "      background-color: #E2EBFA;\n",
              "      box-shadow: 0px 1px 2px rgba(60, 64, 67, 0.3), 0px 1px 3px 1px rgba(60, 64, 67, 0.15);\n",
              "      fill: #174EA6;\n",
              "    }\n",
              "\n",
              "    .colab-df-buttons div {\n",
              "      margin-bottom: 4px;\n",
              "    }\n",
              "\n",
              "    [theme=dark] .colab-df-convert {\n",
              "      background-color: #3B4455;\n",
              "      fill: #D2E3FC;\n",
              "    }\n",
              "\n",
              "    [theme=dark] .colab-df-convert:hover {\n",
              "      background-color: #434B5C;\n",
              "      box-shadow: 0px 1px 3px 1px rgba(0, 0, 0, 0.15);\n",
              "      filter: drop-shadow(0px 1px 2px rgba(0, 0, 0, 0.3));\n",
              "      fill: #FFFFFF;\n",
              "    }\n",
              "  </style>\n",
              "\n",
              "    <script>\n",
              "      const buttonEl =\n",
              "        document.querySelector('#df-b59b74f6-2df9-4194-9406-fe3980b43858 button.colab-df-convert');\n",
              "      buttonEl.style.display =\n",
              "        google.colab.kernel.accessAllowed ? 'block' : 'none';\n",
              "\n",
              "      async function convertToInteractive(key) {\n",
              "        const element = document.querySelector('#df-b59b74f6-2df9-4194-9406-fe3980b43858');\n",
              "        const dataTable =\n",
              "          await google.colab.kernel.invokeFunction('convertToInteractive',\n",
              "                                                    [key], {});\n",
              "        if (!dataTable) return;\n",
              "\n",
              "        const docLinkHtml = 'Like what you see? Visit the ' +\n",
              "          '<a target=\"_blank\" href=https://colab.research.google.com/notebooks/data_table.ipynb>data table notebook</a>'\n",
              "          + ' to learn more about interactive tables.';\n",
              "        element.innerHTML = '';\n",
              "        dataTable['output_type'] = 'display_data';\n",
              "        await google.colab.output.renderOutput(dataTable, element);\n",
              "        const docLink = document.createElement('div');\n",
              "        docLink.innerHTML = docLinkHtml;\n",
              "        element.appendChild(docLink);\n",
              "      }\n",
              "    </script>\n",
              "  </div>\n",
              "\n",
              "\n",
              "<div id=\"df-e355aee1-2ac6-4c6d-91fd-6a8f970ae1ad\">\n",
              "  <button class=\"colab-df-quickchart\" onclick=\"quickchart('df-e355aee1-2ac6-4c6d-91fd-6a8f970ae1ad')\"\n",
              "            title=\"Suggest charts\"\n",
              "            style=\"display:none;\">\n",
              "\n",
              "<svg xmlns=\"http://www.w3.org/2000/svg\" height=\"24px\"viewBox=\"0 0 24 24\"\n",
              "     width=\"24px\">\n",
              "    <g>\n",
              "        <path d=\"M19 3H5c-1.1 0-2 .9-2 2v14c0 1.1.9 2 2 2h14c1.1 0 2-.9 2-2V5c0-1.1-.9-2-2-2zM9 17H7v-7h2v7zm4 0h-2V7h2v10zm4 0h-2v-4h2v4z\"/>\n",
              "    </g>\n",
              "</svg>\n",
              "  </button>\n",
              "\n",
              "<style>\n",
              "  .colab-df-quickchart {\n",
              "      --bg-color: #E8F0FE;\n",
              "      --fill-color: #1967D2;\n",
              "      --hover-bg-color: #E2EBFA;\n",
              "      --hover-fill-color: #174EA6;\n",
              "      --disabled-fill-color: #AAA;\n",
              "      --disabled-bg-color: #DDD;\n",
              "  }\n",
              "\n",
              "  [theme=dark] .colab-df-quickchart {\n",
              "      --bg-color: #3B4455;\n",
              "      --fill-color: #D2E3FC;\n",
              "      --hover-bg-color: #434B5C;\n",
              "      --hover-fill-color: #FFFFFF;\n",
              "      --disabled-bg-color: #3B4455;\n",
              "      --disabled-fill-color: #666;\n",
              "  }\n",
              "\n",
              "  .colab-df-quickchart {\n",
              "    background-color: var(--bg-color);\n",
              "    border: none;\n",
              "    border-radius: 50%;\n",
              "    cursor: pointer;\n",
              "    display: none;\n",
              "    fill: var(--fill-color);\n",
              "    height: 32px;\n",
              "    padding: 0;\n",
              "    width: 32px;\n",
              "  }\n",
              "\n",
              "  .colab-df-quickchart:hover {\n",
              "    background-color: var(--hover-bg-color);\n",
              "    box-shadow: 0 1px 2px rgba(60, 64, 67, 0.3), 0 1px 3px 1px rgba(60, 64, 67, 0.15);\n",
              "    fill: var(--button-hover-fill-color);\n",
              "  }\n",
              "\n",
              "  .colab-df-quickchart-complete:disabled,\n",
              "  .colab-df-quickchart-complete:disabled:hover {\n",
              "    background-color: var(--disabled-bg-color);\n",
              "    fill: var(--disabled-fill-color);\n",
              "    box-shadow: none;\n",
              "  }\n",
              "\n",
              "  .colab-df-spinner {\n",
              "    border: 2px solid var(--fill-color);\n",
              "    border-color: transparent;\n",
              "    border-bottom-color: var(--fill-color);\n",
              "    animation:\n",
              "      spin 1s steps(1) infinite;\n",
              "  }\n",
              "\n",
              "  @keyframes spin {\n",
              "    0% {\n",
              "      border-color: transparent;\n",
              "      border-bottom-color: var(--fill-color);\n",
              "      border-left-color: var(--fill-color);\n",
              "    }\n",
              "    20% {\n",
              "      border-color: transparent;\n",
              "      border-left-color: var(--fill-color);\n",
              "      border-top-color: var(--fill-color);\n",
              "    }\n",
              "    30% {\n",
              "      border-color: transparent;\n",
              "      border-left-color: var(--fill-color);\n",
              "      border-top-color: var(--fill-color);\n",
              "      border-right-color: var(--fill-color);\n",
              "    }\n",
              "    40% {\n",
              "      border-color: transparent;\n",
              "      border-right-color: var(--fill-color);\n",
              "      border-top-color: var(--fill-color);\n",
              "    }\n",
              "    60% {\n",
              "      border-color: transparent;\n",
              "      border-right-color: var(--fill-color);\n",
              "    }\n",
              "    80% {\n",
              "      border-color: transparent;\n",
              "      border-right-color: var(--fill-color);\n",
              "      border-bottom-color: var(--fill-color);\n",
              "    }\n",
              "    90% {\n",
              "      border-color: transparent;\n",
              "      border-bottom-color: var(--fill-color);\n",
              "    }\n",
              "  }\n",
              "</style>\n",
              "\n",
              "  <script>\n",
              "    async function quickchart(key) {\n",
              "      const quickchartButtonEl =\n",
              "        document.querySelector('#' + key + ' button');\n",
              "      quickchartButtonEl.disabled = true;  // To prevent multiple clicks.\n",
              "      quickchartButtonEl.classList.add('colab-df-spinner');\n",
              "      try {\n",
              "        const charts = await google.colab.kernel.invokeFunction(\n",
              "            'suggestCharts', [key], {});\n",
              "      } catch (error) {\n",
              "        console.error('Error during call to suggestCharts:', error);\n",
              "      }\n",
              "      quickchartButtonEl.classList.remove('colab-df-spinner');\n",
              "      quickchartButtonEl.classList.add('colab-df-quickchart-complete');\n",
              "    }\n",
              "    (() => {\n",
              "      let quickchartButtonEl =\n",
              "        document.querySelector('#df-e355aee1-2ac6-4c6d-91fd-6a8f970ae1ad button');\n",
              "      quickchartButtonEl.style.display =\n",
              "        google.colab.kernel.accessAllowed ? 'block' : 'none';\n",
              "    })();\n",
              "  </script>\n",
              "</div>\n",
              "\n",
              "    </div>\n",
              "  </div>\n"
            ],
            "application/vnd.google.colaboratory.intrinsic+json": {
              "type": "dataframe",
              "summary": "{\n  \"name\": \"df\",\n  \"rows\": 4,\n  \"fields\": [\n    {\n      \"column\": \"hours_practice\",\n      \"properties\": {\n        \"dtype\": \"number\",\n        \"std\": 9.062193494493027,\n        \"min\": 33.09383173616396,\n        \"max\": 55.0780959049232,\n        \"num_unique_values\": 4,\n        \"samples\": [\n          46.230966498310245,\n          55.0780959049232,\n          43.31828263186572\n        ],\n        \"semantic_type\": \"\",\n        \"description\": \"\"\n      }\n    },\n    {\n      \"column\": \"score\",\n      \"properties\": {\n        \"dtype\": \"number\",\n        \"std\": 17.18844074627755,\n        \"min\": 50.71958891231208,\n        \"max\": 90.12357206996742,\n        \"num_unique_values\": 4,\n        \"samples\": [\n          90.12357206996742,\n          71.13972785861894,\n          58.569824717692875\n        ],\n        \"semantic_type\": \"\",\n        \"description\": \"\"\n      }\n    }\n  ]\n}"
            }
          },
          "metadata": {},
          "execution_count": 9
        }
      ],
      "source": [
        "## Read the dataset\n",
        "df = pd.read_csv(\"https://raw.githubusercontent.com/chaudatascience/cs599_fall2022/master/ps3/linear_data.csv\")\n",
        "print(\"data shape:\", df.shape)\n",
        "df.sample(4)"
      ]
    },
    {
      "cell_type": "code",
      "execution_count": null,
      "id": "53ee3b8b",
      "metadata": {
        "id": "53ee3b8b"
      },
      "outputs": [],
      "source": [
        "## Extract features and labels as numpy arrays\n",
        "X = df.values[:,0:1]  # features\n",
        "y = df.values[:,1]  # labels"
      ]
    },
    {
      "cell_type": "code",
      "execution_count": null,
      "id": "ip88NQ6emjrS",
      "metadata": {
        "colab": {
          "base_uri": "https://localhost:8080/",
          "height": 467
        },
        "id": "ip88NQ6emjrS",
        "outputId": "35439db7-4dde-46df-dcbe-9ac56120a4bf"
      },
      "outputs": [
        {
          "output_type": "execute_result",
          "data": {
            "text/plain": [
              "<Axes: xlabel='hours_practice', ylabel='score'>"
            ]
          },
          "metadata": {},
          "execution_count": 12
        },
        {
          "output_type": "display_data",
          "data": {
            "text/plain": [
              "<Figure size 640x480 with 1 Axes>"
            ],
            "image/png": "[encoded data removed]"
          },
          "metadata": {}
        }
      ],
      "source": [
        "## Plot the dataset\n",
        "sns.scatterplot(data=df, x=\"hours_practice\", y=\"score\")"
      ]
    },
    {
      "cell_type": "markdown",
      "id": "a688e300",
      "metadata": {
        "id": "a688e300"
      },
      "source": [
        "In this section, we will train a Linear Regression model on the dataset using Sklearn.\n",
        "You can refer to the document of Linear Regression [here](https://scikit-learn.org/stable/modules/generated/sklearn.linear_model.LinearRegression.html)."
      ]
    },
    {
      "cell_type": "code",
      "execution_count": null,
      "id": "73dcaaac",
      "metadata": {
        "id": "73dcaaac"
      },
      "outputs": [],
      "source": [
        "from sklearn.linear_model import LinearRegression\n",
        "\n",
        "def question_1_1(X: np.ndarray, y: np.ndarray) -> LinearRegression:\n",
        "    \"\"\"\n",
        "    Train a Sklearn's Linear Regression model on features `X` and labels `y`.\n",
        "    X: 2d numpy array, shape of (num_samples, feat_dim)\n",
        "    y: numpy array, shape of (num_samples, )\n",
        "    return a trained Linear Regression model\n",
        "\n",
        "    \"\"\"\n",
        "    # Write your code in this block -----------------------------------------------------------\n",
        "\n",
        "\n",
        "\n",
        "    # End of your code -----------------------------------------------------------\n",
        "\n",
        "    return model\n"
      ]
    },
    {
      "cell_type": "code",
      "execution_count": null,
      "id": "5e077ff2",
      "metadata": {
        "colab": {
          "base_uri": "https://localhost:8080/",
          "height": 500
        },
        "id": "5e077ff2",
        "outputId": "a4b7d6b6-0ba1-47a6-ff64-291aa94e3692"
      },
      "outputs": [
        {
          "output_type": "stream",
          "name": "stdout",
          "text": [
            "Model slope:     [1.32243102]\n",
            "Model intercept: 7.991020982270399\n"
          ]
        },
        {
          "output_type": "display_data",
          "data": {
            "text/plain": [
              "<Figure size 1000x500 with 1 Axes>"
            ],
            "image/png": "[encoded data removed]"
          },
          "metadata": {}
        }
      ],
      "source": [
        "## Test your model\n",
        "def plot_model(linear_model, X, y, start, end):\n",
        "    print(\"Model slope:    \", linear_model.coef_)\n",
        "    print(\"Model intercept:\", linear_model.intercept_)\n",
        "\n",
        "    xfit = np.linspace(start, end, 500)[:, np.newaxis]\n",
        "    if len(linear_model.coef_) == 2:\n",
        "        xfit = np.concatenate([xfit, xfit**2], axis=1)\n",
        "    yfit = linear_model.predict(xfit)\n",
        "\n",
        "    plt.figure(figsize=(10,5))\n",
        "    plt.scatter(X[:,0], y, s=5)\n",
        "    plt.xlabel(\"hours_practice\")\n",
        "    plt.ylabel(\"score\")\n",
        "    plt.plot(xfit[:,0], yfit, 'r+')\n",
        "\n",
        "# Get your model\n",
        "linear_model = question_1_1(X, y)\n",
        "\n",
        "# Plot: Your regression line is the red line as shown below\n",
        "start, end = 20, 80  # start and end of the line\n",
        "plot_model(linear_model, X, y, start, end)"
      ]
    },
    {
      "cell_type": "markdown",
      "id": "022a50c6",
      "metadata": {
        "id": "022a50c6"
      },
      "source": [
        "## **1.2 Code:** Polynomial features *(5 pts)*"
      ]
    },
    {
      "cell_type": "markdown",
      "id": "3112db28",
      "metadata": {
        "id": "3112db28"
      },
      "source": [
        "Let's take a look at another demo dataset"
      ]
    },
    {
      "cell_type": "code",
      "execution_count": null,
      "id": "9aafcc36",
      "metadata": {
        "colab": {
          "base_uri": "https://localhost:8080/",
          "height": 462
        },
        "id": "9aafcc36",
        "outputId": "f8798fbf-ce31-40b3-d2b5-d431ef506794"
      },
      "outputs": [
        {
          "output_type": "execute_result",
          "data": {
            "text/plain": [
              "<matplotlib.collections.PathCollection at 0x7861d50db910>"
            ]
          },
          "metadata": {},
          "execution_count": 15
        },
        {
          "output_type": "display_data",
          "data": {
            "text/plain": [
              "<Figure size 1000x500 with 1 Axes>"
            ],
            "image/png": "[encoded data removed]"
          },
          "metadata": {}
        }
      ],
      "source": [
        "data = pd.read_csv(\"https://raw.githubusercontent.com/chaudatascience/cs599_fall2022/master/ps3/polynomial.csv\").values\n",
        "X2, y2 = data[:,:1], data[:,1]\n",
        "plt.figure(figsize=(10,5))\n",
        "plt.scatter(X2, y2, s=8)"
      ]
    },
    {
      "cell_type": "markdown",
      "id": "fc7a075f",
      "metadata": {
        "id": "fc7a075f"
      },
      "source": [
        "We can see that the dataset is not linear. In other words, using a line can not capture the pattern in the data, resulting in underfitting. To solve this, we need to make our model a bit more complex.\n",
        "\n",
        "There is a trick we can use to capture nonlinear relationships between variables: We first transform existing feature by some basic function, then use the generated data as new feature.\n",
        "\n",
        "For example, with a linear regression for 1-d feature $x$:\n",
        "\n",
        "$$Y=\\theta_0+\\theta_1 x$$\n",
        "\n",
        "We can transform the input feature $x$ to get a new feature, such as $x$ squared and consider it as a new feature.\n",
        "We now have 2 features, and the model becomes polynomial regression:\n",
        "\n",
        "$$Y=\\theta_0+\\theta_1 x+\\theta_2 x^2$$\n",
        "\n",
        "We can keep adding: $$Y=\\theta_0+\\theta_1 x+\\theta_2 x^2+ \\theta_3 x^3 + ....$$ to get even more complex model."
      ]
    },
    {
      "cell_type": "markdown",
      "id": "e0f4a058",
      "metadata": {
        "id": "e0f4a058"
      },
      "source": [
        "You will need to write a function to concatenate $X^2$ as a feature alongside X. So, now, the training data `X_new` will have X and $X^2$ as the features"
      ]
    },
    {
      "cell_type": "code",
      "execution_count": null,
      "id": "faf0ee0c",
      "metadata": {
        "colab": {
          "base_uri": "https://localhost:8080/"
        },
        "id": "faf0ee0c",
        "outputId": "4cf3b3c7-ed91-42cd-cebc-cddb8b38a1d3"
      },
      "outputs": [
        {
          "output_type": "stream",
          "name": "stdout",
          "text": [
            "X_new.shape (100, 2)\n",
            "[[-3.29215704 10.83829796]\n",
            " [ 0.79952837  0.63924562]\n",
            " [-0.93621395  0.87649656]\n",
            " [-4.7226796  22.30370258]\n",
            " [-3.60267397 12.97925974]]\n"
          ]
        }
      ],
      "source": [
        "def question_1_2(X: np.ndarray) -> np.ndarray:\n",
        "    \"\"\"\n",
        "        Given numpy array X, shape of (num_sample, 1).\n",
        "        Return a numpy array, shape of (num_sample, 2) by adding a new column to the right of X.\n",
        "        The new column is the square of the existing column in X\n",
        "    \"\"\"\n",
        "    # Write your code in this block -----------------------------------------------------------\n",
        "\n",
        "\n",
        "\n",
        "\n",
        "    # End of your code -----------------------------------------------------------\n",
        "\n",
        "\n",
        "## Test your function\n",
        "X_new = question_1_2(X2)\n",
        "print(\"X_new.shape\", X_new.shape)\n",
        "print(X_new[:5]) # show the first 5 samples"
      ]
    },
    {
      "cell_type": "code",
      "execution_count": null,
      "id": "21a2cd79",
      "metadata": {
        "colab": {
          "base_uri": "https://localhost:8080/",
          "height": 500
        },
        "id": "21a2cd79",
        "outputId": "c4f66835-415e-4e50-f318-45a1ef1ec9e1"
      },
      "outputs": [
        {
          "output_type": "stream",
          "name": "stdout",
          "text": [
            "Model slope:     [2.60168213 2.76791169]\n",
            "Model intercept: -20.63185125272492\n"
          ]
        },
        {
          "output_type": "display_data",
          "data": {
            "text/plain": [
              "<Figure size 1000x500 with 1 Axes>"
            ],
            "image/png": "[encoded data removed]"
          },
          "metadata": {}
        }
      ],
      "source": [
        "## Plot the new model (in red)\n",
        "new_linear_model = question_1_1(X_new, y2)\n",
        "plot_model(new_linear_model, X_new, y2, start=-5, end=12)"
      ]
    },
    {
      "cell_type": "markdown",
      "id": "5a7c9421",
      "metadata": {
        "id": "5a7c9421"
      },
      "source": [
        "We can see the curve fits the data much better than a straight line."
      ]
    },
    {
      "cell_type": "markdown",
      "id": "c1a05349",
      "metadata": {
        "id": "c1a05349"
      },
      "source": [
        "## **1.3 Short answer:**  Linear model *(5 pts)*\n",
        "**Question:**\n",
        "    What is the shape of the curve (linear, or non-linear?)\n",
        "    Is the model still considered to be a linear model?"
      ]
    },
    {
      "cell_type": "markdown",
      "id": "0ed25db3",
      "metadata": {
        "id": "0ed25db3"
      },
      "source": [
        "Write your answer in this block\n",
        "\n",
        "**Your Answer:**\n"
      ]
    },
    {
      "cell_type": "markdown",
      "id": "8191cbb6",
      "metadata": {
        "id": "8191cbb6"
      },
      "source": [
        "# Question 2. Linear Regression with Regularization *(15 total points*)"
      ]
    },
    {
      "cell_type": "markdown",
      "id": "3e9bec4b",
      "metadata": {
        "id": "3e9bec4b"
      },
      "source": [
        "With basis functions, our model become more flexible, but it comes with a cost: The model is easier to over-fitting. One way to reduce overfitting is to penalize higher degree polynomials. This ensures that we only use the higher degree polynomials if the error is significantly reduced compared to a simpler model.\n",
        "\n",
        "In this section, we will work on Boston Housing dataset. This dataset was taken from the [StatLib library](http://lib.stat.cmu.edu/datasets/) which is maintained at Carnegie Mellon University. It consists of 13 continous features and a numerical target named *MEDV*. For more details about the dataset, you can refer [this link](https://raw.githubusercontent.com/chaudatascience/cs599_fall2022/master/ps3/boston_housing_name.txt).\n",
        "\n",
        "Our goal is to train a linear regression model with regularization to learn the relationship between suburb characteristics and house prices.\n"
      ]
    },
    {
      "cell_type": "code",
      "execution_count": null,
      "id": "1337c79a",
      "metadata": {
        "colab": {
          "base_uri": "https://localhost:8080/",
          "height": 223
        },
        "id": "1337c79a",
        "outputId": "094fe671-0811-43c0-93bb-3ab0670fa1e0"
      },
      "outputs": [
        {
          "output_type": "stream",
          "name": "stdout",
          "text": [
            "df.shape (506, 14)\n"
          ]
        },
        {
          "output_type": "execute_result",
          "data": {
            "text/plain": [
              "         CRIM   ZN  INDUS  CHAS    NOX     RM    AGE     DIS  RAD    TAX  \\\n",
              "400  25.04610  0.0  18.10     0  0.693  5.987  100.0  1.5888   24  666.0   \n",
              "314   0.36920  0.0   9.90     0  0.544  6.567   87.3  3.6023    4  304.0   \n",
              "495   0.17899  0.0   9.69     0  0.585  5.670   28.8  2.7986    6  391.0   \n",
              "155   3.53501  0.0  19.58     1  0.871  6.152   82.6  1.7455    5  403.0   \n",
              "428   7.36711  0.0  18.10     0  0.679  6.193   78.1  1.9356   24  666.0   \n",
              "\n",
              "     PTRATIO       B  LSTAT  MEDV  \n",
              "400     20.2  396.90  26.77   5.6  \n",
              "314     18.4  395.69   9.28  23.8  \n",
              "495     19.2  393.29  17.60  23.1  \n",
              "155     14.7   88.01  15.02  15.6  \n",
              "428     20.2   96.73  21.52  11.0  "
            ],
            "text/html": [
              "\n",
              "  <div id=\"df-ec06f669-1bcc-4d4f-90cf-465f50344e60\" class=\"colab-df-container\">\n",
              "    <div>\n",
              "<style scoped>\n",
              "    .dataframe tbody tr th:only-of-type {\n",
              "        vertical-align: middle;\n",
              "    }\n",
              "\n",
              "    .dataframe tbody tr th {\n",
              "        vertical-align: top;\n",
              "    }\n",
              "\n",
              "    .dataframe thead th {\n",
              "        text-align: right;\n",
              "    }\n",
              "</style>\n",
              "<table border=\"1\" class=\"dataframe\">\n",
              "  <thead>\n",
              "    <tr style=\"text-align: right;\">\n",
              "      <th></th>\n",
              "      <th>CRIM</th>\n",
              "      <th>ZN</th>\n",
              "      <th>INDUS</th>\n",
              "      <th>CHAS</th>\n",
              "      <th>NOX</th>\n",
              "      <th>RM</th>\n",
              "      <th>AGE</th>\n",
              "      <th>DIS</th>\n",
              "      <th>RAD</th>\n",
              "      <th>TAX</th>\n",
              "      <th>PTRATIO</th>\n",
              "      <th>B</th>\n",
              "      <th>LSTAT</th>\n",
              "      <th>MEDV</th>\n",
              "    </tr>\n",
              "  </thead>\n",
              "  <tbody>\n",
              "    <tr>\n",
              "      <th>400</th>\n",
              "      <td>25.04610</td>\n",
              "      <td>0.0</td>\n",
              "      <td>18.10</td>\n",
              "      <td>0</td>\n",
              "      <td>0.693</td>\n",
              "      <td>5.987</td>\n",
              "      <td>100.0</td>\n",
              "      <td>1.5888</td>\n",
              "      <td>24</td>\n",
              "      <td>666.0</td>\n",
              "      <td>20.2</td>\n",
              "      <td>396.90</td>\n",
              "      <td>26.77</td>\n",
              "      <td>5.6</td>\n",
              "    </tr>\n",
              "    <tr>\n",
              "      <th>314</th>\n",
              "      <td>0.36920</td>\n",
              "      <td>0.0</td>\n",
              "      <td>9.90</td>\n",
              "      <td>0</td>\n",
              "      <td>0.544</td>\n",
              "      <td>6.567</td>\n",
              "      <td>87.3</td>\n",
              "      <td>3.6023</td>\n",
              "      <td>4</td>\n",
              "      <td>304.0</td>\n",
              "      <td>18.4</td>\n",
              "      <td>395.69</td>\n",
              "      <td>9.28</td>\n",
              "      <td>23.8</td>\n",
              "    </tr>\n",
              "    <tr>\n",
              "      <th>495</th>\n",
              "      <td>0.17899</td>\n",
              "      <td>0.0</td>\n",
              "      <td>9.69</td>\n",
              "      <td>0</td>\n",
              "      <td>0.585</td>\n",
              "      <td>5.670</td>\n",
              "      <td>28.8</td>\n",
              "      <td>2.7986</td>\n",
              "      <td>6</td>\n",
              "      <td>391.0</td>\n",
              "      <td>19.2</td>\n",
              "      <td>393.29</td>\n",
              "      <td>17.60</td>\n",
              "      <td>23.1</td>\n",
              "    </tr>\n",
              "    <tr>\n",
              "      <th>155</th>\n",
              "      <td>3.53501</td>\n",
              "      <td>0.0</td>\n",
              "      <td>19.58</td>\n",
              "      <td>1</td>\n",
              "      <td>0.871</td>\n",
              "      <td>6.152</td>\n",
              "      <td>82.6</td>\n",
              "      <td>1.7455</td>\n",
              "      <td>5</td>\n",
              "      <td>403.0</td>\n",
              "      <td>14.7</td>\n",
              "      <td>88.01</td>\n",
              "      <td>15.02</td>\n",
              "      <td>15.6</td>\n",
              "    </tr>\n",
              "    <tr>\n",
              "      <th>428</th>\n",
              "      <td>7.36711</td>\n",
              "      <td>0.0</td>\n",
              "      <td>18.10</td>\n",
              "      <td>0</td>\n",
              "      <td>0.679</td>\n",
              "      <td>6.193</td>\n",
              "      <td>78.1</td>\n",
              "      <td>1.9356</td>\n",
              "      <td>24</td>\n",
              "      <td>666.0</td>\n",
              "      <td>20.2</td>\n",
              "      <td>96.73</td>\n",
              "      <td>21.52</td>\n",
              "      <td>11.0</td>\n",
              "    </tr>\n",
              "  </tbody>\n",
              "</table>\n",
              "</div>\n",
              "    <div class=\"colab-df-buttons\">\n",
              "\n",
              "  <div class=\"colab-df-container\">\n",
              "    <button class=\"colab-df-convert\" onclick=\"convertToInteractive('df-ec06f669-1bcc-4d4f-90cf-465f50344e60')\"\n",
              "            title=\"Convert this dataframe to an interactive table.\"\n",
              "            style=\"display:none;\">\n",
              "\n",
              "  <svg xmlns=\"http://www.w3.org/2000/svg\" height=\"24px\" viewBox=\"0 -960 960 960\">\n",
              "    <path d=\"M120-120v-720h720v720H120Zm60-500h600v-160H180v160Zm220 220h160v-160H400v160Zm0 220h160v-160H400v160ZM180-400h160v-160H180v160Zm440 0h160v-160H620v160ZM180-180h160v-160H180v160Zm440 0h160v-160H620v160Z\"/>\n",
              "  </svg>\n",
              "    </button>\n",
              "\n",
              "  <style>\n",
              "    .colab-df-container {\n",
              "      display:flex;\n",
              "      gap: 12px;\n",
              "    }\n",
              "\n",
              "    .colab-df-convert {\n",
              "      background-color: #E8F0FE;\n",
              "      border: none;\n",
              "      border-radius: 50%;\n",
              "      cursor: pointer;\n",
              "      display: none;\n",
              "      fill: #1967D2;\n",
              "      height: 32px;\n",
              "      padding: 0 0 0 0;\n",
              "      width: 32px;\n",
              "    }\n",
              "\n",
              "    .colab-df-convert:hover {\n",
              "      background-color: #E2EBFA;\n",
              "      box-shadow: 0px 1px 2px rgba(60, 64, 67, 0.3), 0px 1px 3px 1px rgba(60, 64, 67, 0.15);\n",
              "      fill: #174EA6;\n",
              "    }\n",
              "\n",
              "    .colab-df-buttons div {\n",
              "      margin-bottom: 4px;\n",
              "    }\n",
              "\n",
              "    [theme=dark] .colab-df-convert {\n",
              "      background-color: #3B4455;\n",
              "      fill: #D2E3FC;\n",
              "    }\n",
              "\n",
              "    [theme=dark] .colab-df-convert:hover {\n",
              "      background-color: #434B5C;\n",
              "      box-shadow: 0px 1px 3px 1px rgba(0, 0, 0, 0.15);\n",
              "      filter: drop-shadow(0px 1px 2px rgba(0, 0, 0, 0.3));\n",
              "      fill: #FFFFFF;\n",
              "    }\n",
              "  </style>\n",
              "\n",
              "    <script>\n",
              "      const buttonEl =\n",
              "        document.querySelector('#df-ec06f669-1bcc-4d4f-90cf-465f50344e60 button.colab-df-convert');\n",
              "      buttonEl.style.display =\n",
              "        google.colab.kernel.accessAllowed ? 'block' : 'none';\n",
              "\n",
              "      async function convertToInteractive(key) {\n",
              "        const element = document.querySelector('#df-ec06f669-1bcc-4d4f-90cf-465f50344e60');\n",
              "        const dataTable =\n",
              "          await google.colab.kernel.invokeFunction('convertToInteractive',\n",
              "                                                    [key], {});\n",
              "        if (!dataTable) return;\n",
              "\n",
              "        const docLinkHtml = 'Like what you see? Visit the ' +\n",
              "          '<a target=\"_blank\" href=https://colab.research.google.com/notebooks/data_table.ipynb>data table notebook</a>'\n",
              "          + ' to learn more about interactive tables.';\n",
              "        element.innerHTML = '';\n",
              "        dataTable['output_type'] = 'display_data';\n",
              "        await google.colab.output.renderOutput(dataTable, element);\n",
              "        const docLink = document.createElement('div');\n",
              "        docLink.innerHTML = docLinkHtml;\n",
              "        element.appendChild(docLink);\n",
              "      }\n",
              "    </script>\n",
              "  </div>\n",
              "\n",
              "\n",
              "<div id=\"df-8b362434-6567-41a4-a155-5235d03d80dd\">\n",
              "  <button class=\"colab-df-quickchart\" onclick=\"quickchart('df-8b362434-6567-41a4-a155-5235d03d80dd')\"\n",
              "            title=\"Suggest charts\"\n",
              "            style=\"display:none;\">\n",
              "\n",
              "<svg xmlns=\"http://www.w3.org/2000/svg\" height=\"24px\"viewBox=\"0 0 24 24\"\n",
              "     width=\"24px\">\n",
              "    <g>\n",
              "        <path d=\"M19 3H5c-1.1 0-2 .9-2 2v14c0 1.1.9 2 2 2h14c1.1 0 2-.9 2-2V5c0-1.1-.9-2-2-2zM9 17H7v-7h2v7zm4 0h-2V7h2v10zm4 0h-2v-4h2v4z\"/>\n",
              "    </g>\n",
              "</svg>\n",
              "  </button>\n",
              "\n",
              "<style>\n",
              "  .colab-df-quickchart {\n",
              "      --bg-color: #E8F0FE;\n",
              "      --fill-color: #1967D2;\n",
              "      --hover-bg-color: #E2EBFA;\n",
              "      --hover-fill-color: #174EA6;\n",
              "      --disabled-fill-color: #AAA;\n",
              "      --disabled-bg-color: #DDD;\n",
              "  }\n",
              "\n",
              "  [theme=dark] .colab-df-quickchart {\n",
              "      --bg-color: #3B4455;\n",
              "      --fill-color: #D2E3FC;\n",
              "      --hover-bg-color: #434B5C;\n",
              "      --hover-fill-color: #FFFFFF;\n",
              "      --disabled-bg-color: #3B4455;\n",
              "      --disabled-fill-color: #666;\n",
              "  }\n",
              "\n",
              "  .colab-df-quickchart {\n",
              "    background-color: var(--bg-color);\n",
              "    border: none;\n",
              "    border-radius: 50%;\n",
              "    cursor: pointer;\n",
              "    display: none;\n",
              "    fill: var(--fill-color);\n",
              "    height: 32px;\n",
              "    padding: 0;\n",
              "    width: 32px;\n",
              "  }\n",
              "\n",
              "  .colab-df-quickchart:hover {\n",
              "    background-color: var(--hover-bg-color);\n",
              "    box-shadow: 0 1px 2px rgba(60, 64, 67, 0.3), 0 1px 3px 1px rgba(60, 64, 67, 0.15);\n",
              "    fill: var(--button-hover-fill-color);\n",
              "  }\n",
              "\n",
              "  .colab-df-quickchart-complete:disabled,\n",
              "  .colab-df-quickchart-complete:disabled:hover {\n",
              "    background-color: var(--disabled-bg-color);\n",
              "    fill: var(--disabled-fill-color);\n",
              "    box-shadow: none;\n",
              "  }\n",
              "\n",
              "  .colab-df-spinner {\n",
              "    border: 2px solid var(--fill-color);\n",
              "    border-color: transparent;\n",
              "    border-bottom-color: var(--fill-color);\n",
              "    animation:\n",
              "      spin 1s steps(1) infinite;\n",
              "  }\n",
              "\n",
              "  @keyframes spin {\n",
              "    0% {\n",
              "      border-color: transparent;\n",
              "      border-bottom-color: var(--fill-color);\n",
              "      border-left-color: var(--fill-color);\n",
              "    }\n",
              "    20% {\n",
              "      border-color: transparent;\n",
              "      border-left-color: var(--fill-color);\n",
              "      border-top-color: var(--fill-color);\n",
              "    }\n",
              "    30% {\n",
              "      border-color: transparent;\n",
              "      border-left-color: var(--fill-color);\n",
              "      border-top-color: var(--fill-color);\n",
              "      border-right-color: var(--fill-color);\n",
              "    }\n",
              "    40% {\n",
              "      border-color: transparent;\n",
              "      border-right-color: var(--fill-color);\n",
              "      border-top-color: var(--fill-color);\n",
              "    }\n",
              "    60% {\n",
              "      border-color: transparent;\n",
              "      border-right-color: var(--fill-color);\n",
              "    }\n",
              "    80% {\n",
              "      border-color: transparent;\n",
              "      border-right-color: var(--fill-color);\n",
              "      border-bottom-color: var(--fill-color);\n",
              "    }\n",
              "    90% {\n",
              "      border-color: transparent;\n",
              "      border-bottom-color: var(--fill-color);\n",
              "    }\n",
              "  }\n",
              "</style>\n",
              "\n",
              "  <script>\n",
              "    async function quickchart(key) {\n",
              "      const quickchartButtonEl =\n",
              "        document.querySelector('#' + key + ' button');\n",
              "      quickchartButtonEl.disabled = true;  // To prevent multiple clicks.\n",
              "      quickchartButtonEl.classList.add('colab-df-spinner');\n",
              "      try {\n",
              "        const charts = await google.colab.kernel.invokeFunction(\n",
              "            'suggestCharts', [key], {});\n",
              "      } catch (error) {\n",
              "        console.error('Error during call to suggestCharts:', error);\n",
              "      }\n",
              "      quickchartButtonEl.classList.remove('colab-df-spinner');\n",
              "      quickchartButtonEl.classList.add('colab-df-quickchart-complete');\n",
              "    }\n",
              "    (() => {\n",
              "      let quickchartButtonEl =\n",
              "        document.querySelector('#df-8b362434-6567-41a4-a155-5235d03d80dd button');\n",
              "      quickchartButtonEl.style.display =\n",
              "        google.colab.kernel.accessAllowed ? 'block' : 'none';\n",
              "    })();\n",
              "  </script>\n",
              "</div>\n",
              "\n",
              "    </div>\n",
              "  </div>\n"
            ],
            "application/vnd.google.colaboratory.intrinsic+json": {
              "type": "dataframe",
              "summary": "{\n  \"name\": \"df\",\n  \"rows\": 5,\n  \"fields\": [\n    {\n      \"column\": \"CRIM\",\n      \"properties\": {\n        \"dtype\": \"number\",\n        \"std\": 10.342249370237113,\n        \"min\": 0.17899,\n        \"max\": 25.0461,\n        \"num_unique_values\": 5,\n        \"samples\": [\n          0.3692,\n          7.36711,\n          0.17899\n        ],\n        \"semantic_type\": \"\",\n        \"description\": \"\"\n      }\n    },\n    {\n      \"column\": \"ZN\",\n      \"properties\": {\n        \"dtype\": \"number\",\n        \"std\": 0.0,\n        \"min\": 0.0,\n        \"max\": 0.0,\n        \"num_unique_values\": 1,\n        \"samples\": [\n          0.0\n        ],\n        \"semantic_type\": \"\",\n        \"description\": \"\"\n      }\n    },\n    {\n      \"column\": \"INDUS\",\n      \"properties\": {\n        \"dtype\": \"number\",\n        \"std\": 4.857342895040456,\n        \"min\": 9.69,\n        \"max\": 19.58,\n        \"num_unique_values\": 4,\n        \"samples\": [\n          9.9\n        ],\n        \"semantic_type\": \"\",\n        \"description\": \"\"\n      }\n    },\n    {\n      \"column\": \"CHAS\",\n      \"properties\": {\n        \"dtype\": \"number\",\n        \"std\": 0,\n        \"min\": 0,\n        \"max\": 1,\n        \"num_unique_values\": 2,\n        \"samples\": [\n          1\n        ],\n        \"semantic_type\": \"\",\n        \"description\": \"\"\n      }\n    },\n    {\n      \"column\": \"NOX\",\n      \"properties\": {\n        \"dtype\": \"number\",\n        \"std\": 0.12650612633386576,\n        \"min\": 0.544,\n        \"max\": 0.871,\n        \"num_unique_values\": 5,\n        \"samples\": [\n          0.544\n        ],\n        \"semantic_type\": \"\",\n        \"description\": \"\"\n      }\n    },\n    {\n      \"column\": \"RM\",\n      \"properties\": {\n        \"dtype\": \"number\",\n        \"std\": 0.3264041972769346,\n        \"min\": 5.67,\n        \"max\": 6.567,\n        \"num_unique_values\": 5,\n        \"samples\": [\n          6.567\n        ],\n        \"semantic_type\": \"\",\n        \"description\": \"\"\n      }\n    },\n    {\n      \"column\": \"AGE\",\n      \"properties\": {\n        \"dtype\": \"number\",\n        \"std\": 27.283016695372968,\n        \"min\": 28.8,\n        \"max\": 100.0,\n        \"num_unique_values\": 5,\n        \"samples\": [\n          87.3\n        ],\n        \"semantic_type\": \"\",\n        \"description\": \"\"\n      }\n    },\n    {\n      \"column\": \"DIS\",\n      \"properties\": {\n        \"dtype\": \"number\",\n        \"std\": 0.8492372713205657,\n        \"min\": 1.5888,\n        \"max\": 3.6023,\n        \"num_unique_values\": 5,\n        \"samples\": [\n          3.6023\n        ],\n        \"semantic_type\": \"\",\n        \"description\": \"\"\n      }\n    },\n    {\n      \"column\": \"RAD\",\n      \"properties\": {\n        \"dtype\": \"number\",\n        \"std\": 10,\n        \"min\": 4,\n        \"max\": 24,\n        \"num_unique_values\": 4,\n        \"samples\": [\n          4\n        ],\n        \"semantic_type\": \"\",\n        \"description\": \"\"\n      }\n    },\n    {\n      \"column\": \"TAX\",\n      \"properties\": {\n        \"dtype\": \"number\",\n        \"std\": 168.69943686924387,\n        \"min\": 304.0,\n        \"max\": 666.0,\n        \"num_unique_values\": 4,\n        \"samples\": [\n          304.0\n        ],\n        \"semantic_type\": \"\",\n        \"description\": \"\"\n      }\n    },\n    {\n      \"column\": \"PTRATIO\",\n      \"properties\": {\n        \"dtype\": \"number\",\n        \"std\": 2.275521918154163,\n        \"min\": 14.7,\n        \"max\": 20.2,\n        \"num_unique_values\": 4,\n        \"samples\": [\n          18.4\n        ],\n        \"semantic_type\": \"\",\n        \"description\": \"\"\n      }\n    },\n    {\n      \"column\": \"B\",\n      \"properties\": {\n        \"dtype\": \"number\",\n        \"std\": 165.95166941010265,\n        \"min\": 88.01,\n        \"max\": 396.9,\n        \"num_unique_values\": 5,\n        \"samples\": [\n          395.69\n        ],\n        \"semantic_type\": \"\",\n        \"description\": \"\"\n      }\n    },\n    {\n      \"column\": \"LSTAT\",\n      \"properties\": {\n        \"dtype\": \"number\",\n        \"std\": 6.602554051274401,\n        \"min\": 9.28,\n        \"max\": 26.77,\n        \"num_unique_values\": 5,\n        \"samples\": [\n          9.28\n        ],\n        \"semantic_type\": \"\",\n        \"description\": \"\"\n      }\n    },\n    {\n      \"column\": \"MEDV\",\n      \"properties\": {\n        \"dtype\": \"number\",\n        \"std\": 7.816776829358761,\n        \"min\": 5.6,\n        \"max\": 23.8,\n        \"num_unique_values\": 5,\n        \"samples\": [\n          23.8\n        ],\n        \"semantic_type\": \"\",\n        \"description\": \"\"\n      }\n    }\n  ]\n}"
            }
          },
          "metadata": {},
          "execution_count": 19
        }
      ],
      "source": [
        "df = pd.read_csv(\"https://raw.githubusercontent.com/chaudatascience/cs599_fall2022/master/ps3/boston_housing.csv\")\n",
        "print(\"df.shape\", df.shape)\n",
        "df.sample(5)"
      ]
    },
    {
      "cell_type": "code",
      "execution_count": null,
      "id": "0cb078f6",
      "metadata": {
        "colab": {
          "base_uri": "https://localhost:8080/"
        },
        "id": "0cb078f6",
        "outputId": "649409da-e3a7-4daa-8996-c7ba5956a548"
      },
      "outputs": [
        {
          "output_type": "stream",
          "name": "stdout",
          "text": [
            "(354, 13) (152, 13) (354,) (152,)\n"
          ]
        }
      ],
      "source": [
        "## Extract features and labels as numpy arrays\n",
        "X, y = df.iloc[:, :-1], df.iloc[:, -1]\n",
        "\n",
        "## Split to train, test\n",
        "X_train, X_test, y_train, y_test = train_test_split(X, y, random_state=42, test_size=0.3)\n",
        "\n",
        "## Check on the shapes\n",
        "print(X_train.shape, X_test.shape, y_train.shape, y_test.shape)"
      ]
    },
    {
      "cell_type": "markdown",
      "id": "bc3baf29",
      "metadata": {
        "id": "bc3baf29"
      },
      "source": [
        "Sklearn provides a useful module named [Pipeline](https://scikit-learn.org/stable/modules/generated/sklearn.pipeline.Pipeline.html) which comes in handy when we need to perform sequence of different transformations.\n",
        "\n",
        "An Example of using Pipeline is shown as below. We want to normalize the data, then create some new polynomial\n",
        "features, and finally a Linear model. Sklearn provides us\n",
        "[PolynomialFeatures](https://scikit-learn.org/stable/modules/generated/sklearn.preprocessing.PolynomialFeatures.html) for generating polynomial and interaction features."
      ]
    },
    {
      "cell_type": "code",
      "execution_count": null,
      "id": "699aa9a8",
      "metadata": {
        "colab": {
          "base_uri": "https://localhost:8080/"
        },
        "id": "699aa9a8",
        "outputId": "e211ee6d-abb6-4b4b-f0da-1868175a0da4"
      },
      "outputs": [
        {
          "output_type": "stream",
          "name": "stdout",
          "text": [
            "Training score: 0.9469794920108197\n",
            "Test score: 0.6610321968877273\n"
          ]
        }
      ],
      "source": [
        "##\n",
        "from sklearn.preprocessing import PolynomialFeatures\n",
        "from sklearn.pipeline import Pipeline\n",
        "\n",
        "## Steps is a list of Tuple[step_name, transformation_object]\n",
        "steps = [\n",
        "    ('scalar', StandardScaler()),   ## normilaze data\n",
        "    ('poly', PolynomialFeatures(degree=2)),  ## add new features up to 2 degrees\n",
        "    ('model', LinearRegression()) ## Linear regression model\n",
        "]\n",
        "\n",
        "linear_pipe = Pipeline(steps)\n",
        "linear_pipe.fit(X_train, y_train)\n",
        "\n",
        "## Let's see how we perform on the training and test sets\n",
        "print('Training score: {}'.format(linear_pipe.score(X_train, y_train)))\n",
        "print('Test score: {}'.format(linear_pipe.score(X_test, y_test)))"
      ]
    },
    {
      "cell_type": "markdown",
      "id": "00a83d78",
      "metadata": {
        "id": "00a83d78"
      },
      "source": [
        "On training set, the model performs very well, but the score drops significantly on test set.\n",
        "This suggests that our model is overfitting.\n",
        "\n",
        "Now regulirization comes for the rescue.\n",
        "\n",
        "Recall that there are three main techniques for regularization in linear regression, where we add a regularization term to the loss:\n",
        "\n",
        "+   Lasso Regression (L1 regularization):   $\\alpha \\sum_{j=1}^n\\left|\\theta_j\\right|$\n",
        "+   Ridge Regression (L2 regularization):   $\\alpha \\sum_{j=1}^n\\left|\\theta^2_j\\right|$\n",
        "+   Elastic Net (Combine L1 and L2 regularizations):     $\\alpha_1 \\sum_{j=1}^n\\left|\\theta_j\\right| + \\alpha_2 \\sum_{j=1}^n\\left|\\theta^2_j\\right|$\n",
        "\n",
        "Where $n$ is the number of features, $\\alpha$ is regularization parameter, which controls the degree of regularization.\n",
        "\n",
        "In Sklearn, we can use `sklearn.linear_model.Lasso` for Linear Regression with L1 regularization. It also provides `sklearn.linear_model.Ridge` and `sklearn.linear_model.ElasticNet` for the other 2."
      ]
    },
    {
      "cell_type": "markdown",
      "id": "bbbc1683",
      "metadata": {
        "id": "bbbc1683"
      },
      "source": [
        "Similar to what we have done above, you should be able to perform a Linear Regresison with regularization.\n",
        "\n",
        "Complete the function below for Lasso and Ridge regression by using the code example above. In the function, you should define **`steps` the same as we use in the example:** First, a \"scalar\", then \"poly\" followed by a \"model\". The only thing different here is the model (`Lasso` and `Ridge`, instead of `LinearRegression`)"
      ]
    },
    {
      "cell_type": "markdown",
      "id": "98f65168",
      "metadata": {
        "id": "98f65168"
      },
      "source": [
        "## **2.1 Code:** Lasso and Ridge *(8 pts)*"
      ]
    },
    {
      "cell_type": "code",
      "execution_count": null,
      "id": "1fe2cb9b",
      "metadata": {
        "id": "1fe2cb9b"
      },
      "outputs": [],
      "source": [
        "from sklearn.linear_model import Ridge, Lasso\n",
        "\n",
        "def question_2_1(regularization: str, alpha_1: float, alpha_2: float,\n",
        "                X_train, y_train, X_test, y_test) -> Tuple[float, float]:\n",
        "    \"\"\"\n",
        "        regularization: one of [\"L1\", \"L2\"]. If \"L1\", use Lasso, otherwise use Ridge.\n",
        "        alpha_1: regularization for Lasso (if Lasso is used)\n",
        "        alpha_2: regularization for Ridge (if Ridge is used)\n",
        "        X_train, y_train, X_test, y_test: numpy arrays, shapes (354, 13), (354,), (152, 13), (152,) respectively\n",
        "        return a Tuple: (train_score, test_score) in that order,\n",
        "        Note that train_score and test_score are float numbers in range [0,1]\n",
        "    \"\"\"\n",
        "    # Write your code in this block -----------------------------------------------------------\n",
        "    # You should define `steps` the same as we use in the example above:\n",
        "    #       first a \"scalar\", then \"poly\" followed by a \"model\".\n",
        "\n",
        "\n",
        "    ## Don't forget to return train and test scores!\n",
        "\n",
        "\n",
        "    # End of your code -----------------------------------------------------------"
      ]
    },
    {
      "cell_type": "code",
      "execution_count": null,
      "id": "7d624d0a",
      "metadata": {
        "colab": {
          "base_uri": "https://localhost:8080/"
        },
        "id": "7d624d0a",
        "outputId": "3a6d247a-9ae5-44bb-f38b-0cb827efbea7"
      },
      "outputs": [
        {
          "output_type": "stream",
          "name": "stdout",
          "text": [
            "regularization: L1, train_score: 0.9070657101514069, test_score: 0.8055776105496002\n",
            "regularization: L2, train_score: 0.9304830234444311, test_score: 0.8079087119535296\n"
          ]
        }
      ],
      "source": [
        "## Test your model\n",
        "alpha_1 = 0.1\n",
        "alpha_2 = 12\n",
        "for regularization in [\"L1\", \"L2\"]:\n",
        "    train_score, test_score = question_2_1(regularization, alpha_1, alpha_2,\n",
        "                                                         X_train, y_train, X_test, y_test)\n",
        "    print(f\"regularization: {regularization}, train_score: {train_score}, test_score: {test_score}\")\n",
        "\n"
      ]
    },
    {
      "cell_type": "markdown",
      "id": "936025e1",
      "metadata": {
        "id": "936025e1"
      },
      "source": [
        "## **2.2 Short answer:** Regularization Effects *(7 pts)*"
      ]
    },
    {
      "cell_type": "code",
      "execution_count": null,
      "id": "b0a629e4",
      "metadata": {
        "colab": {
          "base_uri": "https://localhost:8080/",
          "height": 928
        },
        "id": "b0a629e4",
        "outputId": "5503adda-a273-448d-9c62-426b344eb125"
      },
      "outputs": [
        {
          "output_type": "stream",
          "name": "stdout",
          "text": [
            "coefficients of Lasso\n"
          ]
        },
        {
          "output_type": "display_data",
          "data": {
            "text/plain": [
              "<Figure size 640x480 with 1 Axes>"
            ],
            "image/png": "[encoded data removed]"
          },
          "metadata": {}
        },
        {
          "output_type": "stream",
          "name": "stdout",
          "text": [
            "coefficients of Ridge\n"
          ]
        },
        {
          "output_type": "display_data",
          "data": {
            "text/plain": [
              "<Figure size 640x480 with 1 Axes>"
            ],
            "image/png": "[encoded data removed]"
          },
          "metadata": {}
        }
      ],
      "source": [
        "alpha = 3\n",
        "lasso = Lasso(alpha).fit(X_train, y_train)\n",
        "ridge = Ridge(alpha).fit(X_train, y_train)\n",
        "\n",
        "# Here the input feature dimension is 13 (we are using X_train and not the degree 2 polynomial features.)\n",
        "# Recall that regularization will affect the coeffiecient placed on the features while making the prediction.\n",
        "# Let's see how the coefficients look like with Lasso and Ridge.\n",
        "\n",
        "coefficients = pd.DataFrame({\"feature\": list(range(len(lasso.coef_))), \"value (Lasso)\": lasso.coef_, \"value (Ridge)\": ridge.coef_})\n",
        "\n",
        "## coefficients of Lasso\n",
        "ax = sns.barplot(data=coefficients, x=\"feature\", y=\"value (Lasso)\")\n",
        "ax.set( ylim=(-4, 4)) ## set  min, max for the y-axis\n",
        "print(\"coefficients of Lasso\")\n",
        "plt.show()\n",
        "\n",
        "## coefficients of Ridge\n",
        "ax = sns.barplot(data=coefficients, x=\"feature\", y=\"value (Ridge)\")\n",
        "ax.set( ylim=(-4, 4)) ## set  min, max for the y-axis\n",
        "print(\"coefficients of Ridge\")\n",
        "plt.show()"
      ]
    },
    {
      "cell_type": "markdown",
      "id": "c30213b8",
      "metadata": {
        "id": "c30213b8"
      },
      "source": [
        "**Question:**\n",
        "\n",
        "**1. Compare the performance of the model with and without regularization.**\n",
        "\n",
        "**2. Compare the coefficients when using Lasso and Ridge.**\n",
        "\n",
        "**3. How does alpha in Lasso and Ridge affect the coefficients and performance? (i.e., what happens if we use very tiny alpha, or very large alpha? You can play around with some values of alpha by changing the value `alpha=3` or in `alpha_1` and `alpha_2` above to get an intuition for this.)**\n"
      ]
    },
    {
      "cell_type": "markdown",
      "id": "bfa569b8",
      "metadata": {
        "id": "bfa569b8"
      },
      "source": [
        "Write your answer in this block\n",
        "\n",
        "**Your Answer:**\n"
      ]
    },
    {
      "cell_type": "markdown",
      "source": [
        "## **2.3 Short answer:** Regularization Effects 2 *(3 pts)*\n",
        "\n",
        "Suppose we know that only a few features are informative, while most are irrelevant (i.e., the data is sparse). Which regularization technique works best in this case?\n",
        "Explain your reasoning with examples. Hint: If we have 100 features but only 5 are important, how will Lasso and Ridge handle them differently?"
      ],
      "metadata": {
        "id": "U_LleMrt38iJ"
      },
      "id": "U_LleMrt38iJ"
    },
    {
      "cell_type": "markdown",
      "source": [
        "Write your answer in this block\n",
        "\n",
        "**Your Answer:**\n"
      ],
      "metadata": {
        "id": "OgaebAhq4U24"
      },
      "id": "OgaebAhq4U24"
    },
    {
      "cell_type": "markdown",
      "source": [
        "## **2.4 Short answer:** Feature Selection in Linear Regression *(5 pts)*\n",
        "1. Inspect each feature in the Boston Housing dataset and explain its relationship with the target variable *without using dimensionality reduction algorithms such as PCA*. Do you observe any distinct patterns? How can we simply & effectively analyze the relationships and characteristics of the dataset?\n",
        "\n",
        "2. Suppose we have computational limitations and can only use a subset of the dataset. Which two features should we choose for a linear regression model? Explain your reasoning.\n"
      ],
      "metadata": {
        "id": "HOq1za4YYaGk"
      },
      "id": "HOq1za4YYaGk"
    },
    {
      "cell_type": "markdown",
      "id": "cc909ce5",
      "metadata": {
        "id": "cc909ce5"
      },
      "source": [
        "# **Question 3.** Regression Trees  (*30 total points*)"
      ]
    },
    {
      "cell_type": "markdown",
      "id": "846484d1",
      "metadata": {
        "id": "846484d1"
      },
      "source": [
        "In the first two sections, we will work on UK Used Car dataset. The dataset was adapted from [Kaggle's Data](https://www.kaggle.com/datasets/adityadesai13/used-car-dataset-ford-and-mercedes/code?datasetId=750216&sortBy=voteCount). It contains information of the car such as price (in £), transmission, mileage, fuel type, road tax, miles per gallon (mpg), and engine size. For more details about the dataset, you can refer to [this link](https://www.kaggle.com/datasets/adityadesai13/used-car-dataset-ford-and-mercedes).\n",
        "\n",
        "Our goal is to train a regression tree to predict the price of a used car, given other information.\n",
        "\n",
        "First, let's read the dataset"
      ]
    },
    {
      "cell_type": "code",
      "execution_count": null,
      "id": "76d09354",
      "metadata": {
        "id": "76d09354",
        "outputId": "9bfc1838-667c-4358-c8d3-157c7ddf1db8",
        "colab": {
          "base_uri": "https://localhost:8080/",
          "height": 223
        }
      },
      "outputs": [
        {
          "output_type": "stream",
          "name": "stdout",
          "text": [
            "(4960, 10)\n"
          ]
        },
        {
          "output_type": "execute_result",
          "data": {
            "text/plain": [
              "      brand      model  year transmission  mileage fuelType    tax   mpg  \\\n",
              "0    hyundi   Santa Fe  2019    Semi-Auto     4223   Diesel  145.0  39.8   \n",
              "1  vauxhall        GTC  2015       Manual    47870   Diesel  125.0  60.1   \n",
              "2      audi        RS4  2019    Automatic     5151   Petrol  145.0  29.1   \n",
              "3        vw   Scirocco  2016    Automatic    20423   Diesel   30.0  57.6   \n",
              "4     skoda      Scala  2020    Semi-Auto     3569   Petrol  145.0  47.1   \n",
              "\n",
              "   engineSize  price  \n",
              "0         2.2  31995  \n",
              "1         2.0   7700  \n",
              "2         2.9  58990  \n",
              "3         2.0  12999  \n",
              "4         1.0  16990  "
            ],
            "text/html": [
              "\n",
              "  <div id=\"df-72c29b9e-66ba-42db-93dc-59ffcbff0180\" class=\"colab-df-container\">\n",
              "    <div>\n",
              "<style scoped>\n",
              "    .dataframe tbody tr th:only-of-type {\n",
              "        vertical-align: middle;\n",
              "    }\n",
              "\n",
              "    .dataframe tbody tr th {\n",
              "        vertical-align: top;\n",
              "    }\n",
              "\n",
              "    .dataframe thead th {\n",
              "        text-align: right;\n",
              "    }\n",
              "</style>\n",
              "<table border=\"1\" class=\"dataframe\">\n",
              "  <thead>\n",
              "    <tr style=\"text-align: right;\">\n",
              "      <th></th>\n",
              "      <th>brand</th>\n",
              "      <th>model</th>\n",
              "      <th>year</th>\n",
              "      <th>transmission</th>\n",
              "      <th>mileage</th>\n",
              "      <th>fuelType</th>\n",
              "      <th>tax</th>\n",
              "      <th>mpg</th>\n",
              "      <th>engineSize</th>\n",
              "      <th>price</th>\n",
              "    </tr>\n",
              "  </thead>\n",
              "  <tbody>\n",
              "    <tr>\n",
              "      <th>0</th>\n",
              "      <td>hyundi</td>\n",
              "      <td>Santa Fe</td>\n",
              "      <td>2019</td>\n",
              "      <td>Semi-Auto</td>\n",
              "      <td>4223</td>\n",
              "      <td>Diesel</td>\n",
              "      <td>145.0</td>\n",
              "      <td>39.8</td>\n",
              "      <td>2.2</td>\n",
              "      <td>31995</td>\n",
              "    </tr>\n",
              "    <tr>\n",
              "      <th>1</th>\n",
              "      <td>vauxhall</td>\n",
              "      <td>GTC</td>\n",
              "      <td>2015</td>\n",
              "      <td>Manual</td>\n",
              "      <td>47870</td>\n",
              "      <td>Diesel</td>\n",
              "      <td>125.0</td>\n",
              "      <td>60.1</td>\n",
              "      <td>2.0</td>\n",
              "      <td>7700</td>\n",
              "    </tr>\n",
              "    <tr>\n",
              "      <th>2</th>\n",
              "      <td>audi</td>\n",
              "      <td>RS4</td>\n",
              "      <td>2019</td>\n",
              "      <td>Automatic</td>\n",
              "      <td>5151</td>\n",
              "      <td>Petrol</td>\n",
              "      <td>145.0</td>\n",
              "      <td>29.1</td>\n",
              "      <td>2.9</td>\n",
              "      <td>58990</td>\n",
              "    </tr>\n",
              "    <tr>\n",
              "      <th>3</th>\n",
              "      <td>vw</td>\n",
              "      <td>Scirocco</td>\n",
              "      <td>2016</td>\n",
              "      <td>Automatic</td>\n",
              "      <td>20423</td>\n",
              "      <td>Diesel</td>\n",
              "      <td>30.0</td>\n",
              "      <td>57.6</td>\n",
              "      <td>2.0</td>\n",
              "      <td>12999</td>\n",
              "    </tr>\n",
              "    <tr>\n",
              "      <th>4</th>\n",
              "      <td>skoda</td>\n",
              "      <td>Scala</td>\n",
              "      <td>2020</td>\n",
              "      <td>Semi-Auto</td>\n",
              "      <td>3569</td>\n",
              "      <td>Petrol</td>\n",
              "      <td>145.0</td>\n",
              "      <td>47.1</td>\n",
              "      <td>1.0</td>\n",
              "      <td>16990</td>\n",
              "    </tr>\n",
              "  </tbody>\n",
              "</table>\n",
              "</div>\n",
              "    <div class=\"colab-df-buttons\">\n",
              "\n",
              "  <div class=\"colab-df-container\">\n",
              "    <button class=\"colab-df-convert\" onclick=\"convertToInteractive('df-72c29b9e-66ba-42db-93dc-59ffcbff0180')\"\n",
              "            title=\"Convert this dataframe to an interactive table.\"\n",
              "            style=\"display:none;\">\n",
              "\n",
              "  <svg xmlns=\"http://www.w3.org/2000/svg\" height=\"24px\" viewBox=\"0 -960 960 960\">\n",
              "    <path d=\"M120-120v-720h720v720H120Zm60-500h600v-160H180v160Zm220 220h160v-160H400v160Zm0 220h160v-160H400v160ZM180-400h160v-160H180v160Zm440 0h160v-160H620v160ZM180-180h160v-160H180v160Zm440 0h160v-160H620v160Z\"/>\n",
              "  </svg>\n",
              "    </button>\n",
              "\n",
              "  <style>\n",
              "    .colab-df-container {\n",
              "      display:flex;\n",
              "      gap: 12px;\n",
              "    }\n",
              "\n",
              "    .colab-df-convert {\n",
              "      background-color: #E8F0FE;\n",
              "      border: none;\n",
              "      border-radius: 50%;\n",
              "      cursor: pointer;\n",
              "      display: none;\n",
              "      fill: #1967D2;\n",
              "      height: 32px;\n",
              "      padding: 0 0 0 0;\n",
              "      width: 32px;\n",
              "    }\n",
              "\n",
              "    .colab-df-convert:hover {\n",
              "      background-color: #E2EBFA;\n",
              "      box-shadow: 0px 1px 2px rgba(60, 64, 67, 0.3), 0px 1px 3px 1px rgba(60, 64, 67, 0.15);\n",
              "      fill: #174EA6;\n",
              "    }\n",
              "\n",
              "    .colab-df-buttons div {\n",
              "      margin-bottom: 4px;\n",
              "    }\n",
              "\n",
              "    [theme=dark] .colab-df-convert {\n",
              "      background-color: #3B4455;\n",
              "      fill: #D2E3FC;\n",
              "    }\n",
              "\n",
              "    [theme=dark] .colab-df-convert:hover {\n",
              "      background-color: #434B5C;\n",
              "      box-shadow: 0px 1px 3px 1px rgba(0, 0, 0, 0.15);\n",
              "      filter: drop-shadow(0px 1px 2px rgba(0, 0, 0, 0.3));\n",
              "      fill: #FFFFFF;\n",
              "    }\n",
              "  </style>\n",
              "\n",
              "    <script>\n",
              "      const buttonEl =\n",
              "        document.querySelector('#df-72c29b9e-66ba-42db-93dc-59ffcbff0180 button.colab-df-convert');\n",
              "      buttonEl.style.display =\n",
              "        google.colab.kernel.accessAllowed ? 'block' : 'none';\n",
              "\n",
              "      async function convertToInteractive(key) {\n",
              "        const element = document.querySelector('#df-72c29b9e-66ba-42db-93dc-59ffcbff0180');\n",
              "        const dataTable =\n",
              "          await google.colab.kernel.invokeFunction('convertToInteractive',\n",
              "                                                    [key], {});\n",
              "        if (!dataTable) return;\n",
              "\n",
              "        const docLinkHtml = 'Like what you see? Visit the ' +\n",
              "          '<a target=\"_blank\" href=https://colab.research.google.com/notebooks/data_table.ipynb>data table notebook</a>'\n",
              "          + ' to learn more about interactive tables.';\n",
              "        element.innerHTML = '';\n",
              "        dataTable['output_type'] = 'display_data';\n",
              "        await google.colab.output.renderOutput(dataTable, element);\n",
              "        const docLink = document.createElement('div');\n",
              "        docLink.innerHTML = docLinkHtml;\n",
              "        element.appendChild(docLink);\n",
              "      }\n",
              "    </script>\n",
              "  </div>\n",
              "\n",
              "\n",
              "<div id=\"df-ee957daa-b2b1-44be-b409-ec20b10f120c\">\n",
              "  <button class=\"colab-df-quickchart\" onclick=\"quickchart('df-ee957daa-b2b1-44be-b409-ec20b10f120c')\"\n",
              "            title=\"Suggest charts\"\n",
              "            style=\"display:none;\">\n",
              "\n",
              "<svg xmlns=\"http://www.w3.org/2000/svg\" height=\"24px\"viewBox=\"0 0 24 24\"\n",
              "     width=\"24px\">\n",
              "    <g>\n",
              "        <path d=\"M19 3H5c-1.1 0-2 .9-2 2v14c0 1.1.9 2 2 2h14c1.1 0 2-.9 2-2V5c0-1.1-.9-2-2-2zM9 17H7v-7h2v7zm4 0h-2V7h2v10zm4 0h-2v-4h2v4z\"/>\n",
              "    </g>\n",
              "</svg>\n",
              "  </button>\n",
              "\n",
              "<style>\n",
              "  .colab-df-quickchart {\n",
              "      --bg-color: #E8F0FE;\n",
              "      --fill-color: #1967D2;\n",
              "      --hover-bg-color: #E2EBFA;\n",
              "      --hover-fill-color: #174EA6;\n",
              "      --disabled-fill-color: #AAA;\n",
              "      --disabled-bg-color: #DDD;\n",
              "  }\n",
              "\n",
              "  [theme=dark] .colab-df-quickchart {\n",
              "      --bg-color: #3B4455;\n",
              "      --fill-color: #D2E3FC;\n",
              "      --hover-bg-color: #434B5C;\n",
              "      --hover-fill-color: #FFFFFF;\n",
              "      --disabled-bg-color: #3B4455;\n",
              "      --disabled-fill-color: #666;\n",
              "  }\n",
              "\n",
              "  .colab-df-quickchart {\n",
              "    background-color: var(--bg-color);\n",
              "    border: none;\n",
              "    border-radius: 50%;\n",
              "    cursor: pointer;\n",
              "    display: none;\n",
              "    fill: var(--fill-color);\n",
              "    height: 32px;\n",
              "    padding: 0;\n",
              "    width: 32px;\n",
              "  }\n",
              "\n",
              "  .colab-df-quickchart:hover {\n",
              "    background-color: var(--hover-bg-color);\n",
              "    box-shadow: 0 1px 2px rgba(60, 64, 67, 0.3), 0 1px 3px 1px rgba(60, 64, 67, 0.15);\n",
              "    fill: var(--button-hover-fill-color);\n",
              "  }\n",
              "\n",
              "  .colab-df-quickchart-complete:disabled,\n",
              "  .colab-df-quickchart-complete:disabled:hover {\n",
              "    background-color: var(--disabled-bg-color);\n",
              "    fill: var(--disabled-fill-color);\n",
              "    box-shadow: none;\n",
              "  }\n",
              "\n",
              "  .colab-df-spinner {\n",
              "    border: 2px solid var(--fill-color);\n",
              "    border-color: transparent;\n",
              "    border-bottom-color: var(--fill-color);\n",
              "    animation:\n",
              "      spin 1s steps(1) infinite;\n",
              "  }\n",
              "\n",
              "  @keyframes spin {\n",
              "    0% {\n",
              "      border-color: transparent;\n",
              "      border-bottom-color: var(--fill-color);\n",
              "      border-left-color: var(--fill-color);\n",
              "    }\n",
              "    20% {\n",
              "      border-color: transparent;\n",
              "      border-left-color: var(--fill-color);\n",
              "      border-top-color: var(--fill-color);\n",
              "    }\n",
              "    30% {\n",
              "      border-color: transparent;\n",
              "      border-left-color: var(--fill-color);\n",
              "      border-top-color: var(--fill-color);\n",
              "      border-right-color: var(--fill-color);\n",
              "    }\n",
              "    40% {\n",
              "      border-color: transparent;\n",
              "      border-right-color: var(--fill-color);\n",
              "      border-top-color: var(--fill-color);\n",
              "    }\n",
              "    60% {\n",
              "      border-color: transparent;\n",
              "      border-right-color: var(--fill-color);\n",
              "    }\n",
              "    80% {\n",
              "      border-color: transparent;\n",
              "      border-right-color: var(--fill-color);\n",
              "      border-bottom-color: var(--fill-color);\n",
              "    }\n",
              "    90% {\n",
              "      border-color: transparent;\n",
              "      border-bottom-color: var(--fill-color);\n",
              "    }\n",
              "  }\n",
              "</style>\n",
              "\n",
              "  <script>\n",
              "    async function quickchart(key) {\n",
              "      const quickchartButtonEl =\n",
              "        document.querySelector('#' + key + ' button');\n",
              "      quickchartButtonEl.disabled = true;  // To prevent multiple clicks.\n",
              "      quickchartButtonEl.classList.add('colab-df-spinner');\n",
              "      try {\n",
              "        const charts = await google.colab.kernel.invokeFunction(\n",
              "            'suggestCharts', [key], {});\n",
              "      } catch (error) {\n",
              "        console.error('Error during call to suggestCharts:', error);\n",
              "      }\n",
              "      quickchartButtonEl.classList.remove('colab-df-spinner');\n",
              "      quickchartButtonEl.classList.add('colab-df-quickchart-complete');\n",
              "    }\n",
              "    (() => {\n",
              "      let quickchartButtonEl =\n",
              "        document.querySelector('#df-ee957daa-b2b1-44be-b409-ec20b10f120c button');\n",
              "      quickchartButtonEl.style.display =\n",
              "        google.colab.kernel.accessAllowed ? 'block' : 'none';\n",
              "    })();\n",
              "  </script>\n",
              "</div>\n",
              "\n",
              "    </div>\n",
              "  </div>\n"
            ],
            "application/vnd.google.colaboratory.intrinsic+json": {
              "type": "dataframe",
              "variable_name": "df",
              "summary": "{\n  \"name\": \"df\",\n  \"rows\": 4960,\n  \"fields\": [\n    {\n      \"column\": \"brand\",\n      \"properties\": {\n        \"dtype\": \"category\",\n        \"num_unique_values\": 9,\n        \"samples\": [\n          \"bmw\",\n          \"vauxhall\",\n          \"merc\"\n        ],\n        \"semantic_type\": \"\",\n        \"description\": \"\"\n      }\n    },\n    {\n      \"column\": \"model\",\n      \"properties\": {\n        \"dtype\": \"category\",\n        \"num_unique_values\": 90,\n        \"samples\": [\n          \" Antara\",\n          \" Galaxy\",\n          \" California\"\n        ],\n        \"semantic_type\": \"\",\n        \"description\": \"\"\n      }\n    },\n    {\n      \"column\": \"year\",\n      \"properties\": {\n        \"dtype\": \"number\",\n        \"std\": 2,\n        \"min\": 1997,\n        \"max\": 2020,\n        \"num_unique_values\": 24,\n        \"samples\": [\n          2013,\n          2005,\n          2019\n        ],\n        \"semantic_type\": \"\",\n        \"description\": \"\"\n      }\n    },\n    {\n      \"column\": \"transmission\",\n      \"properties\": {\n        \"dtype\": \"category\",\n        \"num_unique_values\": 4,\n        \"samples\": [\n          \"Manual\",\n          \"Other\",\n          \"Semi-Auto\"\n        ],\n        \"semantic_type\": \"\",\n        \"description\": \"\"\n      }\n    },\n    {\n      \"column\": \"mileage\",\n      \"properties\": {\n        \"dtype\": \"number\",\n        \"std\": 24443,\n        \"min\": 1,\n        \"max\": 259000,\n        \"num_unique_values\": 3900,\n        \"samples\": [\n          43000,\n          12114,\n          56316\n        ],\n        \"semantic_type\": \"\",\n        \"description\": \"\"\n      }\n    },\n    {\n      \"column\": \"fuelType\",\n      \"properties\": {\n        \"dtype\": \"category\",\n        \"num_unique_values\": 5,\n        \"samples\": [\n          \"Petrol\",\n          \"Electric\",\n          \"Hybrid\"\n        ],\n        \"semantic_type\": \"\",\n        \"description\": \"\"\n      }\n    },\n    {\n      \"column\": \"tax\",\n      \"properties\": {\n        \"dtype\": \"number\",\n        \"std\": 82.40384364850881,\n        \"min\": 0.0,\n        \"max\": 580.0,\n        \"num_unique_values\": 41,\n        \"samples\": [\n          330.0,\n          555.0,\n          325.0\n        ],\n        \"semantic_type\": \"\",\n        \"description\": \"\"\n      }\n    },\n    {\n      \"column\": \"mpg\",\n      \"properties\": {\n        \"dtype\": \"number\",\n        \"std\": 35.74650471771943,\n        \"min\": 2.8,\n        \"max\": 470.8,\n        \"num_unique_values\": 125,\n        \"samples\": [\n          40.4,\n          23.5,\n          28.8\n        ],\n        \"semantic_type\": \"\",\n        \"description\": \"\"\n      }\n    },\n    {\n      \"column\": \"engineSize\",\n      \"properties\": {\n        \"dtype\": \"number\",\n        \"std\": 0.7893681329419753,\n        \"min\": 0.0,\n        \"max\": 6.6,\n        \"num_unique_values\": 37,\n        \"samples\": [\n          2.3,\n          2.8,\n          2.1\n        ],\n        \"semantic_type\": \"\",\n        \"description\": \"\"\n      }\n    },\n    {\n      \"column\": \"price\",\n      \"properties\": {\n        \"dtype\": \"number\",\n        \"std\": 16406,\n        \"min\": 450,\n        \"max\": 145000,\n        \"num_unique_values\": 2279,\n        \"samples\": [\n          25945,\n          48782,\n          4450\n        ],\n        \"semantic_type\": \"\",\n        \"description\": \"\"\n      }\n    }\n  ]\n}"
            }
          },
          "metadata": {},
          "execution_count": 29
        }
      ],
      "source": [
        "df = pd.read_csv(\"https://raw.githubusercontent.com/chaudatascience/cs599_fall2022/master/ps4/used_car_price.csv\")\n",
        "print(df.shape)\n",
        "df.head()"
      ]
    },
    {
      "cell_type": "markdown",
      "id": "6886001e",
      "metadata": {
        "id": "6886001e"
      },
      "source": [
        "A regression tree is like a classification tree, but a regression tree stores values rather than labels in the leaves. The tree is fitted using a procedure quite like fitting a classification tree. The splitting process parallels the one we used for classification, but now we can use the error in the regression to choose the split instead of the information gain."
      ]
    },
    {
      "cell_type": "markdown",
      "id": "ac544319",
      "metadata": {
        "id": "ac544319"
      },
      "source": [
        "## **3.1 Code:** Label encoder *(10 pts)*"
      ]
    },
    {
      "cell_type": "markdown",
      "id": "d9daa837",
      "metadata": {
        "id": "d9daa837"
      },
      "source": [
        "We can observe that some columns (e.g., \"brand\", \"model\") contain string values, not numbers.\n",
        "In order to use Sklearn's regression tree, we need to convert these strings into numbers first."
      ]
    },
    {
      "cell_type": "markdown",
      "id": "137a64bf",
      "metadata": {
        "id": "137a64bf"
      },
      "source": [
        "There are some options for this, such as [OneHotEncoder](https://scikit-learn.org/stable/modules/generated/sklearn.preprocessing.OneHotEncoder.html#sklearn.preprocessing.OneHotEncoder), [OrdinalEncoder](https://scikit-learn.org/sOrdinalEncodertable/modules/generated/sklearn.preprocessing.OrdinalEncoder.html#sklearn.preprocessing.OrdinalEncoder).\n",
        "\n",
        "In this section, we will use [LabelEncoder](https://scikit-learn.org/stable/modules/generated/sklearn.preprocessing.LabelEncoder.html). The idea is that, for each string value, we map it to a integer number. For example, suppose we have total 3 car brands in column \"brand\": [\"audi\", \"bmw\", toyota\"], it can be mapped to integers number as follows:  \n",
        "         \"audi\" -> 0, \"bmw\" -> 1, \"toyota\" -> 2\n",
        "\n",
        "You will need to complete the function below, using  [LabelEncoder](https://scikit-learn.org/stable/modules/generated/sklearn.preprocessing.LabelEncoder.html)."
      ]
    },
    {
      "cell_type": "code",
      "execution_count": null,
      "id": "f1a713c6",
      "metadata": {
        "id": "f1a713c6",
        "outputId": "538fbfe4-fd34-4270-f80b-663eab6a9309",
        "colab": {
          "base_uri": "https://localhost:8080/",
          "height": 363
        }
      },
      "outputs": [
        {
          "output_type": "execute_result",
          "data": {
            "text/plain": [
              "   brand  model  year  transmission  mileage  fuelType    tax   mpg  \\\n",
              "0      3     69  2019             3     4223         0  145.0  39.8   \n",
              "1      7     30  2015             1    47870         0  125.0  60.1   \n",
              "2      0     58  2019             0     5151         4  145.0  29.1   \n",
              "3      8     71  2016             0    20423         0   30.0  57.6   \n",
              "4      5     70  2020             3     3569         4  145.0  47.1   \n",
              "5      4     77  2019             0     4170         0  145.0  44.1   \n",
              "6      6     53  2020             0        3         2  135.0  64.2   \n",
              "7      1     48  2019             3      101         4  145.0  34.0   \n",
              "8      6     19  2019             0     6340         2  135.0  52.3   \n",
              "9      2     42  2012             1    85843         4   30.0  57.7   \n",
              "\n",
              "   engineSize  price  \n",
              "0         2.2  31995  \n",
              "1         2.0   7700  \n",
              "2         2.9  58990  \n",
              "3         2.0  12999  \n",
              "4         1.0  16990  \n",
              "5         2.1  40890  \n",
              "6         1.8  25990  \n",
              "7         3.0  41980  \n",
              "8         2.5  25490  \n",
              "9         1.2   3491  "
            ],
            "text/html": [
              "\n",
              "  <div id=\"df-d491d06a-1efd-44fa-8b5e-bc3d27df5639\" class=\"colab-df-container\">\n",
              "    <div>\n",
              "<style scoped>\n",
              "    .dataframe tbody tr th:only-of-type {\n",
              "        vertical-align: middle;\n",
              "    }\n",
              "\n",
              "    .dataframe tbody tr th {\n",
              "        vertical-align: top;\n",
              "    }\n",
              "\n",
              "    .dataframe thead th {\n",
              "        text-align: right;\n",
              "    }\n",
              "</style>\n",
              "<table border=\"1\" class=\"dataframe\">\n",
              "  <thead>\n",
              "    <tr style=\"text-align: right;\">\n",
              "      <th></th>\n",
              "      <th>brand</th>\n",
              "      <th>model</th>\n",
              "      <th>year</th>\n",
              "      <th>transmission</th>\n",
              "      <th>mileage</th>\n",
              "      <th>fuelType</th>\n",
              "      <th>tax</th>\n",
              "      <th>mpg</th>\n",
              "      <th>engineSize</th>\n",
              "      <th>price</th>\n",
              "    </tr>\n",
              "  </thead>\n",
              "  <tbody>\n",
              "    <tr>\n",
              "      <th>0</th>\n",
              "      <td>3</td>\n",
              "      <td>69</td>\n",
              "      <td>2019</td>\n",
              "      <td>3</td>\n",
              "      <td>4223</td>\n",
              "      <td>0</td>\n",
              "      <td>145.0</td>\n",
              "      <td>39.8</td>\n",
              "      <td>2.2</td>\n",
              "      <td>31995</td>\n",
              "    </tr>\n",
              "    <tr>\n",
              "      <th>1</th>\n",
              "      <td>7</td>\n",
              "      <td>30</td>\n",
              "      <td>2015</td>\n",
              "      <td>1</td>\n",
              "      <td>47870</td>\n",
              "      <td>0</td>\n",
              "      <td>125.0</td>\n",
              "      <td>60.1</td>\n",
              "      <td>2.0</td>\n",
              "      <td>7700</td>\n",
              "    </tr>\n",
              "    <tr>\n",
              "      <th>2</th>\n",
              "      <td>0</td>\n",
              "      <td>58</td>\n",
              "      <td>2019</td>\n",
              "      <td>0</td>\n",
              "      <td>5151</td>\n",
              "      <td>4</td>\n",
              "      <td>145.0</td>\n",
              "      <td>29.1</td>\n",
              "      <td>2.9</td>\n",
              "      <td>58990</td>\n",
              "    </tr>\n",
              "    <tr>\n",
              "      <th>3</th>\n",
              "      <td>8</td>\n",
              "      <td>71</td>\n",
              "      <td>2016</td>\n",
              "      <td>0</td>\n",
              "      <td>20423</td>\n",
              "      <td>0</td>\n",
              "      <td>30.0</td>\n",
              "      <td>57.6</td>\n",
              "      <td>2.0</td>\n",
              "      <td>12999</td>\n",
              "    </tr>\n",
              "    <tr>\n",
              "      <th>4</th>\n",
              "      <td>5</td>\n",
              "      <td>70</td>\n",
              "      <td>2020</td>\n",
              "      <td>3</td>\n",
              "      <td>3569</td>\n",
              "      <td>4</td>\n",
              "      <td>145.0</td>\n",
              "      <td>47.1</td>\n",
              "      <td>1.0</td>\n",
              "      <td>16990</td>\n",
              "    </tr>\n",
              "    <tr>\n",
              "      <th>5</th>\n",
              "      <td>4</td>\n",
              "      <td>77</td>\n",
              "      <td>2019</td>\n",
              "      <td>0</td>\n",
              "      <td>4170</td>\n",
              "      <td>0</td>\n",
              "      <td>145.0</td>\n",
              "      <td>44.1</td>\n",
              "      <td>2.1</td>\n",
              "      <td>40890</td>\n",
              "    </tr>\n",
              "    <tr>\n",
              "      <th>6</th>\n",
              "      <td>6</td>\n",
              "      <td>53</td>\n",
              "      <td>2020</td>\n",
              "      <td>0</td>\n",
              "      <td>3</td>\n",
              "      <td>2</td>\n",
              "      <td>135.0</td>\n",
              "      <td>64.2</td>\n",
              "      <td>1.8</td>\n",
              "      <td>25990</td>\n",
              "    </tr>\n",
              "    <tr>\n",
              "      <th>7</th>\n",
              "      <td>1</td>\n",
              "      <td>48</td>\n",
              "      <td>2019</td>\n",
              "      <td>3</td>\n",
              "      <td>101</td>\n",
              "      <td>4</td>\n",
              "      <td>145.0</td>\n",
              "      <td>34.0</td>\n",
              "      <td>3.0</td>\n",
              "      <td>41980</td>\n",
              "    </tr>\n",
              "    <tr>\n",
              "      <th>8</th>\n",
              "      <td>6</td>\n",
              "      <td>19</td>\n",
              "      <td>2019</td>\n",
              "      <td>0</td>\n",
              "      <td>6340</td>\n",
              "      <td>2</td>\n",
              "      <td>135.0</td>\n",
              "      <td>52.3</td>\n",
              "      <td>2.5</td>\n",
              "      <td>25490</td>\n",
              "    </tr>\n",
              "    <tr>\n",
              "      <th>9</th>\n",
              "      <td>2</td>\n",
              "      <td>42</td>\n",
              "      <td>2012</td>\n",
              "      <td>1</td>\n",
              "      <td>85843</td>\n",
              "      <td>4</td>\n",
              "      <td>30.0</td>\n",
              "      <td>57.7</td>\n",
              "      <td>1.2</td>\n",
              "      <td>3491</td>\n",
              "    </tr>\n",
              "  </tbody>\n",
              "</table>\n",
              "</div>\n",
              "    <div class=\"colab-df-buttons\">\n",
              "\n",
              "  <div class=\"colab-df-container\">\n",
              "    <button class=\"colab-df-convert\" onclick=\"convertToInteractive('df-d491d06a-1efd-44fa-8b5e-bc3d27df5639')\"\n",
              "            title=\"Convert this dataframe to an interactive table.\"\n",
              "            style=\"display:none;\">\n",
              "\n",
              "  <svg xmlns=\"http://www.w3.org/2000/svg\" height=\"24px\" viewBox=\"0 -960 960 960\">\n",
              "    <path d=\"M120-120v-720h720v720H120Zm60-500h600v-160H180v160Zm220 220h160v-160H400v160Zm0 220h160v-160H400v160ZM180-400h160v-160H180v160Zm440 0h160v-160H620v160ZM180-180h160v-160H180v160Zm440 0h160v-160H620v160Z\"/>\n",
              "  </svg>\n",
              "    </button>\n",
              "\n",
              "  <style>\n",
              "    .colab-df-container {\n",
              "      display:flex;\n",
              "      gap: 12px;\n",
              "    }\n",
              "\n",
              "    .colab-df-convert {\n",
              "      background-color: #E8F0FE;\n",
              "      border: none;\n",
              "      border-radius: 50%;\n",
              "      cursor: pointer;\n",
              "      display: none;\n",
              "      fill: #1967D2;\n",
              "      height: 32px;\n",
              "      padding: 0 0 0 0;\n",
              "      width: 32px;\n",
              "    }\n",
              "\n",
              "    .colab-df-convert:hover {\n",
              "      background-color: #E2EBFA;\n",
              "      box-shadow: 0px 1px 2px rgba(60, 64, 67, 0.3), 0px 1px 3px 1px rgba(60, 64, 67, 0.15);\n",
              "      fill: #174EA6;\n",
              "    }\n",
              "\n",
              "    .colab-df-buttons div {\n",
              "      margin-bottom: 4px;\n",
              "    }\n",
              "\n",
              "    [theme=dark] .colab-df-convert {\n",
              "      background-color: #3B4455;\n",
              "      fill: #D2E3FC;\n",
              "    }\n",
              "\n",
              "    [theme=dark] .colab-df-convert:hover {\n",
              "      background-color: #434B5C;\n",
              "      box-shadow: 0px 1px 3px 1px rgba(0, 0, 0, 0.15);\n",
              "      filter: drop-shadow(0px 1px 2px rgba(0, 0, 0, 0.3));\n",
              "      fill: #FFFFFF;\n",
              "    }\n",
              "  </style>\n",
              "\n",
              "    <script>\n",
              "      const buttonEl =\n",
              "        document.querySelector('#df-d491d06a-1efd-44fa-8b5e-bc3d27df5639 button.colab-df-convert');\n",
              "      buttonEl.style.display =\n",
              "        google.colab.kernel.accessAllowed ? 'block' : 'none';\n",
              "\n",
              "      async function convertToInteractive(key) {\n",
              "        const element = document.querySelector('#df-d491d06a-1efd-44fa-8b5e-bc3d27df5639');\n",
              "        const dataTable =\n",
              "          await google.colab.kernel.invokeFunction('convertToInteractive',\n",
              "                                                    [key], {});\n",
              "        if (!dataTable) return;\n",
              "\n",
              "        const docLinkHtml = 'Like what you see? Visit the ' +\n",
              "          '<a target=\"_blank\" href=https://colab.research.google.com/notebooks/data_table.ipynb>data table notebook</a>'\n",
              "          + ' to learn more about interactive tables.';\n",
              "        element.innerHTML = '';\n",
              "        dataTable['output_type'] = 'display_data';\n",
              "        await google.colab.output.renderOutput(dataTable, element);\n",
              "        const docLink = document.createElement('div');\n",
              "        docLink.innerHTML = docLinkHtml;\n",
              "        element.appendChild(docLink);\n",
              "      }\n",
              "    </script>\n",
              "  </div>\n",
              "\n",
              "\n",
              "<div id=\"df-5e8d1d21-a146-4b3d-92f0-2245c60c5c99\">\n",
              "  <button class=\"colab-df-quickchart\" onclick=\"quickchart('df-5e8d1d21-a146-4b3d-92f0-2245c60c5c99')\"\n",
              "            title=\"Suggest charts\"\n",
              "            style=\"display:none;\">\n",
              "\n",
              "<svg xmlns=\"http://www.w3.org/2000/svg\" height=\"24px\"viewBox=\"0 0 24 24\"\n",
              "     width=\"24px\">\n",
              "    <g>\n",
              "        <path d=\"M19 3H5c-1.1 0-2 .9-2 2v14c0 1.1.9 2 2 2h14c1.1 0 2-.9 2-2V5c0-1.1-.9-2-2-2zM9 17H7v-7h2v7zm4 0h-2V7h2v10zm4 0h-2v-4h2v4z\"/>\n",
              "    </g>\n",
              "</svg>\n",
              "  </button>\n",
              "\n",
              "<style>\n",
              "  .colab-df-quickchart {\n",
              "      --bg-color: #E8F0FE;\n",
              "      --fill-color: #1967D2;\n",
              "      --hover-bg-color: #E2EBFA;\n",
              "      --hover-fill-color: #174EA6;\n",
              "      --disabled-fill-color: #AAA;\n",
              "      --disabled-bg-color: #DDD;\n",
              "  }\n",
              "\n",
              "  [theme=dark] .colab-df-quickchart {\n",
              "      --bg-color: #3B4455;\n",
              "      --fill-color: #D2E3FC;\n",
              "      --hover-bg-color: #434B5C;\n",
              "      --hover-fill-color: #FFFFFF;\n",
              "      --disabled-bg-color: #3B4455;\n",
              "      --disabled-fill-color: #666;\n",
              "  }\n",
              "\n",
              "  .colab-df-quickchart {\n",
              "    background-color: var(--bg-color);\n",
              "    border: none;\n",
              "    border-radius: 50%;\n",
              "    cursor: pointer;\n",
              "    display: none;\n",
              "    fill: var(--fill-color);\n",
              "    height: 32px;\n",
              "    padding: 0;\n",
              "    width: 32px;\n",
              "  }\n",
              "\n",
              "  .colab-df-quickchart:hover {\n",
              "    background-color: var(--hover-bg-color);\n",
              "    box-shadow: 0 1px 2px rgba(60, 64, 67, 0.3), 0 1px 3px 1px rgba(60, 64, 67, 0.15);\n",
              "    fill: var(--button-hover-fill-color);\n",
              "  }\n",
              "\n",
              "  .colab-df-quickchart-complete:disabled,\n",
              "  .colab-df-quickchart-complete:disabled:hover {\n",
              "    background-color: var(--disabled-bg-color);\n",
              "    fill: var(--disabled-fill-color);\n",
              "    box-shadow: none;\n",
              "  }\n",
              "\n",
              "  .colab-df-spinner {\n",
              "    border: 2px solid var(--fill-color);\n",
              "    border-color: transparent;\n",
              "    border-bottom-color: var(--fill-color);\n",
              "    animation:\n",
              "      spin 1s steps(1) infinite;\n",
              "  }\n",
              "\n",
              "  @keyframes spin {\n",
              "    0% {\n",
              "      border-color: transparent;\n",
              "      border-bottom-color: var(--fill-color);\n",
              "      border-left-color: var(--fill-color);\n",
              "    }\n",
              "    20% {\n",
              "      border-color: transparent;\n",
              "      border-left-color: var(--fill-color);\n",
              "      border-top-color: var(--fill-color);\n",
              "    }\n",
              "    30% {\n",
              "      border-color: transparent;\n",
              "      border-left-color: var(--fill-color);\n",
              "      border-top-color: var(--fill-color);\n",
              "      border-right-color: var(--fill-color);\n",
              "    }\n",
              "    40% {\n",
              "      border-color: transparent;\n",
              "      border-right-color: var(--fill-color);\n",
              "      border-top-color: var(--fill-color);\n",
              "    }\n",
              "    60% {\n",
              "      border-color: transparent;\n",
              "      border-right-color: var(--fill-color);\n",
              "    }\n",
              "    80% {\n",
              "      border-color: transparent;\n",
              "      border-right-color: var(--fill-color);\n",
              "      border-bottom-color: var(--fill-color);\n",
              "    }\n",
              "    90% {\n",
              "      border-color: transparent;\n",
              "      border-bottom-color: var(--fill-color);\n",
              "    }\n",
              "  }\n",
              "</style>\n",
              "\n",
              "  <script>\n",
              "    async function quickchart(key) {\n",
              "      const quickchartButtonEl =\n",
              "        document.querySelector('#' + key + ' button');\n",
              "      quickchartButtonEl.disabled = true;  // To prevent multiple clicks.\n",
              "      quickchartButtonEl.classList.add('colab-df-spinner');\n",
              "      try {\n",
              "        const charts = await google.colab.kernel.invokeFunction(\n",
              "            'suggestCharts', [key], {});\n",
              "      } catch (error) {\n",
              "        console.error('Error during call to suggestCharts:', error);\n",
              "      }\n",
              "      quickchartButtonEl.classList.remove('colab-df-spinner');\n",
              "      quickchartButtonEl.classList.add('colab-df-quickchart-complete');\n",
              "    }\n",
              "    (() => {\n",
              "      let quickchartButtonEl =\n",
              "        document.querySelector('#df-5e8d1d21-a146-4b3d-92f0-2245c60c5c99 button');\n",
              "      quickchartButtonEl.style.display =\n",
              "        google.colab.kernel.accessAllowed ? 'block' : 'none';\n",
              "    })();\n",
              "  </script>\n",
              "</div>\n",
              "\n",
              "    </div>\n",
              "  </div>\n"
            ],
            "application/vnd.google.colaboratory.intrinsic+json": {
              "type": "dataframe",
              "variable_name": "df",
              "summary": "{\n  \"name\": \"df\",\n  \"rows\": 4960,\n  \"fields\": [\n    {\n      \"column\": \"brand\",\n      \"properties\": {\n        \"dtype\": \"number\",\n        \"std\": 2,\n        \"min\": 0,\n        \"max\": 8,\n        \"num_unique_values\": 9,\n        \"samples\": [\n          1,\n          7,\n          4\n        ],\n        \"semantic_type\": \"\",\n        \"description\": \"\"\n      }\n    },\n    {\n      \"column\": \"model\",\n      \"properties\": {\n        \"dtype\": \"number\",\n        \"std\": 26,\n        \"min\": 0,\n        \"max\": 89,\n        \"num_unique_values\": 90,\n        \"samples\": [\n          7,\n          31,\n          18\n        ],\n        \"semantic_type\": \"\",\n        \"description\": \"\"\n      }\n    },\n    {\n      \"column\": \"year\",\n      \"properties\": {\n        \"dtype\": \"number\",\n        \"std\": 2,\n        \"min\": 1997,\n        \"max\": 2020,\n        \"num_unique_values\": 24,\n        \"samples\": [\n          2013,\n          2005,\n          2019\n        ],\n        \"semantic_type\": \"\",\n        \"description\": \"\"\n      }\n    },\n    {\n      \"column\": \"transmission\",\n      \"properties\": {\n        \"dtype\": \"number\",\n        \"std\": 1,\n        \"min\": 0,\n        \"max\": 3,\n        \"num_unique_values\": 4,\n        \"samples\": [\n          1,\n          2,\n          3\n        ],\n        \"semantic_type\": \"\",\n        \"description\": \"\"\n      }\n    },\n    {\n      \"column\": \"mileage\",\n      \"properties\": {\n        \"dtype\": \"number\",\n        \"std\": 24443,\n        \"min\": 1,\n        \"max\": 259000,\n        \"num_unique_values\": 3900,\n        \"samples\": [\n          43000,\n          12114,\n          56316\n        ],\n        \"semantic_type\": \"\",\n        \"description\": \"\"\n      }\n    },\n    {\n      \"column\": \"fuelType\",\n      \"properties\": {\n        \"dtype\": \"number\",\n        \"std\": 1,\n        \"min\": 0,\n        \"max\": 4,\n        \"num_unique_values\": 5,\n        \"samples\": [\n          4,\n          1,\n          2\n        ],\n        \"semantic_type\": \"\",\n        \"description\": \"\"\n      }\n    },\n    {\n      \"column\": \"tax\",\n      \"properties\": {\n        \"dtype\": \"number\",\n        \"std\": 82.40384364850881,\n        \"min\": 0.0,\n        \"max\": 580.0,\n        \"num_unique_values\": 41,\n        \"samples\": [\n          330.0,\n          555.0,\n          325.0\n        ],\n        \"semantic_type\": \"\",\n        \"description\": \"\"\n      }\n    },\n    {\n      \"column\": \"mpg\",\n      \"properties\": {\n        \"dtype\": \"number\",\n        \"std\": 35.74650471771943,\n        \"min\": 2.8,\n        \"max\": 470.8,\n        \"num_unique_values\": 125,\n        \"samples\": [\n          40.4,\n          23.5,\n          28.8\n        ],\n        \"semantic_type\": \"\",\n        \"description\": \"\"\n      }\n    },\n    {\n      \"column\": \"engineSize\",\n      \"properties\": {\n        \"dtype\": \"number\",\n        \"std\": 0.7893681329419753,\n        \"min\": 0.0,\n        \"max\": 6.6,\n        \"num_unique_values\": 37,\n        \"samples\": [\n          2.3,\n          2.8,\n          2.1\n        ],\n        \"semantic_type\": \"\",\n        \"description\": \"\"\n      }\n    },\n    {\n      \"column\": \"price\",\n      \"properties\": {\n        \"dtype\": \"number\",\n        \"std\": 16406,\n        \"min\": 450,\n        \"max\": 145000,\n        \"num_unique_values\": 2279,\n        \"samples\": [\n          25945,\n          48782,\n          4450\n        ],\n        \"semantic_type\": \"\",\n        \"description\": \"\"\n      }\n    }\n  ]\n}"
            }
          },
          "metadata": {},
          "execution_count": 30
        }
      ],
      "source": [
        "from sklearn import preprocessing\n",
        "\n",
        "def question_3_1(columns: List[str], df: pd.DataFrame) -> pd.DataFrame:\n",
        "    \"\"\"\n",
        "    label encode for categorical columns.\n",
        "    columns: list of categorical columns needed to encode\n",
        "    df: Pandas dataframe\n",
        "    return a Pandas dataframe (same shape as input) where each col in `columns` gets encoded.\n",
        "\n",
        "    \"\"\"\n",
        "    # Write your code in this block -----------------------------------------------------------\n",
        "\n",
        "\n",
        "    # End of your code -----------------------------------------------------------\n",
        "\n",
        "### Test your function\n",
        "categorical_columns =  ['brand', 'model', 'transmission', 'fuelType']\n",
        "\n",
        "df = question_3_1(categorical_columns, df)\n",
        "df.head(10)"
      ]
    },
    {
      "cell_type": "markdown",
      "id": "6fa2447f",
      "metadata": {
        "id": "6fa2447f"
      },
      "source": [
        "## **3.2 Code:** Regression Tree *(10 pts)*"
      ]
    },
    {
      "cell_type": "code",
      "execution_count": null,
      "id": "cb351fa8",
      "metadata": {
        "id": "cb351fa8",
        "outputId": "a5528998-08ea-4bce-8558-af2569cc5f62",
        "colab": {
          "base_uri": "https://localhost:8080/"
        }
      },
      "outputs": [
        {
          "output_type": "stream",
          "name": "stdout",
          "text": [
            "(3472, 9) (1488, 9) (3472,) (1488,)\n"
          ]
        }
      ],
      "source": [
        "### Prepare data\n",
        "X = df.drop(columns=\"price\")\n",
        "y = df[\"price\"]\n",
        "\n",
        "## Split to train, test\n",
        "X_train, X_test, y_train, y_test = train_test_split(X, y, random_state=2022, test_size=0.3)\n",
        "\n",
        "## Check on the shapes\n",
        "print(X_train.shape, X_test.shape, y_train.shape, y_test.shape)"
      ]
    },
    {
      "cell_type": "markdown",
      "id": "d5c99695",
      "metadata": {
        "id": "d5c99695"
      },
      "source": [
        "We will train a Regression Tree on the dataset using Sklearn.\n",
        "You can refer to the document of DecisionTreeRegressor [here](https://scikit-learn.org/stable/modules/generated/sklearn.tree.DecisionTreeRegressor.html).\n",
        "You should take a look at the document, to see what parameters it provides and understand their meaning.\n"
      ]
    },
    {
      "cell_type": "code",
      "execution_count": null,
      "id": "5216696f",
      "metadata": {
        "id": "5216696f"
      },
      "outputs": [],
      "source": [
        "from sklearn.tree import DecisionTreeRegressor\n",
        "\n",
        "def question_3_2(X: np.ndarray, y: np.ndarray, random_state: int,\n",
        "                 max_depth: int, min_samples_split: int) -> DecisionTreeRegressor:\n",
        "    \"\"\"\n",
        "    Train a Sklearn's Regression Tree on features `X` and labels `y`.\n",
        "    The regression tree has max_depth=`max_depth`, and min_samples_split=`min_samples_split`,\n",
        "    and set random_state to `random_state` when initializing.\n",
        "\n",
        "    X: 2d numpy array, shape of (num_samples, feat_dim)\n",
        "    y: numpy array, shape of (num_samples, )\n",
        "    random_state: controls the randomness of the model.\n",
        "    max_depth: The maximum depth of the tree\n",
        "    min_samples_split: The minimum number of samples required to split an internal node\n",
        "\n",
        "    return a trained `DecisionTreeRegressor`\n",
        "    \"\"\"\n",
        "    # Write your code in this block -----------------------------------------------------------\n",
        "\n",
        "\n",
        "\n",
        "    # End of your code ------------------------------------------------------------------------\n"
      ]
    },
    {
      "cell_type": "markdown",
      "id": "1530a37e",
      "metadata": {
        "id": "1530a37e"
      },
      "source": [
        "## **3.3 Code:** Root mean square error *(5 pts)*\n"
      ]
    },
    {
      "cell_type": "markdown",
      "id": "7e6df142",
      "metadata": {
        "id": "7e6df142"
      },
      "source": [
        "To measure how the model performs, we can evaluate the results on root mean square error (RMSE):\n",
        "\n",
        "$$\n",
        "\\text{RMSE}=\\sqrt{\\frac{\\sum_{i=1}^N\\left(\\text {Predicted}_i-\\text {Actual}_i\\right)^2}{N}}\n",
        "$$\n",
        "where N is the number of samples.\n",
        "\n",
        "\n",
        "RMSE give us an idea of how far predictions fall from measured true values using Euclidean distance:  lower the RMSE better is model performance.\n",
        "\n",
        "Write a function to compute RMSE"
      ]
    },
    {
      "cell_type": "code",
      "execution_count": null,
      "id": "0b04c51c",
      "metadata": {
        "id": "0b04c51c",
        "colab": {
          "base_uri": "https://localhost:8080/"
        },
        "outputId": "13b5647f-4b5d-48e1-b2fa-be286cf94e72"
      },
      "outputs": [
        {
          "output_type": "execute_result",
          "data": {
            "text/plain": [
              "1.2909944487358056"
            ]
          },
          "metadata": {},
          "execution_count": 37
        }
      ],
      "source": [
        "def question_3_3(y_true: np.ndarray, y_pred: np.ndarray) -> float:\n",
        "    \"\"\"\n",
        "    Compute RMSE given predictions and ground-truth labels\n",
        "    y_true: ground-truth labels, shape (num_samples, )\n",
        "    y_pred: predictions,  shape (num_samples, )\n",
        "    return root mean square error\n",
        "    \"\"\"\n",
        "    # Write your code in this block -----------------------------------------------------------\n",
        "\n",
        "\n",
        "    # End of your code ------------------------------------------------------------------------\n",
        "\n",
        "\n",
        "\n",
        "## test your function\n",
        "y_true = np.array([7,8,10])\n",
        "y_pred = np.array([7,7,8])\n",
        "question_3_3(y_true, y_pred)"
      ]
    },
    {
      "cell_type": "code",
      "execution_count": null,
      "id": "bceae585",
      "metadata": {
        "id": "bceae585",
        "outputId": "3a899114-bb65-457a-d8e3-1d3eb9236d93",
        "colab": {
          "base_uri": "https://localhost:8080/"
        }
      },
      "outputs": [
        {
          "output_type": "stream",
          "name": "stdout",
          "text": [
            "max_depth=7, min_samples_split=2\n",
            "Root Mean Square Error on training set: 4522.931688492328\n",
            "Root Mean Square Error on test set: 5870.628662511966\n"
          ]
        }
      ],
      "source": [
        "### Test your model in question 1.2\n",
        "\n",
        "max_depth = 7\n",
        "min_samples_split = 2\n",
        "random_state = 2022\n",
        "\n",
        "print(f\"max_depth={max_depth}, min_samples_split={min_samples_split}\")\n",
        "model = question_3_2(X_train, y_train, random_state, max_depth, min_samples_split)\n",
        "train_pred = model.predict(X_train)\n",
        "test_pred = model.predict(X_test)\n",
        "print(\"Root Mean Square Error on training set:\", question_3_3(y_train, train_pred))\n",
        "print(\"Root Mean Square Error on test set:\", question_3_3(y_test, test_pred))"
      ]
    },
    {
      "cell_type": "markdown",
      "id": "c9c0b43a",
      "metadata": {
        "id": "c9c0b43a"
      },
      "source": [
        "Our regression tree has a rmse of around £6k on test set."
      ]
    },
    {
      "cell_type": "markdown",
      "id": "783e4a24",
      "metadata": {
        "id": "783e4a24"
      },
      "source": [
        "## **3.4 Short answer:** Explanation for prediction *(5 pts)*"
      ]
    },
    {
      "cell_type": "code",
      "execution_count": null,
      "id": "1b1a72d0",
      "metadata": {
        "id": "1b1a72d0",
        "collapsed": true
      },
      "outputs": [],
      "source": [
        "## Visualize a shallow tree (max_depth=3)\n",
        "## If you're using your local computer, you can use `pip install graphviz`\n",
        "# and `brew install graphviz` (on MAC) to install the package\n",
        "from sklearn.tree import export_graphviz\n",
        "import graphviz\n",
        "\n",
        "max_depth = 3\n",
        "model = question_3_2(X_train, y_train, random_state, max_depth, min_samples_split)\n",
        "dot_data = export_graphviz(model, out_file=None, feature_names=X.columns, filled=True)\n",
        "\n",
        "graph = graphviz.Source(dot_data, format=\"png\")\n",
        "graph"
      ]
    },
    {
      "cell_type": "markdown",
      "id": "96aa619c",
      "metadata": {
        "id": "96aa619c"
      },
      "source": [
        "if you're interested in visualizing tree models, [`dtreeviz`](https://github.com/parrt/dtreeviz) is another cool package can help you with variety of ways to visualize the tree."
      ]
    },
    {
      "cell_type": "markdown",
      "id": "f5828683",
      "metadata": {
        "id": "f5828683"
      },
      "source": [
        "Let's say we want to make a prediction for this sample:"
      ]
    },
    {
      "cell_type": "code",
      "execution_count": null,
      "id": "a1fd715b",
      "metadata": {
        "id": "a1fd715b",
        "outputId": "5897a220-e673-4069-99f0-f8b3ff72a738",
        "colab": {
          "base_uri": "https://localhost:8080/",
          "height": 81
        }
      },
      "outputs": [
        {
          "output_type": "execute_result",
          "data": {
            "text/plain": [
              "      brand  model  year  transmission  mileage  fuelType    tax   mpg  \\\n",
              "4929      2     22  2019             3     7055         0  145.0  37.2   \n",
              "\n",
              "      engineSize  \n",
              "4929         2.0  "
            ],
            "text/html": [
              "\n",
              "  <div id=\"df-763af7b1-4e29-4e27-8de7-bf6c7cbc2b48\" class=\"colab-df-container\">\n",
              "    <div>\n",
              "<style scoped>\n",
              "    .dataframe tbody tr th:only-of-type {\n",
              "        vertical-align: middle;\n",
              "    }\n",
              "\n",
              "    .dataframe tbody tr th {\n",
              "        vertical-align: top;\n",
              "    }\n",
              "\n",
              "    .dataframe thead th {\n",
              "        text-align: right;\n",
              "    }\n",
              "</style>\n",
              "<table border=\"1\" class=\"dataframe\">\n",
              "  <thead>\n",
              "    <tr style=\"text-align: right;\">\n",
              "      <th></th>\n",
              "      <th>brand</th>\n",
              "      <th>model</th>\n",
              "      <th>year</th>\n",
              "      <th>transmission</th>\n",
              "      <th>mileage</th>\n",
              "      <th>fuelType</th>\n",
              "      <th>tax</th>\n",
              "      <th>mpg</th>\n",
              "      <th>engineSize</th>\n",
              "    </tr>\n",
              "  </thead>\n",
              "  <tbody>\n",
              "    <tr>\n",
              "      <th>4929</th>\n",
              "      <td>2</td>\n",
              "      <td>22</td>\n",
              "      <td>2019</td>\n",
              "      <td>3</td>\n",
              "      <td>7055</td>\n",
              "      <td>0</td>\n",
              "      <td>145.0</td>\n",
              "      <td>37.2</td>\n",
              "      <td>2.0</td>\n",
              "    </tr>\n",
              "  </tbody>\n",
              "</table>\n",
              "</div>\n",
              "    <div class=\"colab-df-buttons\">\n",
              "\n",
              "  <div class=\"colab-df-container\">\n",
              "    <button class=\"colab-df-convert\" onclick=\"convertToInteractive('df-763af7b1-4e29-4e27-8de7-bf6c7cbc2b48')\"\n",
              "            title=\"Convert this dataframe to an interactive table.\"\n",
              "            style=\"display:none;\">\n",
              "\n",
              "  <svg xmlns=\"http://www.w3.org/2000/svg\" height=\"24px\" viewBox=\"0 -960 960 960\">\n",
              "    <path d=\"M120-120v-720h720v720H120Zm60-500h600v-160H180v160Zm220 220h160v-160H400v160Zm0 220h160v-160H400v160ZM180-400h160v-160H180v160Zm440 0h160v-160H620v160ZM180-180h160v-160H180v160Zm440 0h160v-160H620v160Z\"/>\n",
              "  </svg>\n",
              "    </button>\n",
              "\n",
              "  <style>\n",
              "    .colab-df-container {\n",
              "      display:flex;\n",
              "      gap: 12px;\n",
              "    }\n",
              "\n",
              "    .colab-df-convert {\n",
              "      background-color: #E8F0FE;\n",
              "      border: none;\n",
              "      border-radius: 50%;\n",
              "      cursor: pointer;\n",
              "      display: none;\n",
              "      fill: #1967D2;\n",
              "      height: 32px;\n",
              "      padding: 0 0 0 0;\n",
              "      width: 32px;\n",
              "    }\n",
              "\n",
              "    .colab-df-convert:hover {\n",
              "      background-color: #E2EBFA;\n",
              "      box-shadow: 0px 1px 2px rgba(60, 64, 67, 0.3), 0px 1px 3px 1px rgba(60, 64, 67, 0.15);\n",
              "      fill: #174EA6;\n",
              "    }\n",
              "\n",
              "    .colab-df-buttons div {\n",
              "      margin-bottom: 4px;\n",
              "    }\n",
              "\n",
              "    [theme=dark] .colab-df-convert {\n",
              "      background-color: #3B4455;\n",
              "      fill: #D2E3FC;\n",
              "    }\n",
              "\n",
              "    [theme=dark] .colab-df-convert:hover {\n",
              "      background-color: #434B5C;\n",
              "      box-shadow: 0px 1px 3px 1px rgba(0, 0, 0, 0.15);\n",
              "      filter: drop-shadow(0px 1px 2px rgba(0, 0, 0, 0.3));\n",
              "      fill: #FFFFFF;\n",
              "    }\n",
              "  </style>\n",
              "\n",
              "    <script>\n",
              "      const buttonEl =\n",
              "        document.querySelector('#df-763af7b1-4e29-4e27-8de7-bf6c7cbc2b48 button.colab-df-convert');\n",
              "      buttonEl.style.display =\n",
              "        google.colab.kernel.accessAllowed ? 'block' : 'none';\n",
              "\n",
              "      async function convertToInteractive(key) {\n",
              "        const element = document.querySelector('#df-763af7b1-4e29-4e27-8de7-bf6c7cbc2b48');\n",
              "        const dataTable =\n",
              "          await google.colab.kernel.invokeFunction('convertToInteractive',\n",
              "                                                    [key], {});\n",
              "        if (!dataTable) return;\n",
              "\n",
              "        const docLinkHtml = 'Like what you see? Visit the ' +\n",
              "          '<a target=\"_blank\" href=https://colab.research.google.com/notebooks/data_table.ipynb>data table notebook</a>'\n",
              "          + ' to learn more about interactive tables.';\n",
              "        element.innerHTML = '';\n",
              "        dataTable['output_type'] = 'display_data';\n",
              "        await google.colab.output.renderOutput(dataTable, element);\n",
              "        const docLink = document.createElement('div');\n",
              "        docLink.innerHTML = docLinkHtml;\n",
              "        element.appendChild(docLink);\n",
              "      }\n",
              "    </script>\n",
              "  </div>\n",
              "\n",
              "\n",
              "    </div>\n",
              "  </div>\n"
            ],
            "application/vnd.google.colaboratory.intrinsic+json": {
              "type": "dataframe",
              "summary": "{\n  \"name\": \"X_test[13:14]\",\n  \"rows\": 1,\n  \"fields\": [\n    {\n      \"column\": \"brand\",\n      \"properties\": {\n        \"dtype\": \"number\",\n        \"std\": null,\n        \"min\": 2,\n        \"max\": 2,\n        \"num_unique_values\": 1,\n        \"samples\": [\n          2\n        ],\n        \"semantic_type\": \"\",\n        \"description\": \"\"\n      }\n    },\n    {\n      \"column\": \"model\",\n      \"properties\": {\n        \"dtype\": \"number\",\n        \"std\": null,\n        \"min\": 22,\n        \"max\": 22,\n        \"num_unique_values\": 1,\n        \"samples\": [\n          22\n        ],\n        \"semantic_type\": \"\",\n        \"description\": \"\"\n      }\n    },\n    {\n      \"column\": \"year\",\n      \"properties\": {\n        \"dtype\": \"number\",\n        \"std\": null,\n        \"min\": 2019,\n        \"max\": 2019,\n        \"num_unique_values\": 1,\n        \"samples\": [\n          2019\n        ],\n        \"semantic_type\": \"\",\n        \"description\": \"\"\n      }\n    },\n    {\n      \"column\": \"transmission\",\n      \"properties\": {\n        \"dtype\": \"number\",\n        \"std\": null,\n        \"min\": 3,\n        \"max\": 3,\n        \"num_unique_values\": 1,\n        \"samples\": [\n          3\n        ],\n        \"semantic_type\": \"\",\n        \"description\": \"\"\n      }\n    },\n    {\n      \"column\": \"mileage\",\n      \"properties\": {\n        \"dtype\": \"number\",\n        \"std\": null,\n        \"min\": 7055,\n        \"max\": 7055,\n        \"num_unique_values\": 1,\n        \"samples\": [\n          7055\n        ],\n        \"semantic_type\": \"\",\n        \"description\": \"\"\n      }\n    },\n    {\n      \"column\": \"fuelType\",\n      \"properties\": {\n        \"dtype\": \"number\",\n        \"std\": null,\n        \"min\": 0,\n        \"max\": 0,\n        \"num_unique_values\": 1,\n        \"samples\": [\n          0\n        ],\n        \"semantic_type\": \"\",\n        \"description\": \"\"\n      }\n    },\n    {\n      \"column\": \"tax\",\n      \"properties\": {\n        \"dtype\": \"number\",\n        \"std\": null,\n        \"min\": 145.0,\n        \"max\": 145.0,\n        \"num_unique_values\": 1,\n        \"samples\": [\n          145.0\n        ],\n        \"semantic_type\": \"\",\n        \"description\": \"\"\n      }\n    },\n    {\n      \"column\": \"mpg\",\n      \"properties\": {\n        \"dtype\": \"number\",\n        \"std\": null,\n        \"min\": 37.2,\n        \"max\": 37.2,\n        \"num_unique_values\": 1,\n        \"samples\": [\n          37.2\n        ],\n        \"semantic_type\": \"\",\n        \"description\": \"\"\n      }\n    },\n    {\n      \"column\": \"engineSize\",\n      \"properties\": {\n        \"dtype\": \"number\",\n        \"std\": null,\n        \"min\": 2.0,\n        \"max\": 2.0,\n        \"num_unique_values\": 1,\n        \"samples\": [\n          2.0\n        ],\n        \"semantic_type\": \"\",\n        \"description\": \"\"\n      }\n    }\n  ]\n}"
            }
          },
          "metadata": {},
          "execution_count": 42
        }
      ],
      "source": [
        "## show 1 sample\n",
        "X_test[13:14]"
      ]
    },
    {
      "cell_type": "code",
      "execution_count": null,
      "id": "609bae0b",
      "metadata": {
        "id": "609bae0b",
        "outputId": "15d5d869-b808-4df0-c7e9-5f428f4b3b01",
        "colab": {
          "base_uri": "https://localhost:8080/"
        }
      },
      "outputs": [
        {
          "output_type": "stream",
          "name": "stdout",
          "text": [
            "Actual price of the car: £30,970\n",
            "Model predicts for the car: £31,849.79\n"
          ]
        }
      ],
      "source": [
        "print(f\"Actual price of the car: £{y_test.iloc[13]:,}\")\n",
        "\n",
        "## Let's see what the model predicts for the car\n",
        "print(f\"Model predicts for the car: £{model.predict(X_test[13:14])[0]:,.2f}\")"
      ]
    },
    {
      "cell_type": "markdown",
      "id": "d8973966",
      "metadata": {
        "id": "d8973966"
      },
      "source": [
        "**Question:** Explain how the decision tree made that prediction by pointing out the path from the root to its leaf."
      ]
    },
    {
      "cell_type": "markdown",
      "id": "62665458",
      "metadata": {
        "id": "62665458"
      },
      "source": [
        "Write your answer in this block\n",
        "\n",
        "**Answer:**"
      ]
    },
    {
      "cell_type": "markdown",
      "id": "140a3d87",
      "metadata": {
        "id": "140a3d87"
      },
      "source": [
        "# **Question 4.** Boosting  (*20 total points*)"
      ]
    },
    {
      "cell_type": "markdown",
      "id": "e700cc57",
      "metadata": {
        "id": "e700cc57"
      },
      "source": [
        "Gradient boosting builds a sum of predictors using a greedy stagewise method. First, we fit a predictor to the data to obtain an initial model. Now repeat: Compute the appropriate weight at each data point; then fit a predictor using these weights; search for the best weight with which to add this predictor to the current model; and add the weighted predictor to the current model. Stop by looking at validation error. The weight is a partial derivative of the loss with respect to the predictor, evaluated at the current value of the predictor."
      ]
    },
    {
      "cell_type": "markdown",
      "id": "437c46c7",
      "metadata": {
        "id": "437c46c7"
      },
      "source": [
        "The mystic behind Boosting is in principal the same as for Random Forest models: *A bunch of weak learners which performs just slightly better than random guessing can be combined to make better predictions than one strong learner.*"
      ]
    },
    {
      "cell_type": "code",
      "execution_count": null,
      "id": "e1a356c3",
      "metadata": {
        "id": "e1a356c3",
        "outputId": "42eaed20-e2c8-4bce-e607-3fbf24ee992d",
        "colab": {
          "base_uri": "https://localhost:8080/",
          "height": 591
        }
      },
      "outputs": [
        {
          "output_type": "execute_result",
          "data": {
            "image/png": "[encoded data removed]",
            "text/plain": [
              "<IPython.core.display.Image object>"
            ]
          },
          "metadata": {},
          "execution_count": 44
        }
      ],
      "source": [
        "## The idea of gradient boosting tree\n",
        "from IPython import display\n",
        "display.Image(\"https://raw.githubusercontent.com/chaudatascience/cs599_fall2022/master/ps4/boosting2.png\")"
      ]
    },
    {
      "cell_type": "markdown",
      "id": "48a79906",
      "metadata": {
        "id": "48a79906"
      },
      "source": [
        "Different from the Random Forest approach where we created an ensemble of tree models in parallel, we now create the ensemble in sequence, where the set up of the actual tree is influenced by the outputs of all the previous tree models by altering the weights of the dataset, the tree model is built on."
      ]
    },
    {
      "cell_type": "markdown",
      "id": "3c023539",
      "metadata": {
        "id": "3c023539"
      },
      "source": [
        "There are some well-used gradient boosting tree algorithms, such as [LightGBM](https://lightgbm.readthedocs.io/en/v3.3.2/), [XGboost](https://xgboost.readthedocs.io/en/stable/), and [Catboost](https://catboost.ai/). In this section, we will get into XGboost to see how we can apply it to the used car dataset.\n",
        "\n",
        "\n",
        "[XGBoost](https://xgboost.readthedocs.io/en/stable/tutorials/model.html), which stands for Extreme Gradient Boosting, is a scalable, distributed gradient-boosted decision tree (GBDT) machine learning library. It’s a parallelized and carefully optimized version of the gradient boosting algorithm for regression, classification, and ranking problems. XGBoost is one of the go-to algorithms for tabular data due to its efficiency. Some big companies use Xgboost for their prediction models, such as Uber has been [using XGboost for arrival time predictions (ETA)](https://www.uber.com/blog/deepeta-how-uber-predicts-arrival-times/).\n",
        "\n",
        "Let's train a XGBoost on the used car dataset."
      ]
    },
    {
      "cell_type": "markdown",
      "id": "00562e9a",
      "metadata": {
        "id": "00562e9a"
      },
      "source": [
        "## **4.1 Code:** XGboost *(10 pts)*"
      ]
    },
    {
      "cell_type": "markdown",
      "id": "3c444257",
      "metadata": {
        "id": "3c444257"
      },
      "source": [
        "For this question, you can refer to the document of `XGBRegressor` [here](https://xgboost.readthedocs.io/en/stable/python/python_api.html#xgboost.XGBRegressor)"
      ]
    },
    {
      "cell_type": "code",
      "execution_count": null,
      "id": "9ac14259",
      "metadata": {
        "id": "9ac14259"
      },
      "outputs": [],
      "source": [
        "import xgboost as xgb\n",
        "\n",
        "\n",
        "def question_4_1(X_train: np.ndarray, y_train: np.ndarray, X_test: np.ndarray, y_test: np.ndarray) -> xgb.XGBRegressor:\n",
        "    \"\"\"\n",
        "        Train a XGBRegressor model on X_train, y_train\n",
        "        Return a trained xgb.XGBRegressor\n",
        "    \"\"\"\n",
        "    # Write your code in this block -----------------------------------------------------------\n",
        "\n",
        "    ## Step 1: initialize a `XGBRegressor` object, with objective='reg:squarederror' (loss function),\n",
        "    # `n_estimators` = 150 (i.e., the number of trees),  `learning_rate`=0.2 and `random_state`=2022\n",
        "\n",
        "\n",
        "\n",
        "    ## Step 2: fit the model on X_train, y_train\n",
        "    # In `fit()`, pass (X_train, y_train), (X_test, y_test) as  2 datasets for `eval_set`. You should refer to\n",
        "    # the document to see how to use `eval_set` with `fit()`\n",
        "\n",
        "\n",
        "    ## Step 3: return the trained model\n",
        "\n",
        "    # End of your code ------------------------------------------------------------------------\n",
        "\n",
        "\n",
        "### test your model\n",
        "xgb_model = question_4_1(X_train, y_train, X_test, y_test)\n",
        "train_pred = xgb_model.predict(X_train)\n",
        "test_pred = xgb_model.predict(X_test)\n",
        "print(\"Root Mean Square Error on training set:\", question_3_3(y_train, train_pred))\n",
        "print(\"Root Mean Square Error on test set:\", question_3_3(y_test, test_pred))"
      ]
    },
    {
      "cell_type": "markdown",
      "id": "01403bd3",
      "metadata": {
        "id": "01403bd3"
      },
      "source": [
        "We can observe that Xgboost perform much beter than the regression tree (lower RMSE) on this dataset."
      ]
    },
    {
      "cell_type": "markdown",
      "id": "2a83bed1",
      "metadata": {
        "id": "2a83bed1"
      },
      "source": [
        "## **4.2 Graph:** Plot train and test errors *(5 pts)*\n",
        "`XGBRegressor` objects have `.evals_result()` which stores all the training and validation losses.\n"
      ]
    },
    {
      "cell_type": "code",
      "execution_count": null,
      "id": "fff65dc9",
      "metadata": {
        "id": "fff65dc9",
        "outputId": "ea3c88f8-154c-4005-d4b8-3cd57469aea7",
        "colab": {
          "base_uri": "https://localhost:8080/"
        }
      },
      "outputs": [
        {
          "output_type": "stream",
          "name": "stdout",
          "text": [
            "dict_keys(['validation_0', 'validation_1'])\n"
          ]
        }
      ],
      "source": [
        "results = xgb_model.evals_result()\n",
        "print(results.keys())"
      ]
    },
    {
      "cell_type": "code",
      "execution_count": null,
      "id": "881f7cd9",
      "metadata": {
        "id": "881f7cd9",
        "outputId": "ec2457e9-1ecd-47c7-b5d5-0f0260db66b9",
        "colab": {
          "base_uri": "https://localhost:8080/",
          "height": 619
        }
      },
      "outputs": [
        {
          "output_type": "display_data",
          "data": {
            "text/plain": [
              "<Figure size 1000x700 with 1 Axes>"
            ],
            "image/png": "[encoded data removed]"
          },
          "metadata": {}
        }
      ],
      "source": [
        "### Generate the code to plot traning loss and validation loss from `results`\n",
        "\n",
        "def question_4_2(results: Dict) -> None:\n",
        "    # Write your code in this block -----------------------------------------------------------\n",
        "\n",
        "\n",
        "    # End of your code ------------------------------------------------------------------------\n",
        "\n",
        "\n",
        "## Test your code: You should have a similar plot as below\n",
        "# No need to be exactly the same (can be different in style, color), but MUST have legend\n",
        "# Please include the generated plot to the pdf submission file\n",
        "question_4_2(results)"
      ]
    },
    {
      "cell_type": "markdown",
      "id": "d216d4b1",
      "metadata": {
        "id": "d216d4b1"
      },
      "source": [
        "**Feature Importance**\n",
        "\n",
        "Generally, feature importance provides a score that indicates how useful or valuable each feature was in the construction of the boosting trees within the model. It gives us a general idea of which features are more importance."
      ]
    },
    {
      "cell_type": "code",
      "execution_count": null,
      "id": "9c4fa753",
      "metadata": {
        "id": "9c4fa753",
        "colab": {
          "base_uri": "https://localhost:8080/",
          "height": 489
        },
        "outputId": "f52dd837-b1c1-4bbd-c870-110f87a1e4d9"
      },
      "outputs": [
        {
          "output_type": "execute_result",
          "data": {
            "text/plain": [
              "<Axes: title={'center': 'Feature importance'}, xlabel='F score', ylabel='Features'>"
            ]
          },
          "metadata": {},
          "execution_count": 48
        },
        {
          "output_type": "display_data",
          "data": {
            "text/plain": [
              "<Figure size 640x480 with 1 Axes>"
            ],
            "image/png": "[encoded data removed]"
          },
          "metadata": {}
        }
      ],
      "source": [
        "## There are some options for `importance_type`,\n",
        "# each may return a different result for feature importance\n",
        "# you can refer to the document of XGBoost for more detail.\n",
        "xgb.plot_importance(xgb_model, importance_type='weight')"
      ]
    },
    {
      "cell_type": "markdown",
      "id": "0f89d9af",
      "metadata": {
        "id": "0f89d9af"
      },
      "source": [
        "This suggests that \"mileage\", \"model\" and \"mpg\" are the most important features for the xgboost model to predict \"price\" of a used car in the dataset."
      ]
    },
    {
      "cell_type": "markdown",
      "id": "5330190b",
      "metadata": {
        "id": "5330190b"
      },
      "source": [
        "# **Question 5.** Linear regression models (*20 total points*)"
      ]
    },
    {
      "cell_type": "markdown",
      "id": "7125e6f9",
      "metadata": {
        "id": "7125e6f9"
      },
      "source": [
        "At http://www.statsci.org/data/general/kittiwak.txt, you can find an existing dataset\n",
        "collected by D.K. Cairns in 1988 that analysed the relation between population and foraging area for seabird colonies."
      ]
    },
    {
      "cell_type": "markdown",
      "id": "634acc96",
      "metadata": {
        "id": "634acc96"
      },
      "source": [
        "We will use this dataset to fit simple regression models and analyze their performance."
      ]
    },
    {
      "cell_type": "markdown",
      "id": "2cfaeeb1",
      "metadata": {
        "id": "2cfaeeb1"
      },
      "source": [
        "## **5.1 Code:** Fitting regression model (*5 pts*)"
      ]
    },
    {
      "cell_type": "markdown",
      "id": "ea449668",
      "metadata": {
        "id": "ea449668"
      },
      "source": [
        "**Question**:  Using the 22 data points that you have to copy directly into the following code block from the website, fit a regression line for the relationship between the population size and the log area for the seabird (i.e., kittiwake) colonies. The x-axis should represent the log area, while the y-axis should show the population size.\n"
      ]
    },
    {
      "cell_type": "markdown",
      "id": "2f91800a",
      "metadata": {
        "id": "2f91800a"
      },
      "source": [
        "We will use this dataset to fit simple regression models and analyse their performance."
      ]
    },
    {
      "cell_type": "code",
      "execution_count": null,
      "id": "0dc2f1b3",
      "metadata": {
        "id": "0dc2f1b3"
      },
      "outputs": [],
      "source": [
        "from sklearn.linear_model import LinearRegression\n",
        "\n",
        "\n",
        "##Write your answer/code in this block\n",
        "# Include this part along with the generated plot in both your .py submission and .pdf submission!"
      ]
    },
    {
      "cell_type": "markdown",
      "id": "cd79f58e",
      "metadata": {
        "id": "cd79f58e"
      },
      "source": [
        "## **5.2 Short answer:** Performance Analysis *(5 pts)*"
      ]
    },
    {
      "cell_type": "markdown",
      "id": "d54ed0c9",
      "metadata": {
        "id": "d54ed0c9"
      },
      "source": [
        "**Question**: Based on your result from question 5.1 how well does your regression model explains the data? If you had a large island, to what extent would you trust the prediction\n",
        "produced by this regression? If you had a small island, would you trust the answer more? Why?"
      ]
    },
    {
      "cell_type": "markdown",
      "id": "21b6b7ad",
      "metadata": {
        "id": "21b6b7ad"
      },
      "source": [
        "Write your answer in this block\n",
        "\n",
        "**Answer:**"
      ]
    },
    {
      "cell_type": "markdown",
      "id": "395864b6",
      "metadata": {
        "id": "395864b6"
      },
      "source": [
        "## **5.3 Code:** Plotting regression model without outliers *(5 pts)*"
      ]
    },
    {
      "cell_type": "markdown",
      "id": "09e51ce5",
      "metadata": {
        "id": "09e51ce5"
      },
      "source": [
        "**Question**: Using the same 22 data points, fit a regression model while excluding the two most obvious outliers. You should includes **all 22 data points** in the final plot.\n"
      ]
    },
    {
      "cell_type": "markdown",
      "id": "b74f45b0",
      "metadata": {
        "id": "b74f45b0"
      },
      "source": [
        "You can use LinearRegression from Sklearn to fit a regression model."
      ]
    },
    {
      "cell_type": "code",
      "execution_count": null,
      "id": "530ec9d5",
      "metadata": {
        "id": "530ec9d5"
      },
      "outputs": [],
      "source": [
        "from sklearn.linear_model import LinearRegression\n",
        "\n",
        "\n",
        "##Write your answer/code in this block\n",
        "# Include this part along with the generated plot in both your .py submission and .pdf submission!"
      ]
    },
    {
      "cell_type": "markdown",
      "id": "25bf1e06",
      "metadata": {
        "id": "25bf1e06"
      },
      "source": [
        "## **5.4 Short answer:** Comparing linear regression models *(5 pts)*"
      ]
    },
    {
      "cell_type": "markdown",
      "id": "6f530628",
      "metadata": {
        "id": "6f530628"
      },
      "source": [
        "**Question**:  Compare the plots from questions 5.1 and 5.2. Based on your linear regression result from question 5.2, which excludes two likely outliers, would you trust the predictions of this regression model more? Why or why not?"
      ]
    },
    {
      "cell_type": "markdown",
      "id": "89da4888",
      "metadata": {
        "id": "89da4888"
      },
      "source": [
        "Write your answer in this block\n",
        "\n",
        "**Answer:**"
      ]
    },
    {
      "cell_type": "markdown",
      "id": "eff1e2ac",
      "metadata": {
        "id": "eff1e2ac"
      },
      "source": [
        "**Congrats! You have reached to the end of Pset3**"
      ]
    }
  ],
  "metadata": {
    "colab": {
      "provenance": []
    },
    "hide_input": false,
    "kernelspec": {
      "display_name": "Python 3 (ipykernel)",
      "language": "python",
      "name": "python3"
    },
    "language_info": {
      "codemirror_mode": {
        "name": "ipython",
        "version": 3
      },
      "file_extension": ".py",
      "mimetype": "text/x-python",
      "name": "python",
      "nbconvert_exporter": "python",
      "pygments_lexer": "ipython3",
      "version": "3.9.13"
    },
    "toc": {
      "base_numbering": 1,
      "nav_menu": {},
      "number_sections": true,
      "sideBar": true,
      "skip_h1_title": false,
      "title_cell": "Table of Contents",
      "title_sidebar": "Contents",
      "toc_cell": false,
      "toc_position": {
        "height": "calc(100% - 180px)",
        "left": "10px",
        "top": "150px",
        "width": "326.2px"
      },
      "toc_section_display": true,
      "toc_window_display": true
    }
  },
  "nbformat": 4,
  "nbformat_minor": 5
}