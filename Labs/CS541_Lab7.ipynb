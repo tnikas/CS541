{
  "cells": [
    {
      "cell_type": "markdown",
      "metadata": {
        "id": "EeyMD9MmVd9-"
      },
      "source": [
        "# CS541: Applied Machine Learning, Spring 2025, Lab 7\n",
        "\n",
        "Lab 7 is an exercise that explores Hidden Markov Models (HMMs). Hidden Markov Models is a statistical model that describes how observable events evolve based on internal factors that are not directly observable. HMMs are used to predict the results of an event based on a series of observations. They can be used tosolve real life problems ranging from something everyone thinks about at least once a week — how is the weather going to be like tomorrow? — to hard molecular biology problems, such as predicting peptide binders to the human MHC class II molecule.\n",
        "\n",
        "\n",
        "**Lab Grading**\n",
        "\n",
        "Labs are hands-on exercises designed to provide guided experience in key concepts through this class.  You are graded based on in-lab participation (not correctness), and **are required to submit** your lab work after class, before Friday of that week.  *Make sure you fill out the attendence form before leaving class*.\n",
        "\n",
        "For students who miss a lab, you can submit a make-up lab on gradescope by the Friday directly following the lab for partial credit.  Please see the syllabus for the lab grading policy."
      ]
    },
    {
      "cell_type": "code",
      "execution_count": 18,
      "metadata": {
        "colab": {
          "base_uri": "https://localhost:8080/"
        },
        "id": "uYj1NMaI-SVk",
        "outputId": "519abf61-adaa-4498-f1a4-4abe930fdf88"
      },
      "outputs": [],
      "source": [
        "import numpy as np\n",
        "\n",
        "def viterbi(obs, states, start_p, trans_p, emit_p):\n",
        "    \"\"\"\n",
        "    Args:\n",
        "    obs: The sequence of observations.\n",
        "    states: A list of possible states.\n",
        "    start_p: A dictionary of starting probabilities for each state.\n",
        "    trans_p: A dictionary of transition probabilities between states.\n",
        "    emit_p: A dictionary of emission probabilities for each state and observation.\n",
        "\n",
        "    Returns:\n",
        "    The most likely sequence of hidden states.\n",
        "    \"\"\"\n",
        "    V = [{}]\n",
        "    path = {}\n",
        "\n",
        "    # We are going to initialize the base cases (t == 0)\n",
        "    #Create a loop to iterate over the possible states\n",
        "    for y in states:\n",
        "        # Multiply the start probability at state y by the (emission probability at state y using the first observation)\n",
        "        V[0][y] = start_p[y] * emit_p[y][obs[0]]\n",
        "        # Set the path at position y to a list containing the y'th position\n",
        "        path[y] = [y]\n",
        "\n",
        "    for t in range(1, len(obs)):\n",
        "        V.append({})\n",
        "        newpath = {}\n",
        "\n",
        "        for y in states:\n",
        "            # Using the the viterbi table at position t-1 for the y'th value, we multiply this by the (transition probability at y0 for the y'th value), we multiply\n",
        "            # this by the (emission probability at state y using the t'th observation)\n",
        "            (prob, state) = max(\n",
        "                [(V[t-1][y0] * trans_p[y0][y] * emit_p[y][obs[t]], y0) for y0 in states]\n",
        "            )\n",
        "            # Set the viterbi table at row t and column y to be the max probaility we calculated above\n",
        "            V[t][y] = prob\n",
        "            #Set the new path to be the path at the max state we calculate above and then add this to the y'th state\n",
        "            newpath[y] = path[state] + [y]\n",
        "\n",
        "        path = newpath\n",
        "\n",
        "    # Get the vertibie table value at the last row and get the y'th value\n",
        "    (prob, state) = max([(V[-1][y], y) for y in states])\n",
        "    return (prob, path[state])\n",
        "\n",
        "\n",
        "\n"
      ]
    },
    {
      "cell_type": "markdown",
      "metadata": {
        "id": "bS9fg3vXGxO5"
      },
      "source": [
        "Question 1)\n",
        "\n",
        "A useful resource to check https://www.geeksforgeeks.org/hidden-markov-model-in-machine-learning/\n",
        "\n",
        "states = [Rainy, Sunny]\n",
        "\n",
        "Observations = [Walk, Shop, Clean]\n",
        "\n",
        "$\\pi$ = [Rainy, Sunny] = [0.6,0.4]\n",
        "\n",
        "\n",
        "```\n",
        "Transition Probability\n",
        "       |Rainy|Sunny\n",
        "-------|-----|----\n",
        "|Rainy |0.7  |0.3\n",
        "|Sunny |0.4  |0.6\n",
        "```\n",
        "\n",
        "\n",
        "\n",
        "```\n",
        "Emission Probability\n",
        "       Walk| Shop| Clean\n",
        "-----------|-----|------\n",
        "Rainy  0.1 | 0.4 | 0.5\n",
        "Sunny  0.6 | 0.3 |0.1\n",
        "```\n",
        "Our expected output is ['Sunny', 'Rainy', 'Rainy']"
      ]
    },
    {
      "cell_type": "code",
      "execution_count": 19,
      "metadata": {
        "colab": {
          "base_uri": "https://localhost:8080/"
        },
        "id": "Fh-2-Du4UhMv",
        "outputId": "30eea755-05fd-484a-a09b-54cf854dbc08"
      },
      "outputs": [
        {
          "name": "stdout",
          "output_type": "stream",
          "text": [
            "(0.01344, ['Sunny', 'Rainy', 'Rainy'])\n"
          ]
        }
      ],
      "source": [
        "states = (\"Rainy\", \"Sunny\")\n",
        "observations = (\"Walk\", \"Shop\", \"Clean\")\n",
        "start_probability = {'Rainy':0.6, 'Sunny':0.4}\n",
        "transition_probability = {\n",
        "   'Rainy' : {\"Rainy\":0.7, \"Sunny\":0.3},\n",
        "   'Sunny' : {\"Rainy\":0.4, \"Sunny\":0.6},\n",
        "   }\n",
        "emission_probability = {\n",
        "   'Rainy' : {\"Walk\":0.1, \"Shop\":0.4, \"Clean\":0.5},\n",
        "   'Sunny' : {\"Walk\":0.6, \"Shop\":0.3, \"Clean\":0.1},\n",
        "   }\n",
        "\n",
        "print(viterbi(observations, states, start_probability, transition_probability, emission_probability))"
      ]
    },
    {
      "cell_type": "markdown",
      "metadata": {
        "id": "xMkWtXU4Ls0-"
      },
      "source": [
        "Question 2)\n",
        "\n",
        "A useful resource to check https://www.geeksforgeeks.org/hidden-markov-model-in-machine-learning/\n",
        "\n",
        "\n",
        "states = [Sunny, Rainy]\n",
        "\n",
        "Observations = [Dry, Wet]\n",
        "\n",
        "$\\pi$ = [Sunny, Rainy] = [0.6,0.4]\n",
        "\n",
        "\n",
        "```\n",
        "Transition Probability\n",
        "       |Sunny|Rainy\n",
        "-------|-----|----\n",
        "|Sunny |0.7  |0.3\n",
        "|Rainy |0.3  |0.7\n",
        "```\n",
        "\n",
        "\n",
        "\n",
        "```\n",
        "Emission Probability\n",
        "       Dry| Wet  |\n",
        "-----------|-----|\n",
        "Sunny  0.9 | 0.1 |\n",
        "Rainy  0.2 | 0.8 |\n",
        "```\n",
        "\n",
        "Our expected output is ['Sunny', 'Rainy']\n",
        "\n",
        "Also try the observations\n",
        "Observations = [Dry, Wet, Dry, Wet, Dry Dry]\n",
        "\n",
        "Out expected output is ['Sunny', 'Rainy', 'Rainy', 'Rainy', 'Sunny', 'Sunny']"
      ]
    },
    {
      "cell_type": "code",
      "execution_count": 20,
      "metadata": {},
      "outputs": [
        {
          "name": "stdout",
          "output_type": "stream",
          "text": [
            "(0.12960000000000002, ['Sunny', 'Rainy'])\n",
            "(0.001728324864, ['Sunny', 'Rainy', 'Rainy', 'Rainy', 'Sunny', 'Sunny'])\n"
          ]
        }
      ],
      "source": [
        "states = (\"Sunny\", \"Rainy\")\n",
        "observations = (\"Dry\", \"Wet\")\n",
        "start_probability = {'Sunny': 0.6,'Rainy': 0.4}\n",
        "transition_probability = {\n",
        "    'Sunny': {\"Sunny\": 0.7, \"Rainy\": 0.3},\n",
        "    'Rainy': {\"Sunny\": 0.3, \"Rainy\": 0.7},\n",
        "}\n",
        "\n",
        "emission_probability = {\n",
        "    'Sunny': {\"Dry\": 0.9, \"Wet\": 0.1},\n",
        "    'Rainy': {\"Dry\": 0.2, \"Wet\": 0.8},\n",
        "}\n",
        "print(viterbi(observations, states, start_probability, transition_probability, emission_probability))\n",
        "observations = (\"Dry\", \"Wet\", \"Dry\", \"Wet\", \"Dry\", \"Dry\")\n",
        "print(viterbi(observations, states, start_probability, transition_probability, emission_probability))"
      ]
    },
    {
      "cell_type": "markdown",
      "metadata": {
        "id": "Cf2NP7wMPi6w"
      },
      "source": [
        "Question 3)\n",
        "\n",
        "A useful resource to check https://www.geeksforgeeks.org/hidden-markov-model-in-machine-learning/\n",
        "\n",
        "\n",
        "states = [\"Silence\", \"Word1\", \"Word2\", \"Word3\"]\n",
        "\n",
        "Observations = [\"Loud\",\"Soft\",\"Loud\",\"Loud\",\"Soft\",\"Soft\",\"Loud\",\"Soft\"]\n",
        "\n",
        "$\\pi$ = [\"Silence\", \"Word1\", \"Word2\", \"Word3\"] = [0.8,0.1,0.1,0.0]\n",
        "\n",
        "\n",
        "```\n",
        "Transition Probability\n",
        "         |Silence|Word1|Word2|Word3|\n",
        "---------|-------|-----|-----|     |\n",
        "|Silence |0.7    |0.2  |0.1  |0.0  |\n",
        "|Word1   |0.0    |0.6  |0.4  |0.0  |\n",
        "|Word2   |0.0    |0.0  |0.6  |0.4  |\n",
        "|Word3   |0.0    |0.0  |0.0  |1.0  |\n",
        "```\n",
        "\n",
        "\n",
        "\n",
        "```\n",
        "Emission Probability\n",
        "        Loud| Soft|\n",
        "------------|-----|\n",
        "Silence 0.7 | 0.3 |\n",
        "Word1   0.4 | 0.6 |\n",
        "Word2   0.6 | 0.4 |\n",
        "Word3   0.3 | 0.7 |\n",
        "```\n",
        "\n",
        "Our expected output is ['Silence', 'Word1', 'Word2', 'Word2', 'Word3', 'Word3', 'Word3', 'Word3']"
      ]
    },
    {
      "cell_type": "code",
      "execution_count": 21,
      "metadata": {},
      "outputs": [
        {
          "name": "stdout",
          "output_type": "stream",
          "text": [
            "(0.00023897825279999992, ['Silence', 'Word1', 'Word2', 'Word2', 'Word3', 'Word3', 'Word3', 'Word3'])\n"
          ]
        }
      ],
      "source": [
        "# Define the state space\n",
        "states = (\"Silence\", \"Word1\", \"Word2\", \"Word3\")\n",
        "\n",
        "# Define the observation space\n",
        "observations = (\"Loud\",\"Soft\",\"Loud\",\"Loud\",\"Soft\",\"Soft\",\"Loud\",\"Soft\")\n",
        "\n",
        "\n",
        "# Define the initial state distribution\n",
        "start_probability = {'Silence': 0.8, 'Word1': 0.1, 'Word2': 0.1, 'Word3': 0.0}\n",
        "\n",
        "# Define the state transition probabilities\n",
        "transition_probability = {\n",
        "                            'Silence':{\"Silence\":0.7, \"Word1\":0.2, \"Word2\":0.1, \"Word3\":0.0},\n",
        "                            'Word1':{\"Silence\":0.0, \"Word1\":0.6, \"Word2\":0.4, \"Word3\":0.0},\n",
        "                            'Word2':{\"Silence\":0.0, \"Word1\":0.0, \"Word2\":0.6, \"Word3\":0.4},\n",
        "                            'Word3':{\"Silence\":0.0, \"Word1\":0.0, \"Word2\":0.0, \"Word3\":1.0}\n",
        "                          }\n",
        "\n",
        "# Define the emission likelihoods\n",
        "emission_probability = {\n",
        "                          'Silence':{\"Loud\":0.7, \"Soft\":0.3},\n",
        "                          'Word1':{\"Loud\":0.4, \"Soft\":0.6},\n",
        "                          'Word2':{\"Loud\":0.6, \"Soft\":0.4},\n",
        "                          'Word3':{\"Loud\":0.3, \"Soft\":0.7}\n",
        "                        }\n",
        "\n",
        "\n",
        "print(viterbi(observations, states, start_probability, transition_probability, emission_probability))\n"
      ]
    },
    {
      "cell_type": "markdown",
      "metadata": {
        "id": "uVHtbZHITIwG"
      },
      "source": [
        "Question 4)\n",
        "\n",
        "A useful resource to check https://www.geeksforgeeks.org/hidden-markov-model-in-machine-learning/\n",
        "\n",
        "states = [tired, happy]\n",
        "\n",
        "Observations = [Ok, Fail, Perfect]\n",
        "\n",
        "$\\pi$ = [tired, happy] = [0.1,0.9]\n",
        "\n",
        "\n",
        "```\n",
        "Transition Probability\n",
        "       |tired|happy\n",
        "-------|-----|----\n",
        "|tired |0.4  |0.6\n",
        "|happy |0.2  |0.8\n",
        "```\n",
        "\n",
        "\n",
        "\n",
        "```\n",
        "Emission Probability\n",
        "        Ok|  Fail| Perfect\n",
        "-----------|-----|------\n",
        "Rainy  0.3 | 0.5 | 0.2\n",
        "Sunny  0.1 | 0.5 |0.4\n",
        "```\n",
        "\n",
        "Our expected output is: Happy, Happy, Happy"
      ]
    },
    {
      "cell_type": "code",
      "execution_count": 22,
      "metadata": {
        "colab": {
          "base_uri": "https://localhost:8080/"
        },
        "id": "csfaEKGQGSbb",
        "outputId": "d04e93df-f93d-4712-faa5-63eb15d21f54"
      },
      "outputs": [
        {
          "name": "stdout",
          "output_type": "stream",
          "text": [
            "(0.011520000000000002, ['happy', 'happy', 'happy'])\n"
          ]
        }
      ],
      "source": [
        "states = (\"tired\", \"happy\")\n",
        "observations = (\"Ok\", \"Fail\", \"Perfect\")\n",
        "start_probability = {\"tired\": 0.1, \"happy\": 0.9}\n",
        "transition_probability = {\n",
        "                            'tired':{\"tired\":0.4, \"happy\":0.6},\n",
        "                            'happy':{\"tired\":0.2, \"happy\":0.8}\n",
        "                          }\n",
        "\n",
        "emission_probability = {\n",
        "                                    'tired':{\"Ok\":0.3, \"Fail\":0.5, \"Perfect\":0.2},\n",
        "                                    'happy':{\"Ok\":0.1, \"Fail\":0.5, \"Perfect\":0.4}\n",
        "                                  }\n",
        "print(viterbi(observations, states, start_probability, transition_probability, emission_probability))"
      ]
    }
  ],
  "metadata": {
    "colab": {
      "provenance": []
    },
    "kernelspec": {
      "display_name": "Python 3",
      "name": "python3"
    },
    "language_info": {
      "codemirror_mode": {
        "name": "ipython",
        "version": 3
      },
      "file_extension": ".py",
      "mimetype": "text/x-python",
      "name": "python",
      "nbconvert_exporter": "python",
      "pygments_lexer": "ipython3",
      "version": "3.9.12"
    }
  },
  "nbformat": 4,
  "nbformat_minor": 0
}
