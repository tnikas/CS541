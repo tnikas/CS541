{
  "cells": [
    {
      "cell_type": "markdown",
      "source": [
        "# CS541: Applied Machine Learning, Spring 2025, Lab 8\n",
        "\n",
        "Lab 8 is an exercise that explores Convolutional Neural Networks (CNNs). Convolutional Neural Network (CNN) is the extended version of artificial neural networks (ANN) which is predominantly used to extract the feature from the grid-like matrix dataset. For example visual datasets like images or videos where data patterns play an extensive role. They utilize layers like convolutional layers, transposed convolution layers and pooling layers. They can perform tasks such as semantic segmentation, instance segmentation, image classification and detection and to name a few.\n",
        "\n",
        "**Lab Grading**\n",
        "\n",
        "Labs are hands-on exercises designed to provide guided experience in key concepts through this class.  You are graded based on in-lab participation (not correctness), and **are required to submit** your lab work after class, before Friday of that week.  *Make sure you fill out the attendence form before leaving class*.\n",
        "\n",
        "For students who miss a lab, you can submit a make-up lab on gradescope by the Friday directly following the lab for partial credit.  Please see the syllabus for the lab grading policy."
      ],
      "metadata": {
        "id": "k-vXIF8DpQIj"
      }
    },
    {
      "cell_type": "code",
      "execution_count": null,
      "metadata": {
        "id": "I2fo-Vyv1Ycg",
        "outputId": "e3af5bee-ff97-4af7-c106-1b7290b5be5a"
      },
      "outputs": [
        {
          "name": "stderr",
          "output_type": "stream",
          "text": [
            "/projectnb/ivc-ml/kmn5409/environments/sem/lib/python3.8/site-packages/tqdm/auto.py:21: TqdmWarning: IProgress not found. Please update jupyter and ipywidgets. See https://ipywidgets.readthedocs.io/en/stable/user_install.html\n",
            "  from .autonotebook import tqdm as notebook_tqdm\n"
          ]
        }
      ],
      "source": [
        "import numpy as np\n",
        "import torch\n",
        "import torch.nn as nn\n",
        "import torch.optim as optim\n",
        "import torchvision\n",
        "import torchvision.transforms as transforms\n",
        "import matplotlib.pyplot as plt\n",
        "import tqdm\n",
        "import time\n",
        "\n",
        "import torchvision.models as models # contains a lot of pretrained models you can use.\n",
        "# https://pytorch.org/vision/stable/models.html\n",
        "\n",
        "from torchvision.models import resnet50, ResNet50_Weights, resnet18, ResNet18_Weights"
      ]
    },
    {
      "cell_type": "code",
      "execution_count": null,
      "metadata": {
        "colab": {
          "base_uri": "https://localhost:8080/"
        },
        "id": "GFq-2PeDuwGS",
        "outputId": "ac65cb89-13ae-4078-9d86-8e545b5621e8",
        "scrolled": true
      },
      "outputs": [
        {
          "name": "stdout",
          "output_type": "stream",
          "text": [
            "Package                       Version\n",
            "----------------------------- ------------------\n",
            "absl-py                       2.1.0\n",
            "accelerate                    0.23.0\n",
            "aiofiles                      23.2.1\n",
            "altair                        5.2.0\n",
            "antlr4-python3-runtime        4.9.3\n",
            "anyio                         4.2.0\n",
            "appdirs                       1.4.4\n",
            "argon2-cffi                   23.1.0\n",
            "argon2-cffi-bindings          21.2.0\n",
            "arrow                         1.3.0\n",
            "asttokens                     2.4.1\n",
            "async-lru                     2.0.4\n",
            "attrs                         23.2.0\n",
            "babel                         2.16.0\n",
            "backcall                      0.2.0\n",
            "beautifulsoup4                4.12.3\n",
            "black                         21.4b2\n",
            "bleach                        6.1.0\n",
            "cachetools                    5.3.2\n",
            "certifi                       2024.2.2\n",
            "cffi                          1.17.1\n",
            "charset-normalizer            3.3.2\n",
            "cityscapesScripts             2.2.2\n",
            "click                         8.1.7\n",
            "cloudpickle                   3.0.0\n",
            "coloredlogs                   15.0.1\n",
            "comm                          0.2.2\n",
            "contourpy                     1.1.1\n",
            "cycler                        0.12.1\n",
            "Cython                        3.0.2\n",
            "debugpy                       1.8.7\n",
            "decorator                     5.1.1\n",
            "deepspeed                     0.10.3\n",
            "defusedxml                    0.7.1\n",
            "detectron2                    0.6\n",
            "diffdist                      0.1\n",
            "docker-pycreds                0.4.0\n",
            "einops                        0.7.0\n",
            "exceptiongroup                1.2.0\n",
            "executing                     2.1.0\n",
            "fastapi                       0.109.2\n",
            "fastjsonschema                2.20.0\n",
            "ffmpeg                        1.4\n",
            "ffmpy                         0.3.1\n",
            "filelock                      3.13.1\n",
            "fonttools                     4.48.1\n",
            "fqdn                          1.5.1\n",
            "fsspec                        2024.2.0\n",
            "ftfy                          6.1.1\n",
            "future                        0.18.3\n",
            "fvcore                        0.1.5.post20221221\n",
            "gitdb                         4.0.11\n",
            "GitPython                     3.1.41\n",
            "google-auth                   2.27.0\n",
            "google-auth-oauthlib          1.0.0\n",
            "gradio                        3.42.0\n",
            "gradio_client                 0.5.0\n",
            "grpcio                        1.60.1\n",
            "h11                           0.14.0\n",
            "hjson                         3.1.0\n",
            "httpcore                      1.0.2\n",
            "httpx                         0.26.0\n",
            "huggingface-hub               0.17.3\n",
            "humanfriendly                 10.0\n",
            "hydra-core                    1.3.2\n",
            "idna                          3.6\n",
            "imageio                       2.33.1\n",
            "importlib-metadata            7.0.1\n",
            "importlib-resources           6.1.1\n",
            "infinibatch                   0.1.1\n",
            "iopath                        0.1.9\n",
            "ipykernel                     6.29.5\n",
            "ipython                       8.12.3\n",
            "isoduration                   20.11.0\n",
            "jedi                          0.19.1\n",
            "Jinja2                        3.1.3\n",
            "joblib                        1.3.2\n",
            "json-tricks                   3.17.3\n",
            "json5                         0.9.25\n",
            "jsonpointer                   3.0.0\n",
            "jsonschema                    4.21.1\n",
            "jsonschema-specifications     2023.12.1\n",
            "jupyter_client                8.6.3\n",
            "jupyter_core                  5.7.2\n",
            "jupyter-events                0.10.0\n",
            "jupyter-lsp                   2.2.5\n",
            "jupyter_server                2.14.2\n",
            "jupyter_server_terminals      0.5.3\n",
            "jupyterlab                    4.2.5\n",
            "jupyterlab_pygments           0.3.0\n",
            "jupyterlab_server             2.27.3\n",
            "kiwisolver                    1.4.5\n",
            "kornia                        0.7.0\n",
            "lazy_loader                   0.3\n",
            "llvmlite                      0.41.1\n",
            "Markdown                      3.5.2\n",
            "MarkupSafe                    2.1.5\n",
            "matplotlib                    3.7.4\n",
            "matplotlib-inline             0.1.7\n",
            "mistune                       3.0.2\n",
            "more-itertools                10.2.0\n",
            "mpi4py                        3.1.5\n",
            "mpmath                        1.3.0\n",
            "MultiScaleDeformableAttention 1.0\n",
            "mup                           1.0.0\n",
            "mypy-extensions               1.0.0\n",
            "nbclient                      0.10.0\n",
            "nbconvert                     7.16.4\n",
            "nbformat                      5.10.4\n",
            "nest-asyncio                  1.6.0\n",
            "networkx                      3.1\n",
            "ninja                         1.11.1.1\n",
            "nltk                          3.8.1\n",
            "notebook                      7.2.2\n",
            "notebook_shim                 0.2.4\n",
            "numba                         0.58.1\n",
            "numpy                         1.23.1\n",
            "nvidia-cublas-cu11            11.10.3.66\n",
            "nvidia-cublas-cu12            12.1.3.1\n",
            "nvidia-cuda-cupti-cu12        12.1.105\n",
            "nvidia-cuda-nvrtc-cu11        11.7.99\n",
            "nvidia-cuda-nvrtc-cu12        12.1.105\n",
            "nvidia-cuda-runtime-cu11      11.7.99\n",
            "nvidia-cuda-runtime-cu12      12.1.105\n",
            "nvidia-cudnn-cu11             8.5.0.96\n",
            "nvidia-cudnn-cu12             8.9.2.26\n",
            "nvidia-cufft-cu12             11.0.2.54\n",
            "nvidia-curand-cu12            10.3.2.106\n",
            "nvidia-cusolver-cu12          11.4.5.107\n",
            "nvidia-cusparse-cu12          12.1.0.106\n",
            "nvidia-nccl-cu12              2.18.1\n",
            "nvidia-nvjitlink-cu12         12.3.101\n",
            "nvidia-nvtx-cu12              12.1.105\n",
            "oauthlib                      3.2.2\n",
            "omegaconf                     2.3.0\n",
            "openai-whisper                20231117\n",
            "opencv-python                 4.8.1.78\n",
            "orjson                        3.9.13\n",
            "overrides                     7.7.0\n",
            "packaging                     23.2\n",
            "pandas                        2.0.3\n",
            "pandocfilters                 1.5.1\n",
            "parso                         0.8.4\n",
            "pathspec                      0.12.1\n",
            "pathtools                     0.1.2\n",
            "pexpect                       4.9.0\n",
            "pickleshare                   0.7.5\n",
            "Pillow                        9.4.0\n",
            "pip                           23.3.1\n",
            "pkgutil_resolve_name          1.3.10\n",
            "platformdirs                  4.3.6\n",
            "portalocker                   2.8.2\n",
            "prometheus_client             0.21.0\n",
            "prompt_toolkit                3.0.48\n",
            "protobuf                      4.25.2\n",
            "psutil                        5.9.8\n",
            "ptyprocess                    0.7.0\n",
            "pure_eval                     0.2.3\n",
            "py-cpuinfo                    9.0.0\n",
            "pyarrow                       13.0.0\n",
            "pyasn1                        0.5.1\n",
            "pyasn1-modules                0.3.0\n",
            "pycocotools                   2.0.7\n",
            "pycparser                     2.22\n",
            "pydantic                      1.10.14\n",
            "pydot                         2.0.0\n",
            "pydub                         0.25.1\n",
            "Pygments                      2.18.0\n",
            "pyparsing                     3.1.1\n",
            "pyquaternion                  0.9.9\n",
            "python-dateutil               2.8.2\n",
            "python-json-logger            2.0.7\n",
            "python-multipart              0.0.9\n",
            "pytz                          2024.1\n",
            "PyWavelets                    1.4.1\n",
            "PyYAML                        6.0.1\n",
            "pyzmq                         26.2.0\n",
            "referencing                   0.33.0\n",
            "regex                         2023.10.3\n",
            "requests                      2.31.0\n",
            "requests-oauthlib             1.3.1\n",
            "rfc3339-validator             0.1.4\n",
            "rfc3986-validator             0.1.1\n",
            "rpds-py                       0.17.1\n",
            "rsa                           4.9\n",
            "safetensors                   0.4.2\n",
            "scikit-image                  0.21.0\n",
            "scikit-learn                  1.3.1\n",
            "scipy                         1.10.1\n",
            "seaborn                       0.13.2\n",
            "semantic-version              2.10.0\n",
            "Send2Trash                    1.8.3\n",
            "sentencepiece                 0.1.99\n",
            "sentry-sdk                    1.40.3\n",
            "setproctitle                  1.3.3\n",
            "setuptools                    68.2.2\n",
            "Shapely                       1.8.0\n",
            "six                           1.16.0\n",
            "smmap                         5.0.1\n",
            "sniffio                       1.3.0\n",
            "soupsieve                     2.6\n",
            "stack-data                    0.6.3\n",
            "starlette                     0.36.3\n",
            "sympy                         1.12\n",
            "tabulate                      0.9.0\n",
            "tenacity                      8.2.3\n",
            "tensorboard                   2.14.0\n",
            "tensorboard-data-server       0.7.2\n",
            "termcolor                     2.4.0\n",
            "terminado                     0.18.1\n",
            "threadpoolctl                 3.2.0\n",
            "tifffile                      2023.7.10\n",
            "tiktoken                      0.6.0\n",
            "timm                          0.4.12\n",
            "tinycss2                      1.4.0\n",
            "tokenizers                    0.14.1\n",
            "toml                          0.10.2\n",
            "tomli                         2.0.2\n",
            "toolz                         0.12.1\n",
            "torch                         2.1.0\n",
            "torchinfo                     1.8.0\n",
            "torchsummary                  1.5.1\n",
            "torchvision                   0.16.0\n",
            "tornado                       6.4.1\n",
            "tqdm                          4.66.1\n",
            "traitlets                     5.14.3\n",
            "transformers                  4.34.0\n",
            "triton                        2.1.0\n",
            "types-python-dateutil         2.9.0.20241003\n",
            "typing                        3.7.4.3\n",
            "typing_extensions             4.9.0\n",
            "tzdata                        2023.4\n",
            "uri-template                  1.3.0\n",
            "urllib3                       2.2.0\n",
            "uvicorn                       0.27.1\n",
            "vision-datasets               0.2.2\n",
            "wandb                         0.15.12\n",
            "wcwidth                       0.2.13\n",
            "webcolors                     24.8.0\n",
            "webencodings                  0.5.1\n",
            "websocket-client              1.8.0\n",
            "websockets                    11.0.3\n",
            "Werkzeug                      3.0.1\n",
            "wheel                         0.41.2\n",
            "yacs                          0.1.8\n",
            "zipp                          3.17.0\n"
          ]
        }
      ],
      "source": [
        "!pip list"
      ]
    },
    {
      "cell_type": "code",
      "execution_count": null,
      "metadata": {
        "colab": {
          "base_uri": "https://localhost:8080/"
        },
        "id": "COD1J-Ha76bB",
        "outputId": "8e255a14-3948-42fd-90d4-c947f62e0b5e"
      },
      "outputs": [
        {
          "name": "stdout",
          "output_type": "stream",
          "text": [
            "Files already downloaded and verified\n",
            "Files already downloaded and verified\n"
          ]
        }
      ],
      "source": [
        "device = torch.device('cuda:0' if torch.cuda.is_available() else 'cpu')\n",
        "# Load the CIFAR-10 dataset\n",
        "transform = transforms.Compose([\n",
        "    transforms.ToTensor(),\n",
        "    transforms.Normalize((0.5, 0.5, 0.5), (0.5, 0.5, 0.5)),\n",
        "])\n",
        "\n",
        "trainset = torchvision.datasets.CIFAR10(root='./data', train=True,\n",
        "                                       download=True, transform=transform)\n",
        "\n",
        "trainloader = torch.utils.data.DataLoader(trainset, batch_size=4,\n",
        "                                         shuffle=False, num_workers=2)\n",
        "\n",
        "\n",
        "\n",
        "testset = torchvision.datasets.CIFAR10(root='./data', train=False,\n",
        "                                       download=True, transform=transform)\n",
        "\n",
        "testloader = torch.utils.data.DataLoader(testset, batch_size=4,\n",
        "                                         shuffle=False, num_workers=2)\n"
      ]
    },
    {
      "cell_type": "code",
      "execution_count": null,
      "metadata": {
        "colab": {
          "base_uri": "https://localhost:8080/",
          "height": 356
        },
        "id": "14w8MpcfAgMa",
        "outputId": "41450376-8fc7-4a9c-81b6-33c756c8d168",
        "scrolled": true
      },
      "outputs": [
        {
          "name": "stderr",
          "output_type": "stream",
          "text": [
            "2066it [00:03, 588.29it/s]"
          ]
        },
        {
          "name": "stdout",
          "output_type": "stream",
          "text": [
            "[1,  2000] loss: 2.032\n"
          ]
        },
        {
          "name": "stderr",
          "output_type": "stream",
          "text": [
            "4074it [00:07, 558.67it/s]"
          ]
        },
        {
          "name": "stdout",
          "output_type": "stream",
          "text": [
            "[1,  4000] loss: 1.863\n"
          ]
        },
        {
          "name": "stderr",
          "output_type": "stream",
          "text": [
            "6113it [00:10, 568.19it/s]"
          ]
        },
        {
          "name": "stdout",
          "output_type": "stream",
          "text": [
            "[1,  6000] loss: 1.751\n"
          ]
        },
        {
          "name": "stderr",
          "output_type": "stream",
          "text": [
            "8065it [00:14, 605.74it/s]"
          ]
        },
        {
          "name": "stdout",
          "output_type": "stream",
          "text": [
            "[1,  8000] loss: 1.670\n"
          ]
        },
        {
          "name": "stderr",
          "output_type": "stream",
          "text": [
            "10077it [00:17, 632.92it/s]"
          ]
        },
        {
          "name": "stdout",
          "output_type": "stream",
          "text": [
            "[1, 10000] loss: 1.616\n"
          ]
        },
        {
          "name": "stderr",
          "output_type": "stream",
          "text": [
            "12089it [00:20, 609.56it/s]"
          ]
        },
        {
          "name": "stdout",
          "output_type": "stream",
          "text": [
            "[1, 12000] loss: 1.559\n"
          ]
        },
        {
          "name": "stderr",
          "output_type": "stream",
          "text": [
            "12500it [00:21, 585.83it/s]\n"
          ]
        },
        {
          "name": "stdout",
          "output_type": "stream",
          "text": [
            "Accuracy of the network on the 10000 test images: 47.49%\n",
            "Avg time taken for prediction: 0.00028611249923706053\n"
          ]
        }
      ],
      "source": [
        "\n",
        "# Define a simple CNN architecture\n",
        "class SimpleCNN(nn.Module):\n",
        "    def __init__(self):\n",
        "        super(SimpleCNN, self).__init__()\n",
        "        self.conv1 = nn.Conv2d(3, 10, 7, padding=\"same\") # inchannel, outchannel, kernel size\n",
        "        self.pool = nn.MaxPool2d(2, 2)\n",
        "        self.fc3 = nn.Linear(2560, 10)  # Adjust the output classes accordingly\n",
        "\n",
        "    def forward(self, x):\n",
        "        x = self.pool(torch.relu(self.conv1(x))) # this is a square output\n",
        "        x = x.view(x.shape[0], -1)  # Adjust the feature map size accordingly\n",
        "        x = self.fc3(x)\n",
        "        return x\n",
        "\n",
        "# Initialize the network\n",
        "net = SimpleCNN().to(device)\n",
        "\n",
        "# Define the loss function and optimizer, we don't use momentum here\n",
        "criterion = nn.CrossEntropyLoss()\n",
        "optimizer = optim.SGD(net.parameters(), lr=0.001, momentum=0)\n",
        "\n",
        "# Training the network\n",
        "for epoch in range(1):  # loop over the dataset multiple times\n",
        "\n",
        "    running_loss = 0.0\n",
        "    for i, data in tqdm.tqdm(enumerate(trainloader, 0)):\n",
        "        # get the inputs\n",
        "        inputs, labels = data\n",
        "        # zero the parameter gradients\n",
        "        optimizer.zero_grad()\n",
        "\n",
        "        # forward + backward + optimize\n",
        "        outputs = net(inputs.to(device))\n",
        "        loss = criterion(outputs, labels.to(device))\n",
        "        loss.backward()\n",
        "        optimizer.step()\n",
        "\n",
        "        # print statistics\n",
        "        running_loss += loss.item()\n",
        "        if i % 2000 == 1999:  # print every 2000 mini-batches\n",
        "            print('[%d, %5d] loss: %.3f' %\n",
        "                  (epoch + 1, i + 1, running_loss / 2000))\n",
        "            running_loss = 0.0\n",
        "\n",
        "correct = 0\n",
        "total = 0\n",
        "avg_time = []\n",
        "for data in testloader:\n",
        "    images, labels = data\n",
        "    start = time.time()\n",
        "    outputs = net(images.to(device))\n",
        "    _, predicted = torch.max(outputs.data, 1)\n",
        "    end = time.time()\n",
        "    total += labels.size(0)\n",
        "    correct += (predicted.cpu() == labels).sum().item()\n",
        "    time_taken = end - start\n",
        "    avg_time.append(time_taken)\n",
        "\n",
        "print(f\"Accuracy of the network on the 10000 test images: {100 * correct / total}%\")\n",
        "print(f\"Avg time taken for prediction: {np.average(avg_time)}\")"
      ]
    },
    {
      "cell_type": "markdown",
      "source": [
        "### Here we want to add momentum for our Optimizer and we can we it helps our classification results"
      ],
      "metadata": {
        "id": "aDR29xzLsbuL"
      }
    },
    {
      "cell_type": "code",
      "execution_count": null,
      "metadata": {
        "id": "rpbW3BBFpGMC",
        "outputId": "b06a544b-56cc-4f68-d843-7dda0530bfe6"
      },
      "outputs": [
        {
          "name": "stderr",
          "output_type": "stream",
          "text": [
            "2097it [00:03, 594.43it/s]"
          ]
        },
        {
          "name": "stdout",
          "output_type": "stream",
          "text": [
            "[1,  2000] loss: 1.796\n"
          ]
        },
        {
          "name": "stderr",
          "output_type": "stream",
          "text": [
            "4104it [00:07, 583.77it/s]"
          ]
        },
        {
          "name": "stdout",
          "output_type": "stream",
          "text": [
            "[1,  4000] loss: 1.565\n"
          ]
        },
        {
          "name": "stderr",
          "output_type": "stream",
          "text": [
            "6113it [00:10, 585.84it/s]"
          ]
        },
        {
          "name": "stdout",
          "output_type": "stream",
          "text": [
            "[1,  6000] loss: 1.465\n"
          ]
        },
        {
          "name": "stderr",
          "output_type": "stream",
          "text": [
            "8089it [00:13, 587.41it/s]"
          ]
        },
        {
          "name": "stdout",
          "output_type": "stream",
          "text": [
            "[1,  8000] loss: 1.391\n"
          ]
        },
        {
          "name": "stderr",
          "output_type": "stream",
          "text": [
            "10106it [00:17, 588.88it/s]"
          ]
        },
        {
          "name": "stdout",
          "output_type": "stream",
          "text": [
            "[1, 10000] loss: 1.408\n"
          ]
        },
        {
          "name": "stderr",
          "output_type": "stream",
          "text": [
            "12066it [00:20, 587.02it/s]"
          ]
        },
        {
          "name": "stdout",
          "output_type": "stream",
          "text": [
            "[1, 12000] loss: 1.374\n"
          ]
        },
        {
          "name": "stderr",
          "output_type": "stream",
          "text": [
            "12500it [00:21, 583.34it/s]\n"
          ]
        },
        {
          "name": "stdout",
          "output_type": "stream",
          "text": [
            "Accuracy of the network on the 10000 test images: 54.61%\n",
            "Avg time taken for prediction: 0.0002834988594055176\n"
          ]
        }
      ],
      "source": [
        "# Initialize the network\n",
        "net = SimpleCNN().to(device)\n",
        "\n",
        "# Define the loss function and optimizer\n",
        "criterion = nn.CrossEntropyLoss()\n",
        "optimizer = optim.SGD(net.parameters(), lr=0.001, momentum=0.9)\n",
        "\n",
        "# Training the network\n",
        "for epoch in range(1):  # loop over the dataset multiple times\n",
        "\n",
        "    running_loss = 0.0\n",
        "    for i, data in tqdm.tqdm(enumerate(trainloader, 0)):\n",
        "        # get the inputs\n",
        "        inputs, labels = data\n",
        "        # zero the parameter gradients\n",
        "        optimizer.zero_grad()\n",
        "\n",
        "        # forward + backward + optimize\n",
        "        outputs = net(inputs.to(device))\n",
        "        loss = criterion(outputs, labels.to(device))\n",
        "        loss.backward()\n",
        "        optimizer.step()\n",
        "\n",
        "        # print statistics\n",
        "        running_loss += loss.item()\n",
        "        if i % 2000 == 1999:  # print every 2000 mini-batches\n",
        "            print('[%d, %5d] loss: %.3f' %\n",
        "                  (epoch + 1, i + 1, running_loss / 2000))\n",
        "            running_loss = 0.0\n",
        "\n",
        "correct = 0\n",
        "total = 0\n",
        "avg_time = []\n",
        "for data in testloader:\n",
        "    images, labels = data\n",
        "    start = time.time()\n",
        "    outputs = net(images.to(device))\n",
        "    _, predicted = torch.max(outputs.data, 1)\n",
        "    end = time.time()\n",
        "    total += labels.size(0)\n",
        "    correct += (predicted.cpu() == labels).sum().item()\n",
        "    time_taken = end - start\n",
        "    avg_time.append(time_taken)\n",
        "\n",
        "print(f\"Accuracy of the network on the 10000 test images: {100 * correct / total}%\")\n",
        "print(f\"Avg time taken for prediction: {np.average(avg_time)}\")"
      ]
    },
    {
      "cell_type": "markdown",
      "metadata": {
        "id": "QXGDzrMjCBKK"
      },
      "source": [
        "## Let's visualize what the filters are learning for our task:"
      ]
    },
    {
      "cell_type": "code",
      "execution_count": null,
      "metadata": {
        "id": "9Xk22ots0mUx",
        "outputId": "52ce9e4b-a558-4a91-cf31-395f7097821b"
      },
      "outputs": [
        {
          "name": "stdout",
          "output_type": "stream",
          "text": [
            "conv1.weight\n"
          ]
        },
        {
          "data": {
            "image/png": "[encoded data removed]",
            "text/plain": [
              "<Figure size 40x40 with 1 Axes>"
            ]
          },
          "metadata": {},
          "output_type": "display_data"
        },
        {
          "data": {
            "image/png": "[encoded data removed]",
            "text/plain": [
              "<Figure size 40x40 with 1 Axes>"
            ]
          },
          "metadata": {},
          "output_type": "display_data"
        },
        {
          "data": {
            "image/png": "[encoded data removed]",
            "text/plain": [
              "<Figure size 40x40 with 1 Axes>"
            ]
          },
          "metadata": {},
          "output_type": "display_data"
        },
        {
          "data": {
            "image/png": "[encoded data removed]",
            "text/plain": [
              "<Figure size 40x40 with 1 Axes>"
            ]
          },
          "metadata": {},
          "output_type": "display_data"
        },
        {
          "data": {
            "image/png": "[encoded data removed]",
            "text/plain": [
              "<Figure size 40x40 with 1 Axes>"
            ]
          },
          "metadata": {},
          "output_type": "display_data"
        },
        {
          "data": {
            "image/png": "[encoded data removed]",
            "text/plain": [
              "<Figure size 40x40 with 1 Axes>"
            ]
          },
          "metadata": {},
          "output_type": "display_data"
        },
        {
          "data": {
            "image/png": "[encoded data removed]",
            "text/plain": [
              "<Figure size 40x40 with 1 Axes>"
            ]
          },
          "metadata": {},
          "output_type": "display_data"
        },
        {
          "data": {
            "image/png": "[encoded data removed]",
            "text/plain": [
              "<Figure size 40x40 with 1 Axes>"
            ]
          },
          "metadata": {},
          "output_type": "display_data"
        },
        {
          "data": {
            "image/png": "[encoded data removed]",
            "text/plain": [
              "<Figure size 40x40 with 1 Axes>"
            ]
          },
          "metadata": {},
          "output_type": "display_data"
        },
        {
          "data": {
            "image/png": "[encoded data removed]",
            "text/plain": [
              "<Figure size 40x40 with 1 Axes>"
            ]
          },
          "metadata": {},
          "output_type": "display_data"
        },
        {
          "data": {
            "image/png": "[encoded data removed]",
            "text/plain": [
              "<Figure size 40x40 with 1 Axes>"
            ]
          },
          "metadata": {},
          "output_type": "display_data"
        },
        {
          "data": {
            "image/png": "[encoded data removed]",
            "text/plain": [
              "<Figure size 40x40 with 1 Axes>"
            ]
          },
          "metadata": {},
          "output_type": "display_data"
        },
        {
          "data": {
            "image/png": "[encoded data removed]",
            "text/plain": [
              "<Figure size 40x40 with 1 Axes>"
            ]
          },
          "metadata": {},
          "output_type": "display_data"
        },
        {
          "data": {
            "image/png": "[encoded data removed]",
            "text/plain": [
              "<Figure size 40x40 with 1 Axes>"
            ]
          },
          "metadata": {},
          "output_type": "display_data"
        },
        {
          "data": {
            "image/png": "[encoded data removed]",
            "text/plain": [
              "<Figure size 40x40 with 1 Axes>"
            ]
          },
          "metadata": {},
          "output_type": "display_data"
        },
        {
          "data": {
            "image/png": "[encoded data removed]",
            "text/plain": [
              "<Figure size 40x40 with 1 Axes>"
            ]
          },
          "metadata": {},
          "output_type": "display_data"
        },
        {
          "data": {
            "image/png": "[encoded data removed]",
            "text/plain": [
              "<Figure size 40x40 with 1 Axes>"
            ]
          },
          "metadata": {},
          "output_type": "display_data"
        },
        {
          "data": {
            "image/png": "[encoded data removed]",
            "text/plain": [
              "<Figure size 40x40 with 1 Axes>"
            ]
          },
          "metadata": {},
          "output_type": "display_data"
        },
        {
          "data": {
            "image/png": "[encoded data removed]",
            "text/plain": [
              "<Figure size 40x40 with 1 Axes>"
            ]
          },
          "metadata": {},
          "output_type": "display_data"
        },
        {
          "data": {
            "image/png": "[encoded data removed]",
            "text/plain": [
              "<Figure size 40x40 with 1 Axes>"
            ]
          },
          "metadata": {},
          "output_type": "display_data"
        },
        {
          "data": {
            "image/png": "[encoded data removed]",
            "text/plain": [
              "<Figure size 40x40 with 1 Axes>"
            ]
          },
          "metadata": {},
          "output_type": "display_data"
        },
        {
          "data": {
            "image/png": "[encoded data removed]",
            "text/plain": [
              "<Figure size 40x40 with 1 Axes>"
            ]
          },
          "metadata": {},
          "output_type": "display_data"
        },
        {
          "data": {
            "image/png": "[encoded data removed]",
            "text/plain": [
              "<Figure size 40x40 with 1 Axes>"
            ]
          },
          "metadata": {},
          "output_type": "display_data"
        },
        {
          "data": {
            "image/png": "[encoded data removed]",
            "text/plain": [
              "<Figure size 40x40 with 1 Axes>"
            ]
          },
          "metadata": {},
          "output_type": "display_data"
        },
        {
          "data": {
            "image/png": "[encoded data removed]",
            "text/plain": [
              "<Figure size 40x40 with 1 Axes>"
            ]
          },
          "metadata": {},
          "output_type": "display_data"
        },
        {
          "data": {
            "image/png": "[encoded data removed]",
            "text/plain": [
              "<Figure size 40x40 with 1 Axes>"
            ]
          },
          "metadata": {},
          "output_type": "display_data"
        },
        {
          "data": {
            "image/png": "[encoded data removed]",
            "text/plain": [
              "<Figure size 40x40 with 1 Axes>"
            ]
          },
          "metadata": {},
          "output_type": "display_data"
        },
        {
          "data": {
            "image/png": "[encoded data removed]",
            "text/plain": [
              "<Figure size 40x40 with 1 Axes>"
            ]
          },
          "metadata": {},
          "output_type": "display_data"
        },
        {
          "data": {
            "image/png": "[encoded data removed]",
            "text/plain": [
              "<Figure size 40x40 with 1 Axes>"
            ]
          },
          "metadata": {},
          "output_type": "display_data"
        },
        {
          "data": {
            "image/png": "[encoded data removed]",
            "text/plain": [
              "<Figure size 40x40 with 1 Axes>"
            ]
          },
          "metadata": {},
          "output_type": "display_data"
        }
      ],
      "source": [
        "# Visualize weights as images\n",
        "def imshow(img):\n",
        "    plt.figure(figsize=(0.4, 0.4))\n",
        "    plt.imshow(img, cmap=\"gray\")\n",
        "    plt.axis('off')\n",
        "    plt.show()\n",
        "\n",
        "# Get the weights\n",
        "for name, param in net.named_parameters():\n",
        "    if 'weight' in name:\n",
        "        weights = param.data.cpu()\n",
        "        # Visualize the weights as images\n",
        "        if len(weights.size()) == 4:  # Convolutional layer\n",
        "            print(name)\n",
        "            for i in range(weights.size(0)):\n",
        "                for j in range(weights.size(1)):\n",
        "                  imshow(weights[i,j])\n",
        "\n"
      ]
    },
    {
      "cell_type": "markdown",
      "metadata": {
        "id": "N0_AEkXpmXpk"
      },
      "source": []
    },
    {
      "cell_type": "markdown",
      "metadata": {
        "id": "h5dgJ3hAtE7Z"
      },
      "source": [
        "## Let's play with some common pretrained deep nets"
      ]
    },
    {
      "cell_type": "markdown",
      "metadata": {
        "id": "04DzkLKq1EaE"
      },
      "source": [
        "Resnets are a class of famous conv nets that worked accurately on a range os classification tasks.\n",
        "\n",
        "The key idea in resnet's was residual connections that enabled training of very deep networks.\n",
        "\n",
        "We shall see how the deeper a network, the better the accuracy at the cost of computation.\n",
        "\n",
        "A common theme in the 2016-18 times was to use pretrained features from Renset for various custom tasks on custom datasets.\n",
        "\n",
        "Your challenge would be to extract the last layer features from the resnet and train it on CIFAR 10 to improve performance."
      ]
    },
    {
      "cell_type": "markdown",
      "metadata": {
        "id": "9JMnf8_6zCKs"
      },
      "source": [
        "### Pretrained models are trained with a specific image preprocessing.\n",
        "\n",
        "Hence, we must take care to preprocess the image the same way.\n",
        "\n"
      ]
    },
    {
      "cell_type": "code",
      "execution_count": null,
      "metadata": {
        "id": "CCtbIju2pGMF",
        "outputId": "81a8d050-663d-434d-91f7-b72412df9cd8"
      },
      "outputs": [
        {
          "name": "stderr",
          "output_type": "stream",
          "text": [
            "/projectnb/ivc-ml/kmn5409/environments/sem/lib/python3.8/site-packages/torch/hub.py:365: UserWarning: TORCH_HUB is deprecated, please use env TORCH_HOME instead\n",
            "  warnings.warn('TORCH_HUB is deprecated, please use env TORCH_HOME instead')\n"
          ]
        },
        {
          "name": "stdout",
          "output_type": "stream",
          "text": [
            "ImageClassification(\n",
            "    crop_size=[224]\n",
            "    resize_size=[256]\n",
            "    mean=[0.485, 0.456, 0.406]\n",
            "    std=[0.229, 0.224, 0.225]\n",
            "    interpolation=InterpolationMode.BILINEAR\n",
            ")\n",
            "Files already downloaded and verified\n",
            "Files already downloaded and verified\n"
          ]
        }
      ],
      "source": [
        "weights = ResNet18_Weights.DEFAULT\n",
        "model = resnet18(weights=weights)\n",
        "model.eval()\n",
        "# Initialize the inference transforms\n",
        "preprocess = weights.transforms()\n",
        "print(preprocess)\n",
        "# Apply inference preprocessing transforms to the dataloaders\n",
        "trainset = torchvision.datasets.CIFAR10(root='./data', train=True,\n",
        "                                       download=True, transform=preprocess)\n",
        "\n",
        "trainloader = torch.utils.data.DataLoader(trainset, batch_size=4,\n",
        "                                         shuffle=False, num_workers=2)\n",
        "\n",
        "\n",
        "\n",
        "testset = torchvision.datasets.CIFAR10(root='./data', train=False,\n",
        "                                       download=True, transform=preprocess)\n",
        "\n",
        "testloader = torch.utils.data.DataLoader(testset, batch_size=4,\n",
        "                                         shuffle=False, num_workers=2)\n"
      ]
    },
    {
      "cell_type": "markdown",
      "metadata": {
        "id": "ZAhtHTyN4Qyc"
      },
      "source": [
        "### However, there is a challenge.\n",
        "\n",
        "We cannot apply this network directly to CIFAR 10 for instance, since the output of the pretrained network is 1000 classes (for imagenet), and we only have 10 classes in CIFAR 10.\n",
        "\n",
        "Hence, we need to adapt it."
      ]
    },
    {
      "cell_type": "markdown",
      "metadata": {
        "id": "EmNLNg9K2YO8"
      },
      "source": [
        "## Challenge 1: Extract the last feature and train a net on top on CIFAR 10"
      ]
    },
    {
      "cell_type": "code",
      "execution_count": null,
      "metadata": {
        "id": "ouUDSVvQZD9K",
        "outputId": "810c0a29-5092-460a-d8dc-08528eb00c4c"
      },
      "outputs": [
        {
          "name": "stdout",
          "output_type": "stream",
          "text": [
            "Requirement already satisfied: torchinfo in /projectnb/ivc-ml/kmn5409/environments/sem/lib/python3.8/site-packages (1.8.0)\n"
          ]
        }
      ],
      "source": [
        "!pip install torchinfo"
      ]
    },
    {
      "cell_type": "code",
      "execution_count": null,
      "metadata": {
        "id": "IHsg63jdpGMG",
        "outputId": "77b0210f-4db0-4779-997e-0821232b18f8"
      },
      "outputs": [
        {
          "name": "stdout",
          "output_type": "stream",
          "text": [
            "Requirement already satisfied: torchsummary in /projectnb/ivc-ml/kmn5409/environments/sem/lib/python3.8/site-packages (1.5.1)\n"
          ]
        }
      ],
      "source": [
        "!pip install torchsummary"
      ]
    },
    {
      "cell_type": "code",
      "execution_count": null,
      "metadata": {
        "id": "lfmkMftxYaWt",
        "outputId": "c5b31077-f426-4afc-9159-739e47d301d9"
      },
      "outputs": [
        {
          "name": "stderr",
          "output_type": "stream",
          "text": [
            "/projectnb/ivc-ml/kmn5409/environments/sem/lib/python3.8/site-packages/torchvision/models/_utils.py:208: UserWarning: The parameter 'pretrained' is deprecated since 0.13 and may be removed in the future, please use 'weights' instead.\n",
            "  warnings.warn(\n",
            "/projectnb/ivc-ml/kmn5409/environments/sem/lib/python3.8/site-packages/torchvision/models/_utils.py:223: UserWarning: Arguments other than a weight enum or `None` for 'weights' are deprecated since 0.13 and may be removed in the future. The current behavior is equivalent to passing `weights=ResNet18_Weights.IMAGENET1K_V1`. You can also use `weights=ResNet18_Weights.DEFAULT` to get the most up-to-date weights.\n",
            "  warnings.warn(msg)\n"
          ]
        },
        {
          "name": "stdout",
          "output_type": "stream",
          "text": [
            "----------------------------------------------------------------\n",
            "        Layer (type)               Output Shape         Param #\n",
            "================================================================\n",
            "            Conv2d-1         [-1, 64, 112, 112]           9,408\n",
            "       BatchNorm2d-2         [-1, 64, 112, 112]             128\n",
            "              ReLU-3         [-1, 64, 112, 112]               0\n",
            "         MaxPool2d-4           [-1, 64, 56, 56]               0\n",
            "            Conv2d-5           [-1, 64, 56, 56]          36,864\n",
            "       BatchNorm2d-6           [-1, 64, 56, 56]             128\n",
            "              ReLU-7           [-1, 64, 56, 56]               0\n",
            "            Conv2d-8           [-1, 64, 56, 56]          36,864\n",
            "       BatchNorm2d-9           [-1, 64, 56, 56]             128\n",
            "             ReLU-10           [-1, 64, 56, 56]               0\n",
            "       BasicBlock-11           [-1, 64, 56, 56]               0\n",
            "           Conv2d-12           [-1, 64, 56, 56]          36,864\n",
            "      BatchNorm2d-13           [-1, 64, 56, 56]             128\n",
            "             ReLU-14           [-1, 64, 56, 56]               0\n",
            "           Conv2d-15           [-1, 64, 56, 56]          36,864\n",
            "      BatchNorm2d-16           [-1, 64, 56, 56]             128\n",
            "             ReLU-17           [-1, 64, 56, 56]               0\n",
            "       BasicBlock-18           [-1, 64, 56, 56]               0\n",
            "           Conv2d-19          [-1, 128, 28, 28]          73,728\n",
            "      BatchNorm2d-20          [-1, 128, 28, 28]             256\n",
            "             ReLU-21          [-1, 128, 28, 28]               0\n",
            "           Conv2d-22          [-1, 128, 28, 28]         147,456\n",
            "      BatchNorm2d-23          [-1, 128, 28, 28]             256\n",
            "           Conv2d-24          [-1, 128, 28, 28]           8,192\n",
            "      BatchNorm2d-25          [-1, 128, 28, 28]             256\n",
            "             ReLU-26          [-1, 128, 28, 28]               0\n",
            "       BasicBlock-27          [-1, 128, 28, 28]               0\n",
            "           Conv2d-28          [-1, 128, 28, 28]         147,456\n",
            "      BatchNorm2d-29          [-1, 128, 28, 28]             256\n",
            "             ReLU-30          [-1, 128, 28, 28]               0\n",
            "           Conv2d-31          [-1, 128, 28, 28]         147,456\n",
            "      BatchNorm2d-32          [-1, 128, 28, 28]             256\n",
            "             ReLU-33          [-1, 128, 28, 28]               0\n",
            "       BasicBlock-34          [-1, 128, 28, 28]               0\n",
            "           Conv2d-35          [-1, 256, 14, 14]         294,912\n",
            "      BatchNorm2d-36          [-1, 256, 14, 14]             512\n",
            "             ReLU-37          [-1, 256, 14, 14]               0\n",
            "           Conv2d-38          [-1, 256, 14, 14]         589,824\n",
            "      BatchNorm2d-39          [-1, 256, 14, 14]             512\n",
            "           Conv2d-40          [-1, 256, 14, 14]          32,768\n",
            "      BatchNorm2d-41          [-1, 256, 14, 14]             512\n",
            "             ReLU-42          [-1, 256, 14, 14]               0\n",
            "       BasicBlock-43          [-1, 256, 14, 14]               0\n",
            "           Conv2d-44          [-1, 256, 14, 14]         589,824\n",
            "      BatchNorm2d-45          [-1, 256, 14, 14]             512\n",
            "             ReLU-46          [-1, 256, 14, 14]               0\n",
            "           Conv2d-47          [-1, 256, 14, 14]         589,824\n",
            "      BatchNorm2d-48          [-1, 256, 14, 14]             512\n",
            "             ReLU-49          [-1, 256, 14, 14]               0\n",
            "       BasicBlock-50          [-1, 256, 14, 14]               0\n",
            "           Conv2d-51            [-1, 512, 7, 7]       1,179,648\n",
            "      BatchNorm2d-52            [-1, 512, 7, 7]           1,024\n",
            "             ReLU-53            [-1, 512, 7, 7]               0\n",
            "           Conv2d-54            [-1, 512, 7, 7]       2,359,296\n",
            "      BatchNorm2d-55            [-1, 512, 7, 7]           1,024\n",
            "           Conv2d-56            [-1, 512, 7, 7]         131,072\n",
            "      BatchNorm2d-57            [-1, 512, 7, 7]           1,024\n",
            "             ReLU-58            [-1, 512, 7, 7]               0\n",
            "       BasicBlock-59            [-1, 512, 7, 7]               0\n",
            "           Conv2d-60            [-1, 512, 7, 7]       2,359,296\n",
            "      BatchNorm2d-61            [-1, 512, 7, 7]           1,024\n",
            "             ReLU-62            [-1, 512, 7, 7]               0\n",
            "           Conv2d-63            [-1, 512, 7, 7]       2,359,296\n",
            "      BatchNorm2d-64            [-1, 512, 7, 7]           1,024\n",
            "             ReLU-65            [-1, 512, 7, 7]               0\n",
            "       BasicBlock-66            [-1, 512, 7, 7]               0\n",
            "AdaptiveAvgPool2d-67            [-1, 512, 1, 1]               0\n",
            "           Linear-68                 [-1, 1000]         513,000\n",
            "================================================================\n",
            "Total params: 11,689,512\n",
            "Trainable params: 11,689,512\n",
            "Non-trainable params: 0\n",
            "----------------------------------------------------------------\n",
            "Input size (MB): 0.57\n",
            "Forward/backward pass size (MB): 62.79\n",
            "Params size (MB): 44.59\n",
            "Estimated Total Size (MB): 107.96\n",
            "----------------------------------------------------------------\n"
          ]
        }
      ],
      "source": [
        "from torchsummary import summary\n",
        "model1 = models.resnet18(pretrained=True).to(device)\n",
        "#model1.eval()\n",
        "summary(model1, input_size=(3, 224, 224))"
      ]
    },
    {
      "cell_type": "code",
      "execution_count": null,
      "metadata": {
        "id": "1ZqnLQn-2kmD",
        "outputId": "85f9da87-a76d-482e-9053-16733d924ba0"
      },
      "outputs": [
        {
          "name": "stderr",
          "output_type": "stream",
          "text": [
            "2023it [00:09, 209.39it/s]"
          ]
        },
        {
          "name": "stdout",
          "output_type": "stream",
          "text": [
            "[1,  2000] loss: 0.719\n"
          ]
        },
        {
          "name": "stderr",
          "output_type": "stream",
          "text": [
            "4022it [00:19, 214.31it/s]"
          ]
        },
        {
          "name": "stdout",
          "output_type": "stream",
          "text": [
            "[1,  4000] loss: 0.543\n"
          ]
        },
        {
          "name": "stderr",
          "output_type": "stream",
          "text": [
            "6024it [00:28, 215.28it/s]"
          ]
        },
        {
          "name": "stdout",
          "output_type": "stream",
          "text": [
            "[1,  6000] loss: 0.516\n"
          ]
        },
        {
          "name": "stderr",
          "output_type": "stream",
          "text": [
            "8028it [00:37, 213.65it/s]"
          ]
        },
        {
          "name": "stdout",
          "output_type": "stream",
          "text": [
            "[1,  8000] loss: 0.506\n"
          ]
        },
        {
          "name": "stderr",
          "output_type": "stream",
          "text": [
            "10030it [00:47, 214.01it/s]"
          ]
        },
        {
          "name": "stdout",
          "output_type": "stream",
          "text": [
            "[1, 10000] loss: 0.509\n"
          ]
        },
        {
          "name": "stderr",
          "output_type": "stream",
          "text": [
            "12029it [00:56, 214.28it/s]"
          ]
        },
        {
          "name": "stdout",
          "output_type": "stream",
          "text": [
            "[1, 12000] loss: 0.472\n"
          ]
        },
        {
          "name": "stderr",
          "output_type": "stream",
          "text": [
            "12500it [00:58, 212.47it/s]\n"
          ]
        },
        {
          "name": "stdout",
          "output_type": "stream",
          "text": [
            "Accuracy of the network on the 10000 test images: 84.48%\n",
            "Avg time taken for prediction: 0.0029301332473754883\n"
          ]
        }
      ],
      "source": [
        "from torchsummary import summary\n",
        "device = torch.device('cuda:0' if torch.cuda.is_available() else 'cpu')\n",
        "\n",
        "newmodel = models.resnet18(pretrained=True).to(device)\n",
        "newmodel.eval()\n",
        "\n",
        "# step 1: make a new network that will replace the resnet head, you can add more layers if you like and compare the results\n",
        "out_dim = 512\n",
        "class MyNewResnet(nn.Module):\n",
        "  def __init__(self):\n",
        "        super(MyNewResnet, self).__init__()\n",
        "        #Create a linear layer with the input being the output dimension size and the output size being the number of classes in CIFAR-10\n",
        "        self.fc3 = nn.\n",
        "\n",
        "  def forward(self, x):\n",
        "      x = self.fc3(x)\n",
        "      return x\n",
        "\n",
        "\n",
        "new_resnet = MyNewResnet().to(device)\n",
        "#This replaces the Resnet classification head with our fully connected layer\n",
        "newmodel.fc = new_resnet\n",
        "\n",
        "#Here we freeze the previous layers in ResNet and only update the parameters in the final fully connected layer\n",
        "for param in newmodel.parameters():\n",
        "    param.requires_grad = False\n",
        "for param in newmodel.fc.parameters():\n",
        "  param.requires_grad = True\n",
        "\n",
        "\n",
        "# Define the loss function and optimizer\n",
        "criterion = nn.CrossEntropyLoss()\n",
        "optimizer = optim.SGD(newmodel.parameters(), lr=0.001, momentum=0.9)\n",
        "\n",
        "# step 3: train this new network on CIFAR 10\n",
        "# Training the network\n",
        "for epoch in range(1):  # loop over the dataset multiple times\n",
        "\n",
        "    running_loss = 0.0\n",
        "    for i, data in tqdm.tqdm(enumerate(trainloader, 0)):\n",
        "        # get the inputs\n",
        "        inputs, labels =\n",
        "        # zero the parameter gradients\n",
        "\n",
        "        # forward + backward + optimize\n",
        "\n",
        "        # print statistics\n",
        "        running_loss += loss.item()\n",
        "        if i % 2000 == 1999:  # print every 2000 mini-batches\n",
        "            print('[%d, %5d] loss: %.3f' %\n",
        "                  (epoch + 1, i + 1, running_loss / 2000))\n",
        "            running_loss = 0.0\n",
        "\n",
        "\n",
        "# step 4: test the accuracy\n",
        "correct = 0\n",
        "total = 0\n",
        "avg_time = []\n",
        "for data in testloader:\n",
        "    images, labels = data\n",
        "    start = time.time()\n",
        "    #outputs = newmodel(images.cuda())\n",
        "    outputs = newmodel(images.to(device))\n",
        "    _, predicted = torch.max(outputs.data, 1)\n",
        "    end = time.time()\n",
        "    total += labels.size(0)\n",
        "    correct += (predicted.cpu() == labels).sum().item()\n",
        "    time_taken = end - start\n",
        "    avg_time.append(time_taken)\n",
        "\n",
        "print(f\"Accuracy of the network on the 10000 test images: {100 * correct / total}%\")\n",
        "print(f\"Avg time taken for prediction: {np.average(avg_time)}\")\n",
        "\n",
        "\n"
      ]
    },
    {
      "cell_type": "markdown",
      "source": [
        "# Here we are simply increasing the number of epochs to see if it improves performance"
      ],
      "metadata": {
        "id": "E34q79Ue2FnV"
      }
    },
    {
      "cell_type": "code",
      "execution_count": null,
      "metadata": {
        "id": "IV8FP6af13QB",
        "outputId": "b2883a10-b466-493f-fc81-ecb68fd9824c"
      },
      "outputs": [
        {
          "name": "stderr",
          "output_type": "stream",
          "text": [
            "2030it [00:09, 220.88it/s]"
          ]
        },
        {
          "name": "stdout",
          "output_type": "stream",
          "text": [
            "[1,  2000] loss: 0.718\n"
          ]
        },
        {
          "name": "stderr",
          "output_type": "stream",
          "text": [
            "4037it [00:19, 206.08it/s]"
          ]
        },
        {
          "name": "stdout",
          "output_type": "stream",
          "text": [
            "[1,  4000] loss: 0.546\n"
          ]
        },
        {
          "name": "stderr",
          "output_type": "stream",
          "text": [
            "6035it [00:28, 217.70it/s]"
          ]
        },
        {
          "name": "stdout",
          "output_type": "stream",
          "text": [
            "[1,  6000] loss: 0.520\n"
          ]
        },
        {
          "name": "stderr",
          "output_type": "stream",
          "text": [
            "8035it [00:37, 214.66it/s]"
          ]
        },
        {
          "name": "stdout",
          "output_type": "stream",
          "text": [
            "[1,  8000] loss: 0.506\n"
          ]
        },
        {
          "name": "stderr",
          "output_type": "stream",
          "text": [
            "10040it [00:47, 215.27it/s]"
          ]
        },
        {
          "name": "stdout",
          "output_type": "stream",
          "text": [
            "[1, 10000] loss: 0.508\n"
          ]
        },
        {
          "name": "stderr",
          "output_type": "stream",
          "text": [
            "12028it [00:56, 217.07it/s]"
          ]
        },
        {
          "name": "stdout",
          "output_type": "stream",
          "text": [
            "[1, 12000] loss: 0.473\n"
          ]
        },
        {
          "name": "stderr",
          "output_type": "stream",
          "text": [
            "12500it [00:58, 213.15it/s]\n",
            "2036it [00:10, 200.44it/s]"
          ]
        },
        {
          "name": "stdout",
          "output_type": "stream",
          "text": [
            "[2,  2000] loss: 0.454\n"
          ]
        },
        {
          "name": "stderr",
          "output_type": "stream",
          "text": [
            "4022it [00:19, 205.64it/s]"
          ]
        },
        {
          "name": "stdout",
          "output_type": "stream",
          "text": [
            "[2,  4000] loss: 0.470\n"
          ]
        },
        {
          "name": "stderr",
          "output_type": "stream",
          "text": [
            "6039it [00:29, 206.88it/s]"
          ]
        },
        {
          "name": "stdout",
          "output_type": "stream",
          "text": [
            "[2,  6000] loss: 0.464\n"
          ]
        },
        {
          "name": "stderr",
          "output_type": "stream",
          "text": [
            "8041it [00:39, 206.83it/s]"
          ]
        },
        {
          "name": "stdout",
          "output_type": "stream",
          "text": [
            "[2,  8000] loss: 0.465\n"
          ]
        },
        {
          "name": "stderr",
          "output_type": "stream",
          "text": [
            "10021it [00:48, 208.12it/s]"
          ]
        },
        {
          "name": "stdout",
          "output_type": "stream",
          "text": [
            "[2, 10000] loss: 0.472\n"
          ]
        },
        {
          "name": "stderr",
          "output_type": "stream",
          "text": [
            "12031it [00:58, 206.63it/s]"
          ]
        },
        {
          "name": "stdout",
          "output_type": "stream",
          "text": [
            "[2, 12000] loss: 0.442\n"
          ]
        },
        {
          "name": "stderr",
          "output_type": "stream",
          "text": [
            "12500it [01:00, 205.32it/s]\n",
            "2029it [00:09, 213.43it/s]"
          ]
        },
        {
          "name": "stdout",
          "output_type": "stream",
          "text": [
            "[3,  2000] loss: 0.433\n"
          ]
        },
        {
          "name": "stderr",
          "output_type": "stream",
          "text": [
            "4031it [00:19, 216.59it/s]"
          ]
        },
        {
          "name": "stdout",
          "output_type": "stream",
          "text": [
            "[3,  4000] loss: 0.452\n"
          ]
        },
        {
          "name": "stderr",
          "output_type": "stream",
          "text": [
            "6041it [00:28, 216.35it/s]"
          ]
        },
        {
          "name": "stdout",
          "output_type": "stream",
          "text": [
            "[3,  6000] loss: 0.447\n"
          ]
        },
        {
          "name": "stderr",
          "output_type": "stream",
          "text": [
            "8039it [00:37, 215.15it/s]"
          ]
        },
        {
          "name": "stdout",
          "output_type": "stream",
          "text": [
            "[3,  8000] loss: 0.450\n"
          ]
        },
        {
          "name": "stderr",
          "output_type": "stream",
          "text": [
            "10023it [00:47, 214.20it/s]"
          ]
        },
        {
          "name": "stdout",
          "output_type": "stream",
          "text": [
            "[3, 10000] loss: 0.457\n"
          ]
        },
        {
          "name": "stderr",
          "output_type": "stream",
          "text": [
            "12033it [00:56, 218.61it/s]"
          ]
        },
        {
          "name": "stdout",
          "output_type": "stream",
          "text": [
            "[3, 12000] loss: 0.427\n"
          ]
        },
        {
          "name": "stderr",
          "output_type": "stream",
          "text": [
            "12500it [00:58, 212.84it/s]\n"
          ]
        },
        {
          "name": "stdout",
          "output_type": "stream",
          "text": [
            "Accuracy of the network on the 10000 test images: 85.42%\n",
            "Avg time taken for prediction: 0.0029567681312561035\n"
          ]
        }
      ],
      "source": [
        "from torchsummary import summary\n",
        "device = torch.device('cuda:0' if torch.cuda.is_available() else 'cpu')\n",
        "\n",
        "newmodel = models.resnet18(pretrained=True).to(device)\n",
        "newmodel.eval()\n",
        "\n",
        "# step 1: make a new network that will replace the resnet head, you can add more layers if you like and compare the results\n",
        "out_dim = 512\n",
        "class MyNewResnet(nn.Module):\n",
        "  def __init__(self):\n",
        "        super(MyNewResnet, self).__init__()\n",
        "\n",
        "        #Create a linear layer with the input being the output dimension size and the output size being the number of classes in CIFAR-10\n",
        "        self.fc3 = nn.\n",
        "\n",
        "  def forward(self, x):\n",
        "      x = self.fc3(x)\n",
        "      return x\n",
        "\n",
        "\n",
        "new_resnet = MyNewResnet().to(device)\n",
        "#This replaces the Resnet classification head with our fully connected layer\n",
        "newmodel.fc = new_resnet\n",
        "#print(new_resnet)\n",
        "for param in newmodel.parameters():\n",
        "    param.requires_grad = False\n",
        "for param in newmodel.fc.parameters():\n",
        "  param.requires_grad = True\n",
        "\n",
        "\n",
        "# Define the loss function and optimizer\n",
        "criterion = nn.CrossEntropyLoss()\n",
        "optimizer = optim.SGD(newmodel.parameters(), lr=0.001, momentum=0.9)\n",
        "\n",
        "# step 3: train this new network on CIFAR 10\n",
        "# Training the network\n",
        "for epoch in range(3):  # loop over the dataset multiple times\n",
        "\n",
        "    running_loss = 0.0\n",
        "    for i, data in tqdm.tqdm(enumerate(trainloader, 0)):\n",
        "        # get the inputs\n",
        "        inputs, labels =\n",
        "        # zero the parameter gradients\n",
        "\n",
        "\n",
        "        # forward + backward + optimize\n",
        "\n",
        "        # print statistics\n",
        "        running_loss += loss.item()\n",
        "        if i % 2000 == 1999:  # print every 2000 mini-batches\n",
        "            print('[%d, %5d] loss: %.3f' %\n",
        "                  (epoch + 1, i + 1, running_loss / 2000))\n",
        "            running_loss = 0.0\n",
        "\n",
        "\n",
        "# step 4: test the accuracy\n",
        "correct = 0\n",
        "total = 0\n",
        "avg_time = []\n",
        "for data in testloader:\n",
        "    images, labels = data\n",
        "    start = time.time()\n",
        "    outputs = newmodel(images.to(device))\n",
        "    _, predicted = torch.max(outputs.data, 1)\n",
        "    end = time.time()\n",
        "    total += labels.size(0)\n",
        "    correct += (predicted.cpu() == labels).sum().item()\n",
        "    time_taken = end - start\n",
        "    avg_time.append(time_taken)\n",
        "\n",
        "print(f\"Accuracy of the network on the 10000 test images: {100 * correct / total}%\")\n",
        "print(f\"Avg time taken for prediction: {np.average(avg_time)}\")\n",
        "\n",
        "\n"
      ]
    },
    {
      "cell_type": "markdown",
      "source": [
        "### Challenge : Repeat the same for ResNet 50 and observe the change in accuracy! :p"
      ],
      "metadata": {
        "id": "IjjZ_nB_Uyco"
      }
    },
    {
      "cell_type": "markdown",
      "metadata": {
        "id": "fn60KnCWr6nL"
      },
      "source": [
        "### Misc Notes:\n",
        "\n",
        "Fore more state-of-the art models, refer to Huggingface. https://huggingface.co/models\n",
        "\n",
        "https://www.cs.cmu.edu/~epxing/Class/10708-19/notes/lecture-16/ - CNN section.\n",
        "https://proceedings.neurips.cc/paper_files/paper/2012/file/c399862d3b9d6b76c8436e924a68c45b-Paper.pdf - NeurIPS paper that showed feature hierarchy in CNN's.\n",
        "\n",
        "\n",
        "\n"
      ]
    }
  ],
  "metadata": {
    "accelerator": "GPU",
    "colab": {
      "gpuType": "T4",
      "provenance": []
    },
    "kernelspec": {
      "display_name": "Python 3 (ipykernel)",
      "language": "python",
      "name": "python3"
    },
    "language_info": {
      "codemirror_mode": {
        "name": "ipython",
        "version": 3
      },
      "file_extension": ".py",
      "mimetype": "text/x-python",
      "name": "python",
      "nbconvert_exporter": "python",
      "pygments_lexer": "ipython3",
      "version": "3.8.18"
    }
  },
  "nbformat": 4,
  "nbformat_minor": 0
}