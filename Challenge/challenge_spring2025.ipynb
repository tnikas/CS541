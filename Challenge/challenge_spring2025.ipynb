{
  "cells": [
    {
      "cell_type": "markdown",
      "id": "6f7bcf9e",
      "metadata": {
        "id": "6f7bcf9e"
      },
      "source": [
        "# CS541 Applied Machine Learning Spring 2025 - Class Challenge\n",
        "\n",
        "In this class challenge assignment, you will be building a machine learning model to predict the price of an Airbnb rental, given the dataset we have provided. Total points: **100 pts**"
      ]
    },
    {
      "cell_type": "markdown",
      "id": "ac1a309c",
      "metadata": {
        "id": "ac1a309c"
      },
      "source": [
        "To submit your solution, you need to submit a python (.py) file named challenge.py on Gradescope.\n",
        "Initial Submission due on April 22, 2025\n",
        "Final Submission due May 1, 2025\n",
        "\n",
        "The top-3 winners will present their methodology on the last day of class (May 1st). Instructions on the presentation to follow.\n",
        "\n",
        "There will be a Leaderboard for the challenge that can be seen by all students. USE YOUR FULL NAME AND NO NICKNAMES."
      ]
    },
    {
      "cell_type": "markdown",
      "id": "9f5dd172",
      "metadata": {
        "id": "9f5dd172"
      },
      "source": [
        "To encourage you to get started early on the challenge, you are required to submit an initial submission due on **April 22**. For this submission, your model needs to achieve a MSE of 0.16 or lower denoted as Baseline1.csv in the Kaggle Leaderboard. The final submission will be due on **May 1**.\n"
      ]
    },
    {
      "cell_type": "markdown",
      "id": "27cf921c",
      "metadata": {
        "id": "27cf921c"
      },
      "source": [
        "## Problem and dataset description\n",
        "Pricing a rental property such as an apartment or house on Airbnb is a difficult challenge. A model that accurately predicts the price can potentially help renters and hosts on the platform make better decisions. In this assignment, your task is to train a model that takes features of a listing as input and predicts the price.\n",
        "\n",
        "We have provided you with a dataset collected from the Airbnb website for New York, which has a total of 29,985 entries, each with 765 features. You may use the provided data as you wish in development. We will train your submitted code on the same provided dataset, and will evaluate it on 2 other test sets (one public, and one hidden during the challenge).\n",
        "\n",
        "We have already done some minimal data cleaning for you, such as converting text fields into categorical values and getting rid of the NaN values. To convert text fields into categorical values, we used different strategies depending on the field. For example, sentiment analysis was applied to convert user reviews to numerical values ('comments' column). We added different columns for state names, '1' indicating the location of the property. Column names are included in the data files and are mostly descriptive.\n",
        "\n",
        "Also in this data cleaning step, the price value that we are trying to predict is calculated by taking the log of original price. Hence, the minimum value for our output price is around 2.302 and maximum value is around 9.21 on the training set.\n"
      ]
    },
    {
      "cell_type": "markdown",
      "id": "90de1040",
      "metadata": {
        "id": "90de1040"
      },
      "source": [
        "## Datasets and Codebase\n",
        "\n",
        "Please download the zip file from the link posted on Piazza/Resources.\n",
        "In this notebook, we implemented a linear regression model with random weights (**attached in the end**). For datasets, there’re 2 CSV files for features and labels:\n",
        "\n",
        "    challenge.ipynb (This file: you need to add your code in here, convert it to .py to submit)\n",
        "    data_cleaned_train_comments_X.csv\n",
        "    data_cleaned_train_y.csv\n"
      ]
    },
    {
      "cell_type": "markdown",
      "id": "2975d36d",
      "metadata": {
        "id": "2975d36d"
      },
      "source": [
        "## Instructions to build your model\n",
        "1.  Implement your model in **challenge.ipynb**. You need to modify the *train()* and *predict()* methods of **Model** class (*attached at the end of this notebook*). You can also add other methods/attributes  to the class, or even add new classes in the same file if needed, but do NOT change the signatures of the *train()* and *predict()* as we will call these 2 methods for evaluating your model.\n",
        "\n",
        "2. To submit, you need to convert your notebook (.ipynb) to a python **(.py)** file. Make sure in the python file, it has a class named **Model**, and in the class, there are two methods: *train* and *predict*. Other experimental code should be removed if needed to avoid time limit exceeded on gradescope.\n",
        "\n",
        "3.  You can submit your code on gradescope to test your model. You can submit as many times you like. The last submission will count as the final model.\n",
        "\n",
        "An example linear regression model with random weights is provided to you in this notebook. Please take a look and replace the code with your own.\n"
      ]
    },
    {
      "cell_type": "markdown",
      "id": "0ceafaf4",
      "metadata": {
        "id": "0ceafaf4"
      },
      "source": [
        "## Evaluation\n",
        "\n",
        "We will evaluate your model as follows\n",
        "\n",
        "    model = Model() # Model class imported from your submission\n",
        "    X_train = pd.read_csv(\"data_cleaned_train_comments_X.csv\")  # pandas Dataframe\n",
        "    y_train = pd.read_csv(\"data_cleaned_train_y.csv\")  # pandas Dataframe\n",
        "    model.train(X_train, y_train) # train your model on the dataset provided to you\n",
        "    y_pred = model.predict(X_test) # test your model on the hidden test set (pandas Dataframe)\n",
        "    mse = mean_squared_error(y_test, y_pred) # compute mean squared error\n",
        "\n",
        "\n",
        "**There will be 2 test sets, one is public which means you can see MSE on this test set on the Leaderboard (denoted as *MSE (PUBLIC TESTSET)*), and the other one is hidden during the challenge (denoted as *MSE (HIDDEN TESTSET)*)**.\n",
        "Your score on the hidden test set will be your performance measure. So, don’t try to overfit your model on the public test set. Your final grade will depend on the following criteria:\n"
      ]
    },
    {
      "cell_type": "markdown",
      "id": "21fed96b",
      "metadata": {
        "id": "21fed96b"
      },
      "source": [
        "1.  \tIs it original code (implemented by you)? Use of Generative AI to generate code will be flagged as academic misconduct and will be reported to the Academic Conduct Committee (ACC)\n",
        "2.  \tDoes it take a reasonable time to complete?\n",
        "    Your model needs to finish running in under 40 minutes on our machine. We run the code on a machine with 4 CPUs, 6.0GB RAM.\n",
        "3.  \tDoes it achieve a reasonable MSE?\n",
        "    - **Initial submission (10 pts)**: Your model has to be better than the simplest model results which should be a MSE of 0.16 or lower denoted as Baseline1.csv in the leaderboard. Note this will due on **April 22**.\n",
        "    \n",
        "    The grade will be linearly interpolated for the submissions that lie in between the checkpoints above. We will use MSE on the hidden test set to evaluate your model (lower is better).\n",
        "\n",
        "    **Bonus**: **Top 3** with the best MSE on the hidden test set will get a 5 point bonus."
      ]
    },
    {
      "cell_type": "markdown",
      "id": "OxWbj0VbXQmT",
      "metadata": {
        "id": "OxWbj0VbXQmT"
      },
      "source": [
        "# Answer the below questions (in the final submission due on May 1st)"
      ]
    },
    {
      "cell_type": "markdown",
      "id": "hO-1KGKaXS4I",
      "metadata": {
        "id": "hO-1KGKaXS4I"
      },
      "source": [
        "1. What are the top-5 features contributed the most towards the performance? How did you identify these features? Your answer should be between 300-350 words.\n",
        "\n",
        "2. What are the top-5 features contributed the least towards the performance? Your answer should be between 300-350 words.\n",
        "\n",
        "3. Share the training and validation loss plots\n",
        "Title of the plot should indicate the number of training / validation data points used.\n"
      ]
    },
    {
      "cell_type": "markdown",
      "id": "G_N8us4LXWRi",
      "metadata": {
        "id": "G_N8us4LXWRi"
      },
      "source": [
        "# Notes & Code"
      ]
    },
    {
      "cell_type": "markdown",
      "id": "d21b02dd",
      "metadata": {
        "id": "d21b02dd"
      },
      "source": [
        "**Note 1: This is a regression problem** in which we want to predict the price for an AirBnB property. You should try different models and finetune their hyper parameters.  A little feature engineering can also help to boost the performance.\n",
        "\n",
        "**Note 2**: You may NOT use additional datasets. This assignment is meant to challenge you to build a better model, not collect more training data, so please only use the data we provided. We tested the code on Python 3.10 and 3.9, thus it’s highly recommended to use these Python versions for the challenge.\n"
      ]
    },
    {
      "cell_type": "markdown",
      "id": "d0423bd7",
      "metadata": {
        "id": "d0423bd7"
      },
      "source": [
        "In this challenge, you can only use built-in python modules, and these following:\n",
        "- Numpy\n",
        "- pandas\n",
        "- scikit_learn\n",
        "- matplotlib\n",
        "- scipy\n",
        "- torchsummary\n",
        "- xgboost\n",
        "- torchmetrics\n",
        "- lightgbm\n",
        "- catboost\n",
        "- torch\n",
        "\n"
      ]
    },
    {
      "cell_type": "code",
      "execution_count": null,
      "id": "49f69c67",
      "metadata": {
        "id": "49f69c67"
      },
      "outputs": [],
      "source": [
        "### Sample code for the challenge\n",
        "\n",
        "from typing import Tuple\n",
        "import numpy as np\n",
        "import pandas as pd\n",
        "\n",
        "class Model:\n",
        "    # Modify your model, default is a linear regression model with random weights\n",
        "\n",
        "    def __init__(self):\n",
        "        self.theta = None\n",
        "\n",
        "    def train(self, X_train: pd.DataFrame, y_train: pd.DataFrame) -> None:\n",
        "        \"\"\"\n",
        "        Train model with training data.\n",
        "        Currently, we use a linear regression with random weights\n",
        "        You need to modify this function.\n",
        "        :param X_train: shape (N,d)\n",
        "        :param y_train: shape (N,1)\n",
        "            where N is the number of observations, d is feature dimension\n",
        "        :return: None\n",
        "        \"\"\"\n",
        "        N, d = X_train.shape\n",
        "        self.theta = np.random.randn(d, 1)\n",
        "        return None\n",
        "\n",
        "    def predict(self, X_test: pd.DataFrame) -> np.array:\n",
        "        \"\"\"\n",
        "        Use the trained model to predict on un-seen dataset\n",
        "        You need to modify this function\n",
        "        :param X_test: shape (N, d), where N is the number of observations, d is feature dimension\n",
        "        return: prediction, shape (N,1)\n",
        "        \"\"\"\n",
        "        y_pred = X_test @ self.theta\n",
        "        return y_pred"
      ]
    },
    {
      "cell_type": "markdown",
      "id": "001404a3",
      "metadata": {
        "id": "001404a3"
      },
      "source": [
        "**GOOD LUCK!**\n"
      ]
    }
  ],
  "metadata": {
    "colab": {
      "collapsed_sections": [
        "OxWbj0VbXQmT"
      ],
      "provenance": []
    },
    "hide_input": false,
    "kernelspec": {
      "display_name": "py39",
      "language": "python",
      "name": "py39"
    },
    "language_info": {
      "codemirror_mode": {
        "name": "ipython",
        "version": 3
      },
      "file_extension": ".py",
      "mimetype": "text/x-python",
      "name": "python",
      "nbconvert_exporter": "python",
      "pygments_lexer": "ipython3",
      "version": "3.9.10"
    },
    "toc": {
      "base_numbering": 1,
      "nav_menu": {},
      "number_sections": true,
      "sideBar": true,
      "skip_h1_title": false,
      "title_cell": "Table of Contents",
      "title_sidebar": "Contents",
      "toc_cell": false,
      "toc_position": {},
      "toc_section_display": true,
      "toc_window_display": false
    }
  },
  "nbformat": 4,
  "nbformat_minor": 5
}